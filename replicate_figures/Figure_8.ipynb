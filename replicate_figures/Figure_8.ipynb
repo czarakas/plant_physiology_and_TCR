{
 "cells": [
  {
   "cell_type": "markdown",
   "metadata": {},
   "source": [
    "##### ----------------------Notes---------------------\n",
    "* This code uses regridded datafiles.\n",
    "\n",
    "##### ------------------------------------------------"
   ]
  },
  {
   "cell_type": "markdown",
   "metadata": {},
   "source": [
    "### Set up workspace"
   ]
  },
  {
   "cell_type": "code",
   "execution_count": 1,
   "metadata": {},
   "outputs": [],
   "source": [
    "import sys\n",
    "sys.path.append('../')"
   ]
  },
  {
   "cell_type": "code",
   "execution_count": 2,
   "metadata": {},
   "outputs": [],
   "source": [
    "import importlib #importlib.reload(ET_stats)\n",
    "import matplotlib.pyplot as plt\n",
    "from matplotlib import rc\n",
    "\n",
    "from plants_and_TCR.analysis_parameters import get_CMIP_info\n",
    "from plants_and_TCR.analysis_parameters import directory_information\n",
    "from plants_and_TCR.analyze_data import ET_stats\n",
    "from plants_and_TCR.analyze_data import multi_model_stats as mms\n",
    "from plants_and_TCR.process_data import make_processed_data_dict \n",
    "from plants_and_TCR.process_data import regrid_and_process_datafiles "
   ]
  },
  {
   "cell_type": "code",
   "execution_count": 18,
   "metadata": {},
   "outputs": [],
   "source": [
    "PATH_REGRIDDED_DATA = directory_information.DIR_PROCESSED_DATA\n",
    "PATH_FIGURES = directory_information.DIR_OUTPUT_FIGURES\n",
    "rc('font',**{'family':'sans-serif','sans-serif':['Arial']})"
   ]
  },
  {
   "cell_type": "markdown",
   "metadata": {},
   "source": [
    "### Regrid Data if Necessary (only need to do this once)"
   ]
  },
  {
   "cell_type": "code",
   "execution_count": 4,
   "metadata": {
    "collapsed": true,
    "jupyter": {
     "outputs_hidden": true
    }
   },
   "outputs": [
    {
     "name": "stdout",
     "output_type": "stream",
     "text": [
      "lai_1pctCO2-rad_CMIP5_bcc-csm1-1\n",
      "Overwrite existing file: bilinear_64x128_192x288_peri.nc \n",
      " You can set reuse_weights=True to save computing time.\n",
      "using dimensions ('lat', 'lon') from data variable lai as the horizontal dimensions for this dataset.\n",
      "lai_1pctCO2-bgc_CMIP5_bcc-csm1-1\n",
      "Overwrite existing file: bilinear_64x128_192x288_peri.nc \n",
      " You can set reuse_weights=True to save computing time.\n",
      "using dimensions ('lat', 'lon') from data variable lai as the horizontal dimensions for this dataset.\n",
      "lai_1pctCO2_CMIP5_bcc-csm1-1\n",
      "Overwrite existing file: bilinear_64x128_192x288_peri.nc \n",
      " You can set reuse_weights=True to save computing time.\n",
      "using dimensions ('lat', 'lon') from data variable lai as the horizontal dimensions for this dataset.\n",
      "lai_piControl_CMIP5_bcc-csm1-1\n",
      "Overwrite existing file: bilinear_64x128_192x288_peri.nc \n",
      " You can set reuse_weights=True to save computing time.\n",
      "using dimensions ('lat', 'lon') from data variable lai as the horizontal dimensions for this dataset.\n",
      "lai_1pctCO2-rad_CMIP5_CanESM2\n",
      "Overwrite existing file: bilinear_64x128_192x288_peri.nc \n",
      " You can set reuse_weights=True to save computing time.\n",
      "using dimensions ('lat', 'lon') from data variable lai as the horizontal dimensions for this dataset.\n",
      "lai_1pctCO2-bgc_CMIP5_CanESM2\n",
      "Overwrite existing file: bilinear_64x128_192x288_peri.nc \n",
      " You can set reuse_weights=True to save computing time.\n",
      "using dimensions ('lat', 'lon') from data variable lai as the horizontal dimensions for this dataset.\n",
      "lai_1pctCO2_CMIP5_CanESM2\n",
      "Overwrite existing file: bilinear_64x128_192x288_peri.nc \n",
      " You can set reuse_weights=True to save computing time.\n",
      "using dimensions ('lat', 'lon') from data variable lai as the horizontal dimensions for this dataset.\n",
      "CanESM2_piControl_lai not in the dictionary\n",
      "lai_piControl_CMIP5_CanESM2 is not in the dictionary\n",
      "lai_1pctCO2-rad_CMIP5_CESM1-BGC\n",
      "Overwrite existing file: bilinear_192x288_192x288_peri.nc \n",
      " You can set reuse_weights=True to save computing time.\n",
      "using dimensions ('lat', 'lon') from data variable lai as the horizontal dimensions for this dataset.\n",
      "lai_1pctCO2-bgc_CMIP5_CESM1-BGC\n",
      "Overwrite existing file: bilinear_192x288_192x288_peri.nc \n",
      " You can set reuse_weights=True to save computing time.\n",
      "using dimensions ('lat', 'lon') from data variable lai as the horizontal dimensions for this dataset.\n",
      "lai_1pctCO2_CMIP5_CESM1-BGC\n",
      "Overwrite existing file: bilinear_192x288_192x288_peri.nc \n",
      " You can set reuse_weights=True to save computing time.\n",
      "using dimensions ('lat', 'lon') from data variable lai as the horizontal dimensions for this dataset.\n",
      "CESM1-BGC_piControl_lai not in the dictionary\n",
      "lai_piControl_CMIP5_CESM1-BGC is not in the dictionary\n",
      "lai_1pctCO2-rad_CMIP5_GFDL-ESM2M\n",
      "Overwrite existing file: bilinear_90x144_192x288_peri.nc \n",
      " You can set reuse_weights=True to save computing time.\n",
      "using dimensions ('lat', 'lon') from data variable lai as the horizontal dimensions for this dataset.\n",
      "lai_1pctCO2-bgc_CMIP5_GFDL-ESM2M\n",
      "Overwrite existing file: bilinear_90x144_192x288_peri.nc \n",
      " You can set reuse_weights=True to save computing time.\n",
      "using dimensions ('lat', 'lon') from data variable lai as the horizontal dimensions for this dataset.\n",
      "lai_1pctCO2_CMIP5_GFDL-ESM2M\n",
      "Overwrite existing file: bilinear_90x144_192x288_peri.nc \n",
      " You can set reuse_weights=True to save computing time.\n",
      "using dimensions ('lat', 'lon') from data variable lai as the horizontal dimensions for this dataset.\n",
      "GFDL-ESM2M_piControl_lai not in the dictionary\n",
      "lai_piControl_CMIP5_GFDL-ESM2M is not in the dictionary\n",
      "lai_1pctCO2-rad_CMIP5_HadGEM2-ES\n",
      "Overwrite existing file: bilinear_145x192_192x288_peri.nc \n",
      " You can set reuse_weights=True to save computing time.\n",
      "using dimensions ('lat', 'lon') from data variable lai as the horizontal dimensions for this dataset.\n",
      "lai_1pctCO2-bgc_CMIP5_HadGEM2-ES\n",
      "Overwrite existing file: bilinear_145x192_192x288_peri.nc \n",
      " You can set reuse_weights=True to save computing time.\n",
      "using dimensions ('lat', 'lon') from data variable lai as the horizontal dimensions for this dataset.\n",
      "lai_1pctCO2_CMIP5_HadGEM2-ES\n",
      "Overwrite existing file: bilinear_145x192_192x288_peri.nc \n",
      " You can set reuse_weights=True to save computing time.\n",
      "using dimensions ('lat', 'lon') from data variable lai as the horizontal dimensions for this dataset.\n",
      "HadGEM2-ES_piControl_lai not in the dictionary\n",
      "lai_piControl_CMIP5_HadGEM2-ES is not in the dictionary\n",
      "lai_1pctCO2-rad_CMIP5_IPSL-CM5A-LR\n",
      "Overwrite existing file: bilinear_96x96_192x288_peri.nc \n",
      " You can set reuse_weights=True to save computing time.\n",
      "using dimensions ('lat', 'lon') from data variable lai as the horizontal dimensions for this dataset.\n",
      "lai_1pctCO2-bgc_CMIP5_IPSL-CM5A-LR\n",
      "Overwrite existing file: bilinear_96x96_192x288_peri.nc \n",
      " You can set reuse_weights=True to save computing time.\n",
      "using dimensions ('lat', 'lon') from data variable lai as the horizontal dimensions for this dataset.\n",
      "lai_1pctCO2_CMIP5_IPSL-CM5A-LR\n",
      "Overwrite existing file: bilinear_96x96_192x288_peri.nc \n",
      " You can set reuse_weights=True to save computing time.\n",
      "using dimensions ('lat', 'lon') from data variable lai as the horizontal dimensions for this dataset.\n",
      "IPSL-CM5A-LR_piControl_lai not in the dictionary\n",
      "lai_piControl_CMIP5_IPSL-CM5A-LR is not in the dictionary\n",
      "lai_1pctCO2-rad_CMIP5_NorESM1-ME\n",
      "Overwrite existing file: bilinear_96x144_192x288_peri.nc \n",
      " You can set reuse_weights=True to save computing time.\n",
      "using dimensions ('lat', 'lon') from data variable lai as the horizontal dimensions for this dataset.\n",
      "lai_1pctCO2-bgc_CMIP5_NorESM1-ME\n",
      "Overwrite existing file: bilinear_96x144_192x288_peri.nc \n",
      " You can set reuse_weights=True to save computing time.\n",
      "using dimensions ('lat', 'lon') from data variable lai as the horizontal dimensions for this dataset.\n",
      "lai_1pctCO2_CMIP5_NorESM1-ME\n",
      "Overwrite existing file: bilinear_96x144_192x288_peri.nc \n",
      " You can set reuse_weights=True to save computing time.\n",
      "using dimensions ('lat', 'lon') from data variable lai as the horizontal dimensions for this dataset.\n",
      "NorESM1-ME_piControl_lai not in the dictionary\n",
      "lai_piControl_CMIP5_NorESM1-ME is not in the dictionary\n",
      "lai_1pctCO2-rad_CMIP5_MPI-ESM-LR\n",
      "Overwrite existing file: bilinear_96x192_192x288_peri.nc \n",
      " You can set reuse_weights=True to save computing time.\n",
      "using dimensions ('lat', 'lon') from data variable lai as the horizontal dimensions for this dataset.\n",
      "lai_1pctCO2-bgc_CMIP5_MPI-ESM-LR\n",
      "Overwrite existing file: bilinear_96x192_192x288_peri.nc \n",
      " You can set reuse_weights=True to save computing time.\n",
      "using dimensions ('lat', 'lon') from data variable lai as the horizontal dimensions for this dataset.\n",
      "lai_1pctCO2_CMIP5_MPI-ESM-LR\n",
      "Overwrite existing file: bilinear_96x192_192x288_peri.nc \n",
      " You can set reuse_weights=True to save computing time.\n",
      "using dimensions ('lat', 'lon') from data variable lai as the horizontal dimensions for this dataset.\n",
      "MPI-ESM-LR_piControl_lai not in the dictionary\n",
      "lai_piControl_CMIP5_MPI-ESM-LR is not in the dictionary\n",
      "lai_1pctCO2-rad_CMIP6_CNRM-ESM2-1\n",
      "Overwrite existing file: bilinear_128x256_192x288_peri.nc \n",
      " You can set reuse_weights=True to save computing time.\n",
      "using dimensions ('lat', 'lon') from data variable lai as the horizontal dimensions for this dataset.\n",
      "lai_1pctCO2-bgc_CMIP6_CNRM-ESM2-1\n",
      "Overwrite existing file: bilinear_128x256_192x288_peri.nc \n",
      " You can set reuse_weights=True to save computing time.\n",
      "using dimensions ('lat', 'lon') from data variable lai as the horizontal dimensions for this dataset.\n",
      "lai_1pctCO2_CMIP6_CNRM-ESM2-1\n",
      "Overwrite existing file: bilinear_128x256_192x288_peri.nc \n",
      " You can set reuse_weights=True to save computing time.\n",
      "using dimensions ('lat', 'lon') from data variable lai as the horizontal dimensions for this dataset.\n",
      "lai_piControl_CMIP6_CNRM-ESM2-1\n",
      "Overwrite existing file: bilinear_128x256_192x288_peri.nc \n",
      " You can set reuse_weights=True to save computing time.\n",
      "using dimensions ('lat', 'lon') from data variable lai as the horizontal dimensions for this dataset.\n",
      "lai_1pctCO2-rad_CMIP6_BCC-CSM2-MR\n",
      "Overwrite existing file: bilinear_160x320_192x288_peri.nc \n",
      " You can set reuse_weights=True to save computing time.\n",
      "using dimensions ('lat', 'lon') from data variable lai as the horizontal dimensions for this dataset.\n",
      "lai_1pctCO2-bgc_CMIP6_BCC-CSM2-MR\n",
      "Overwrite existing file: bilinear_160x320_192x288_peri.nc \n",
      " You can set reuse_weights=True to save computing time.\n",
      "using dimensions ('lat', 'lon') from data variable lai as the horizontal dimensions for this dataset.\n",
      "lai_1pctCO2_CMIP6_BCC-CSM2-MR\n",
      "Overwrite existing file: bilinear_160x320_192x288_peri.nc \n",
      " You can set reuse_weights=True to save computing time.\n",
      "using dimensions ('lat', 'lon') from data variable lai as the horizontal dimensions for this dataset.\n",
      "lai_piControl_CMIP6_BCC-CSM2-MR\n",
      "Overwrite existing file: bilinear_160x320_192x288_peri.nc \n",
      " You can set reuse_weights=True to save computing time.\n",
      "using dimensions ('lat', 'lon') from data variable lai as the horizontal dimensions for this dataset.\n",
      "lai_1pctCO2-rad_CMIP6_CanESM5\n",
      "Overwrite existing file: bilinear_64x128_192x288_peri.nc \n",
      " You can set reuse_weights=True to save computing time.\n",
      "using dimensions ('lat', 'lon') from data variable lai as the horizontal dimensions for this dataset.\n",
      "lai_1pctCO2-bgc_CMIP6_CanESM5\n",
      "Overwrite existing file: bilinear_64x128_192x288_peri.nc \n",
      " You can set reuse_weights=True to save computing time.\n",
      "using dimensions ('lat', 'lon') from data variable lai as the horizontal dimensions for this dataset.\n",
      "lai_1pctCO2_CMIP6_CanESM5\n",
      "Overwrite existing file: bilinear_64x128_192x288_peri.nc \n",
      " You can set reuse_weights=True to save computing time.\n",
      "using dimensions ('lat', 'lon') from data variable lai as the horizontal dimensions for this dataset.\n",
      "lai_piControl_CMIP6_CanESM5\n",
      "Overwrite existing file: bilinear_64x128_192x288_peri.nc \n",
      " You can set reuse_weights=True to save computing time.\n",
      "using dimensions ('lat', 'lon') from data variable lai as the horizontal dimensions for this dataset.\n",
      "lai_1pctCO2-rad_CMIP6_CESM2\n",
      "Overwrite existing file: bilinear_192x288_192x288_peri.nc \n",
      " You can set reuse_weights=True to save computing time.\n",
      "using dimensions ('lat', 'lon') from data variable lai as the horizontal dimensions for this dataset.\n",
      "lai_1pctCO2-bgc_CMIP6_CESM2\n",
      "Overwrite existing file: bilinear_192x288_192x288_peri.nc \n",
      " You can set reuse_weights=True to save computing time.\n",
      "using dimensions ('lat', 'lon') from data variable lai as the horizontal dimensions for this dataset.\n",
      "lai_1pctCO2_CMIP6_CESM2\n",
      "Overwrite existing file: bilinear_192x288_192x288_peri.nc \n",
      " You can set reuse_weights=True to save computing time.\n",
      "using dimensions ('lat', 'lon') from data variable lai as the horizontal dimensions for this dataset.\n",
      "lai_piControl_CMIP6_CESM2\n",
      "Overwrite existing file: bilinear_192x288_192x288_peri.nc \n",
      " You can set reuse_weights=True to save computing time.\n",
      "using dimensions ('lat', 'lon') from data variable lai as the horizontal dimensions for this dataset.\n",
      "lai_1pctCO2-rad_CMIP6_GISS-E2-1-G\n",
      "Overwrite existing file: bilinear_90x144_192x288_peri.nc \n",
      " You can set reuse_weights=True to save computing time.\n",
      "using dimensions ('lat', 'lon') from data variable lai as the horizontal dimensions for this dataset.\n",
      "lai_1pctCO2-bgc_CMIP6_GISS-E2-1-G\n",
      "Overwrite existing file: bilinear_90x144_192x288_peri.nc \n",
      " You can set reuse_weights=True to save computing time.\n",
      "using dimensions ('lat', 'lon') from data variable lai as the horizontal dimensions for this dataset.\n",
      "lai_1pctCO2_CMIP6_GISS-E2-1-G\n",
      "Overwrite existing file: bilinear_90x144_192x288_peri.nc \n",
      " You can set reuse_weights=True to save computing time.\n",
      "using dimensions ('lat', 'lon') from data variable lai as the horizontal dimensions for this dataset.\n",
      "GISS-E2-1-G_piControl_lai not in the dictionary\n",
      "lai_piControl_CMIP6_GISS-E2-1-G is not in the dictionary\n",
      "lai_1pctCO2-rad_CMIP6_UKESM1-0-LL\n",
      "Overwrite existing file: bilinear_144x192_192x288_peri.nc \n",
      " You can set reuse_weights=True to save computing time.\n",
      "using dimensions ('lat', 'lon') from data variable lai as the horizontal dimensions for this dataset.\n",
      "lai_1pctCO2-bgc_CMIP6_UKESM1-0-LL\n",
      "Overwrite existing file: bilinear_144x192_192x288_peri.nc \n",
      " You can set reuse_weights=True to save computing time.\n",
      "using dimensions ('lat', 'lon') from data variable lai as the horizontal dimensions for this dataset.\n",
      "lai_1pctCO2_CMIP6_UKESM1-0-LL\n",
      "Overwrite existing file: bilinear_144x192_192x288_peri.nc \n",
      " You can set reuse_weights=True to save computing time.\n",
      "using dimensions ('lat', 'lon') from data variable lai as the horizontal dimensions for this dataset.\n",
      "UKESM1-0-LL_piControl_lai not in the dictionary\n",
      "lai_piControl_CMIP6_UKESM1-0-LL is not in the dictionary\n",
      "GFDL-ESM4_1pctCO2-rad_lai not in the dictionary\n",
      "lai_1pctCO2-rad_CMIP6_GFDL-ESM4 is not in the dictionary\n",
      "lai_1pctCO2-bgc_CMIP6_GFDL-ESM4\n",
      "Overwrite existing file: bilinear_180x288_192x288_peri.nc \n",
      " You can set reuse_weights=True to save computing time.\n",
      "using dimensions ('lat', 'lon') from data variable lai as the horizontal dimensions for this dataset.\n",
      "lai_1pctCO2_CMIP6_GFDL-ESM4\n",
      "Overwrite existing file: bilinear_180x288_192x288_peri.nc \n",
      " You can set reuse_weights=True to save computing time.\n",
      "using dimensions ('lat', 'lon') from data variable lai as the horizontal dimensions for this dataset.\n",
      "lai_piControl_CMIP6_GFDL-ESM4\n",
      "Overwrite existing file: bilinear_180x288_192x288_peri.nc \n",
      " You can set reuse_weights=True to save computing time.\n",
      "using dimensions ('lat', 'lon') from data variable lai as the horizontal dimensions for this dataset.\n",
      "lai_1pctCO2-rad_CMIP6_IPSL-CM6A-LR\n",
      "Overwrite existing file: bilinear_143x144_192x288_peri.nc \n",
      " You can set reuse_weights=True to save computing time.\n",
      "using dimensions ('lat', 'lon') from data variable lai as the horizontal dimensions for this dataset.\n",
      "lai_1pctCO2-bgc_CMIP6_IPSL-CM6A-LR\n",
      "Overwrite existing file: bilinear_143x144_192x288_peri.nc \n",
      " You can set reuse_weights=True to save computing time.\n",
      "using dimensions ('lat', 'lon') from data variable lai as the horizontal dimensions for this dataset.\n",
      "lai_1pctCO2_CMIP6_IPSL-CM6A-LR\n",
      "Overwrite existing file: bilinear_143x144_192x288_peri.nc \n",
      " You can set reuse_weights=True to save computing time.\n",
      "using dimensions ('lat', 'lon') from data variable lai as the horizontal dimensions for this dataset.\n",
      "lai_piControl_CMIP6_IPSL-CM6A-LR\n",
      "Overwrite existing file: bilinear_143x144_192x288_peri.nc \n",
      " You can set reuse_weights=True to save computing time.\n",
      "using dimensions ('lat', 'lon') from data variable lai as the horizontal dimensions for this dataset.\n",
      "lai_1pctCO2-rad_CMIP6_MIROC-ES2L\n",
      "Overwrite existing file: bilinear_64x128_192x288_peri.nc \n",
      " You can set reuse_weights=True to save computing time.\n",
      "using dimensions ('lat', 'lon') from data variable lai as the horizontal dimensions for this dataset.\n",
      "lai_1pctCO2-bgc_CMIP6_MIROC-ES2L\n",
      "Overwrite existing file: bilinear_64x128_192x288_peri.nc \n",
      " You can set reuse_weights=True to save computing time.\n",
      "using dimensions ('lat', 'lon') from data variable lai as the horizontal dimensions for this dataset.\n",
      "lai_1pctCO2_CMIP6_MIROC-ES2L\n",
      "Overwrite existing file: bilinear_64x128_192x288_peri.nc \n",
      " You can set reuse_weights=True to save computing time.\n",
      "using dimensions ('lat', 'lon') from data variable lai as the horizontal dimensions for this dataset.\n",
      "lai_piControl_CMIP6_MIROC-ES2L\n",
      "Overwrite existing file: bilinear_64x128_192x288_peri.nc \n",
      " You can set reuse_weights=True to save computing time.\n",
      "using dimensions ('lat', 'lon') from data variable lai as the horizontal dimensions for this dataset.\n",
      "lai_1pctCO2-rad_CMIP6_NorESM2-LM\n",
      "Overwrite existing file: bilinear_96x144_192x288_peri.nc \n",
      " You can set reuse_weights=True to save computing time.\n",
      "using dimensions ('lat', 'lon') from data variable lai as the horizontal dimensions for this dataset.\n",
      "NorESM2-LM_1pctCO2-bgc_lai not in the dictionary\n",
      "lai_1pctCO2-bgc_CMIP6_NorESM2-LM is not in the dictionary\n",
      "lai_1pctCO2_CMIP6_NorESM2-LM\n",
      "Overwrite existing file: bilinear_96x144_192x288_peri.nc \n",
      " You can set reuse_weights=True to save computing time.\n",
      "using dimensions ('lat', 'lon') from data variable lai as the horizontal dimensions for this dataset.\n",
      "NorESM2-LM_piControl_lai not in the dictionary\n",
      "lai_piControl_CMIP6_NorESM2-LM is not in the dictionary\n",
      "lai_1pctCO2-rad_CMIP6_MPI-ESM1-2-LR\n",
      "Overwrite existing file: bilinear_96x192_192x288_peri.nc \n",
      " You can set reuse_weights=True to save computing time.\n",
      "using dimensions ('lat', 'lon') from data variable lai as the horizontal dimensions for this dataset.\n",
      "MPI-ESM1-2-LR_1pctCO2-bgc_lai not in the dictionary\n",
      "lai_1pctCO2-bgc_CMIP6_MPI-ESM1-2-LR is not in the dictionary\n",
      "lai_1pctCO2_CMIP6_MPI-ESM1-2-LR\n",
      "Overwrite existing file: bilinear_96x192_192x288_peri.nc \n",
      " You can set reuse_weights=True to save computing time.\n",
      "using dimensions ('lat', 'lon') from data variable lai as the horizontal dimensions for this dataset.\n",
      "MPI-ESM1-2-LR_piControl_lai not in the dictionary\n",
      "lai_piControl_CMIP6_MPI-ESM1-2-LR is not in the dictionary\n",
      "lai_1pctCO2-rad_CMIP6_ACCESS-ESM1-5\n",
      "Overwrite existing file: bilinear_145x192_192x288_peri.nc \n",
      " You can set reuse_weights=True to save computing time.\n",
      "using dimensions ('lat', 'lon') from data variable lai as the horizontal dimensions for this dataset.\n",
      "ACCESS-ESM1-5_1pctCO2-bgc_lai not in the dictionary\n",
      "lai_1pctCO2-bgc_CMIP6_ACCESS-ESM1-5 is not in the dictionary\n",
      "lai_1pctCO2_CMIP6_ACCESS-ESM1-5\n",
      "Overwrite existing file: bilinear_145x192_192x288_peri.nc \n",
      " You can set reuse_weights=True to save computing time.\n",
      "using dimensions ('lat', 'lon') from data variable lai as the horizontal dimensions for this dataset.\n",
      "ACCESS-ESM1-5_piControl_lai not in the dictionary\n",
      "lai_piControl_CMIP6_ACCESS-ESM1-5 is not in the dictionary\n",
      "TRANperLAI_1pctCO2-rad_CMIP5_bcc-csm1-1\n",
      "Overwrite existing file: bilinear_64x128_192x288_peri.nc \n",
      " You can set reuse_weights=True to save computing time.\n",
      "using dimensions ('lat', 'lon') from data variable TRANperLAI as the horizontal dimensions for this dataset.\n"
     ]
    },
    {
     "name": "stderr",
     "output_type": "stream",
     "text": [
      "/home/disk/p/czarakas/anaconda3/envs/plants_and_TCR_v3/lib/python3.7/site-packages/dask/core.py:119: RuntimeWarning: invalid value encountered in true_divide\n",
      "  return func(*args2)\n"
     ]
    },
    {
     "name": "stdout",
     "output_type": "stream",
     "text": [
      "TRANperLAI_1pctCO2-bgc_CMIP5_bcc-csm1-1\n",
      "Overwrite existing file: bilinear_64x128_192x288_peri.nc \n",
      " You can set reuse_weights=True to save computing time.\n",
      "using dimensions ('lat', 'lon') from data variable TRANperLAI as the horizontal dimensions for this dataset.\n"
     ]
    },
    {
     "name": "stderr",
     "output_type": "stream",
     "text": [
      "/home/disk/p/czarakas/anaconda3/envs/plants_and_TCR_v3/lib/python3.7/site-packages/dask/core.py:119: RuntimeWarning: invalid value encountered in true_divide\n",
      "  return func(*args2)\n"
     ]
    },
    {
     "name": "stdout",
     "output_type": "stream",
     "text": [
      "TRANperLAI_1pctCO2_CMIP5_bcc-csm1-1\n",
      "Overwrite existing file: bilinear_64x128_192x288_peri.nc \n",
      " You can set reuse_weights=True to save computing time.\n",
      "using dimensions ('lat', 'lon') from data variable TRANperLAI as the horizontal dimensions for this dataset.\n"
     ]
    },
    {
     "name": "stderr",
     "output_type": "stream",
     "text": [
      "/home/disk/p/czarakas/anaconda3/envs/plants_and_TCR_v3/lib/python3.7/site-packages/dask/core.py:119: RuntimeWarning: invalid value encountered in true_divide\n",
      "  return func(*args2)\n"
     ]
    },
    {
     "name": "stdout",
     "output_type": "stream",
     "text": [
      "bcc-csm1-1_piControl_tran not in the dictionary\n",
      "TRANperLAI_piControl_CMIP5_bcc-csm1-1 is not in the dictionary\n",
      "TRANperLAI_1pctCO2-rad_CMIP5_CanESM2\n",
      "Overwrite existing file: bilinear_64x128_192x288_peri.nc \n",
      " You can set reuse_weights=True to save computing time.\n",
      "using dimensions ('lat', 'lon') from data variable TRANperLAI as the horizontal dimensions for this dataset.\n"
     ]
    },
    {
     "name": "stderr",
     "output_type": "stream",
     "text": [
      "/home/disk/p/czarakas/anaconda3/envs/plants_and_TCR_v3/lib/python3.7/site-packages/dask/core.py:119: RuntimeWarning: divide by zero encountered in true_divide\n",
      "  return func(*args2)\n",
      "/home/disk/p/czarakas/anaconda3/envs/plants_and_TCR_v3/lib/python3.7/site-packages/dask/core.py:119: RuntimeWarning: invalid value encountered in true_divide\n",
      "  return func(*args2)\n"
     ]
    },
    {
     "name": "stdout",
     "output_type": "stream",
     "text": [
      "TRANperLAI_1pctCO2-bgc_CMIP5_CanESM2\n",
      "Overwrite existing file: bilinear_64x128_192x288_peri.nc \n",
      " You can set reuse_weights=True to save computing time.\n",
      "using dimensions ('lat', 'lon') from data variable TRANperLAI as the horizontal dimensions for this dataset.\n"
     ]
    },
    {
     "name": "stderr",
     "output_type": "stream",
     "text": [
      "/home/disk/p/czarakas/anaconda3/envs/plants_and_TCR_v3/lib/python3.7/site-packages/dask/core.py:119: RuntimeWarning: divide by zero encountered in true_divide\n",
      "  return func(*args2)\n",
      "/home/disk/p/czarakas/anaconda3/envs/plants_and_TCR_v3/lib/python3.7/site-packages/dask/core.py:119: RuntimeWarning: invalid value encountered in true_divide\n",
      "  return func(*args2)\n"
     ]
    },
    {
     "name": "stdout",
     "output_type": "stream",
     "text": [
      "TRANperLAI_1pctCO2_CMIP5_CanESM2\n",
      "Overwrite existing file: bilinear_64x128_192x288_peri.nc \n",
      " You can set reuse_weights=True to save computing time.\n",
      "using dimensions ('lat', 'lon') from data variable TRANperLAI as the horizontal dimensions for this dataset.\n"
     ]
    },
    {
     "name": "stderr",
     "output_type": "stream",
     "text": [
      "/home/disk/p/czarakas/anaconda3/envs/plants_and_TCR_v3/lib/python3.7/site-packages/dask/core.py:119: RuntimeWarning: divide by zero encountered in true_divide\n",
      "  return func(*args2)\n",
      "/home/disk/p/czarakas/anaconda3/envs/plants_and_TCR_v3/lib/python3.7/site-packages/dask/core.py:119: RuntimeWarning: invalid value encountered in true_divide\n",
      "  return func(*args2)\n"
     ]
    },
    {
     "name": "stdout",
     "output_type": "stream",
     "text": [
      "CanESM2_piControl_tran not in the dictionary\n",
      "TRANperLAI_piControl_CMIP5_CanESM2 is not in the dictionary\n",
      "TRANperLAI_1pctCO2-rad_CMIP5_CESM1-BGC\n",
      "Overwrite existing file: bilinear_192x288_192x288_peri.nc \n",
      " You can set reuse_weights=True to save computing time.\n",
      "using dimensions ('lat', 'lon') from data variable TRANperLAI as the horizontal dimensions for this dataset.\n"
     ]
    },
    {
     "name": "stderr",
     "output_type": "stream",
     "text": [
      "/home/disk/p/czarakas/anaconda3/envs/plants_and_TCR_v3/lib/python3.7/site-packages/dask/core.py:119: RuntimeWarning: divide by zero encountered in true_divide\n",
      "  return func(*args2)\n"
     ]
    },
    {
     "name": "stdout",
     "output_type": "stream",
     "text": [
      "TRANperLAI_1pctCO2-bgc_CMIP5_CESM1-BGC\n",
      "Overwrite existing file: bilinear_192x288_192x288_peri.nc \n",
      " You can set reuse_weights=True to save computing time.\n",
      "using dimensions ('lat', 'lon') from data variable TRANperLAI as the horizontal dimensions for this dataset.\n"
     ]
    },
    {
     "name": "stderr",
     "output_type": "stream",
     "text": [
      "/home/disk/p/czarakas/anaconda3/envs/plants_and_TCR_v3/lib/python3.7/site-packages/dask/core.py:119: RuntimeWarning: divide by zero encountered in true_divide\n",
      "  return func(*args2)\n"
     ]
    },
    {
     "name": "stdout",
     "output_type": "stream",
     "text": [
      "TRANperLAI_1pctCO2_CMIP5_CESM1-BGC\n",
      "Overwrite existing file: bilinear_192x288_192x288_peri.nc \n",
      " You can set reuse_weights=True to save computing time.\n",
      "using dimensions ('lat', 'lon') from data variable TRANperLAI as the horizontal dimensions for this dataset.\n"
     ]
    },
    {
     "name": "stderr",
     "output_type": "stream",
     "text": [
      "/home/disk/p/czarakas/anaconda3/envs/plants_and_TCR_v3/lib/python3.7/site-packages/dask/core.py:119: RuntimeWarning: divide by zero encountered in true_divide\n",
      "  return func(*args2)\n"
     ]
    },
    {
     "name": "stdout",
     "output_type": "stream",
     "text": [
      "CESM1-BGC_piControl_tran not in the dictionary\n",
      "TRANperLAI_piControl_CMIP5_CESM1-BGC is not in the dictionary\n",
      "TRANperLAI_1pctCO2-rad_CMIP5_GFDL-ESM2M\n",
      "Overwrite existing file: bilinear_90x144_192x288_peri.nc \n",
      " You can set reuse_weights=True to save computing time.\n",
      "using dimensions ('lat', 'lon') from data variable TRANperLAI as the horizontal dimensions for this dataset.\n"
     ]
    },
    {
     "name": "stderr",
     "output_type": "stream",
     "text": [
      "/home/disk/p/czarakas/anaconda3/envs/plants_and_TCR_v3/lib/python3.7/site-packages/dask/core.py:119: RuntimeWarning: invalid value encountered in true_divide\n",
      "  return func(*args2)\n"
     ]
    },
    {
     "name": "stdout",
     "output_type": "stream",
     "text": [
      "TRANperLAI_1pctCO2-bgc_CMIP5_GFDL-ESM2M\n",
      "Overwrite existing file: bilinear_90x144_192x288_peri.nc \n",
      " You can set reuse_weights=True to save computing time.\n",
      "using dimensions ('lat', 'lon') from data variable TRANperLAI as the horizontal dimensions for this dataset.\n"
     ]
    },
    {
     "name": "stderr",
     "output_type": "stream",
     "text": [
      "/home/disk/p/czarakas/anaconda3/envs/plants_and_TCR_v3/lib/python3.7/site-packages/dask/core.py:119: RuntimeWarning: invalid value encountered in true_divide\n",
      "  return func(*args2)\n"
     ]
    },
    {
     "name": "stdout",
     "output_type": "stream",
     "text": [
      "TRANperLAI_1pctCO2_CMIP5_GFDL-ESM2M\n",
      "Overwrite existing file: bilinear_90x144_192x288_peri.nc \n",
      " You can set reuse_weights=True to save computing time.\n",
      "using dimensions ('lat', 'lon') from data variable TRANperLAI as the horizontal dimensions for this dataset.\n"
     ]
    },
    {
     "name": "stderr",
     "output_type": "stream",
     "text": [
      "/home/disk/p/czarakas/anaconda3/envs/plants_and_TCR_v3/lib/python3.7/site-packages/dask/core.py:119: RuntimeWarning: invalid value encountered in true_divide\n",
      "  return func(*args2)\n"
     ]
    },
    {
     "name": "stdout",
     "output_type": "stream",
     "text": [
      "GFDL-ESM2M_piControl_tran not in the dictionary\n",
      "TRANperLAI_piControl_CMIP5_GFDL-ESM2M is not in the dictionary\n",
      "HadGEM2-ES_1pctCO2-rad_tran not in the dictionary\n",
      "TRANperLAI_1pctCO2-rad_CMIP5_HadGEM2-ES is not in the dictionary\n",
      "HadGEM2-ES_1pctCO2-bgc_tran not in the dictionary\n",
      "TRANperLAI_1pctCO2-bgc_CMIP5_HadGEM2-ES is not in the dictionary\n",
      "HadGEM2-ES_1pctCO2_tran not in the dictionary\n",
      "TRANperLAI_1pctCO2_CMIP5_HadGEM2-ES is not in the dictionary\n",
      "HadGEM2-ES_piControl_tran not in the dictionary\n",
      "TRANperLAI_piControl_CMIP5_HadGEM2-ES is not in the dictionary\n",
      "TRANperLAI_1pctCO2-rad_CMIP5_IPSL-CM5A-LR\n",
      "Overwrite existing file: bilinear_96x96_192x288_peri.nc \n",
      " You can set reuse_weights=True to save computing time.\n",
      "using dimensions ('lat', 'lon') from data variable TRANperLAI as the horizontal dimensions for this dataset.\n"
     ]
    },
    {
     "name": "stderr",
     "output_type": "stream",
     "text": [
      "/home/disk/p/czarakas/anaconda3/envs/plants_and_TCR_v3/lib/python3.7/site-packages/dask/core.py:119: RuntimeWarning: divide by zero encountered in true_divide\n",
      "  return func(*args2)\n",
      "/home/disk/p/czarakas/anaconda3/envs/plants_and_TCR_v3/lib/python3.7/site-packages/dask/core.py:119: RuntimeWarning: invalid value encountered in true_divide\n",
      "  return func(*args2)\n"
     ]
    },
    {
     "name": "stdout",
     "output_type": "stream",
     "text": [
      "TRANperLAI_1pctCO2-bgc_CMIP5_IPSL-CM5A-LR\n",
      "Overwrite existing file: bilinear_96x96_192x288_peri.nc \n",
      " You can set reuse_weights=True to save computing time.\n",
      "using dimensions ('lat', 'lon') from data variable TRANperLAI as the horizontal dimensions for this dataset.\n"
     ]
    },
    {
     "name": "stderr",
     "output_type": "stream",
     "text": [
      "/home/disk/p/czarakas/anaconda3/envs/plants_and_TCR_v3/lib/python3.7/site-packages/dask/core.py:119: RuntimeWarning: invalid value encountered in true_divide\n",
      "  return func(*args2)\n"
     ]
    },
    {
     "name": "stdout",
     "output_type": "stream",
     "text": [
      "TRANperLAI_1pctCO2_CMIP5_IPSL-CM5A-LR\n",
      "Overwrite existing file: bilinear_96x96_192x288_peri.nc \n",
      " You can set reuse_weights=True to save computing time.\n",
      "using dimensions ('lat', 'lon') from data variable TRANperLAI as the horizontal dimensions for this dataset.\n"
     ]
    },
    {
     "name": "stderr",
     "output_type": "stream",
     "text": [
      "/home/disk/p/czarakas/anaconda3/envs/plants_and_TCR_v3/lib/python3.7/site-packages/dask/core.py:119: RuntimeWarning: divide by zero encountered in true_divide\n",
      "  return func(*args2)\n",
      "/home/disk/p/czarakas/anaconda3/envs/plants_and_TCR_v3/lib/python3.7/site-packages/dask/core.py:119: RuntimeWarning: invalid value encountered in true_divide\n",
      "  return func(*args2)\n"
     ]
    },
    {
     "name": "stdout",
     "output_type": "stream",
     "text": [
      "IPSL-CM5A-LR_piControl_tran not in the dictionary\n",
      "TRANperLAI_piControl_CMIP5_IPSL-CM5A-LR is not in the dictionary\n",
      "TRANperLAI_1pctCO2-rad_CMIP5_NorESM1-ME\n",
      "Overwrite existing file: bilinear_96x144_192x288_peri.nc \n",
      " You can set reuse_weights=True to save computing time.\n",
      "using dimensions ('lat', 'lon') from data variable TRANperLAI as the horizontal dimensions for this dataset.\n"
     ]
    },
    {
     "name": "stderr",
     "output_type": "stream",
     "text": [
      "/home/disk/p/czarakas/anaconda3/envs/plants_and_TCR_v3/lib/python3.7/site-packages/dask/core.py:119: RuntimeWarning: divide by zero encountered in true_divide\n",
      "  return func(*args2)\n",
      "/home/disk/p/czarakas/anaconda3/envs/plants_and_TCR_v3/lib/python3.7/site-packages/dask/core.py:119: RuntimeWarning: invalid value encountered in true_divide\n",
      "  return func(*args2)\n"
     ]
    },
    {
     "name": "stdout",
     "output_type": "stream",
     "text": [
      "TRANperLAI_1pctCO2-bgc_CMIP5_NorESM1-ME\n",
      "Overwrite existing file: bilinear_96x144_192x288_peri.nc \n",
      " You can set reuse_weights=True to save computing time.\n",
      "using dimensions ('lat', 'lon') from data variable TRANperLAI as the horizontal dimensions for this dataset.\n"
     ]
    },
    {
     "name": "stderr",
     "output_type": "stream",
     "text": [
      "/home/disk/p/czarakas/anaconda3/envs/plants_and_TCR_v3/lib/python3.7/site-packages/dask/core.py:119: RuntimeWarning: divide by zero encountered in true_divide\n",
      "  return func(*args2)\n",
      "/home/disk/p/czarakas/anaconda3/envs/plants_and_TCR_v3/lib/python3.7/site-packages/dask/core.py:119: RuntimeWarning: invalid value encountered in true_divide\n",
      "  return func(*args2)\n"
     ]
    },
    {
     "name": "stdout",
     "output_type": "stream",
     "text": [
      "TRANperLAI_1pctCO2_CMIP5_NorESM1-ME\n",
      "Overwrite existing file: bilinear_96x144_192x288_peri.nc \n",
      " You can set reuse_weights=True to save computing time.\n",
      "using dimensions ('lat', 'lon') from data variable TRANperLAI as the horizontal dimensions for this dataset.\n"
     ]
    },
    {
     "name": "stderr",
     "output_type": "stream",
     "text": [
      "/home/disk/p/czarakas/anaconda3/envs/plants_and_TCR_v3/lib/python3.7/site-packages/dask/core.py:119: RuntimeWarning: divide by zero encountered in true_divide\n",
      "  return func(*args2)\n",
      "/home/disk/p/czarakas/anaconda3/envs/plants_and_TCR_v3/lib/python3.7/site-packages/dask/core.py:119: RuntimeWarning: invalid value encountered in true_divide\n",
      "  return func(*args2)\n"
     ]
    },
    {
     "name": "stdout",
     "output_type": "stream",
     "text": [
      "NorESM1-ME_piControl_tran not in the dictionary\n",
      "TRANperLAI_piControl_CMIP5_NorESM1-ME is not in the dictionary\n",
      "TRANperLAI_1pctCO2-rad_CMIP5_MPI-ESM-LR\n",
      "Overwrite existing file: bilinear_96x192_192x288_peri.nc \n",
      " You can set reuse_weights=True to save computing time.\n",
      "using dimensions ('lat', 'lon') from data variable TRANperLAI as the horizontal dimensions for this dataset.\n"
     ]
    },
    {
     "name": "stderr",
     "output_type": "stream",
     "text": [
      "/home/disk/p/czarakas/anaconda3/envs/plants_and_TCR_v3/lib/python3.7/site-packages/dask/core.py:119: RuntimeWarning: invalid value encountered in true_divide\n",
      "  return func(*args2)\n",
      "/home/disk/p/czarakas/anaconda3/envs/plants_and_TCR_v3/lib/python3.7/site-packages/dask/core.py:119: RuntimeWarning: divide by zero encountered in true_divide\n",
      "  return func(*args2)\n"
     ]
    },
    {
     "name": "stdout",
     "output_type": "stream",
     "text": [
      "TRANperLAI_1pctCO2-bgc_CMIP5_MPI-ESM-LR\n",
      "Overwrite existing file: bilinear_96x192_192x288_peri.nc \n",
      " You can set reuse_weights=True to save computing time.\n",
      "using dimensions ('lat', 'lon') from data variable TRANperLAI as the horizontal dimensions for this dataset.\n"
     ]
    },
    {
     "name": "stderr",
     "output_type": "stream",
     "text": [
      "/home/disk/p/czarakas/anaconda3/envs/plants_and_TCR_v3/lib/python3.7/site-packages/dask/core.py:119: RuntimeWarning: divide by zero encountered in true_divide\n",
      "  return func(*args2)\n",
      "/home/disk/p/czarakas/anaconda3/envs/plants_and_TCR_v3/lib/python3.7/site-packages/dask/core.py:119: RuntimeWarning: invalid value encountered in true_divide\n",
      "  return func(*args2)\n"
     ]
    },
    {
     "name": "stdout",
     "output_type": "stream",
     "text": [
      "TRANperLAI_1pctCO2_CMIP5_MPI-ESM-LR\n",
      "Overwrite existing file: bilinear_96x192_192x288_peri.nc \n",
      " You can set reuse_weights=True to save computing time.\n",
      "using dimensions ('lat', 'lon') from data variable TRANperLAI as the horizontal dimensions for this dataset.\n"
     ]
    },
    {
     "name": "stderr",
     "output_type": "stream",
     "text": [
      "/home/disk/p/czarakas/anaconda3/envs/plants_and_TCR_v3/lib/python3.7/site-packages/dask/core.py:119: RuntimeWarning: invalid value encountered in true_divide\n",
      "  return func(*args2)\n",
      "/home/disk/p/czarakas/anaconda3/envs/plants_and_TCR_v3/lib/python3.7/site-packages/dask/core.py:119: RuntimeWarning: divide by zero encountered in true_divide\n",
      "  return func(*args2)\n"
     ]
    },
    {
     "name": "stdout",
     "output_type": "stream",
     "text": [
      "MPI-ESM-LR_piControl_tran not in the dictionary\n",
      "TRANperLAI_piControl_CMIP5_MPI-ESM-LR is not in the dictionary\n",
      "TRANperLAI_1pctCO2-rad_CMIP6_CNRM-ESM2-1\n",
      "Overwrite existing file: bilinear_128x256_192x288_peri.nc \n",
      " You can set reuse_weights=True to save computing time.\n",
      "using dimensions ('lat', 'lon') from data variable TRANperLAI as the horizontal dimensions for this dataset.\n"
     ]
    },
    {
     "name": "stderr",
     "output_type": "stream",
     "text": [
      "/home/disk/p/czarakas/anaconda3/envs/plants_and_TCR_v3/lib/python3.7/site-packages/dask/core.py:119: RuntimeWarning: invalid value encountered in true_divide\n",
      "  return func(*args2)\n"
     ]
    },
    {
     "name": "stdout",
     "output_type": "stream",
     "text": [
      "TRANperLAI_1pctCO2-bgc_CMIP6_CNRM-ESM2-1\n",
      "Overwrite existing file: bilinear_128x256_192x288_peri.nc \n",
      " You can set reuse_weights=True to save computing time.\n",
      "using dimensions ('lat', 'lon') from data variable TRANperLAI as the horizontal dimensions for this dataset.\n"
     ]
    },
    {
     "name": "stderr",
     "output_type": "stream",
     "text": [
      "/home/disk/p/czarakas/anaconda3/envs/plants_and_TCR_v3/lib/python3.7/site-packages/dask/core.py:119: RuntimeWarning: invalid value encountered in true_divide\n",
      "  return func(*args2)\n"
     ]
    },
    {
     "name": "stdout",
     "output_type": "stream",
     "text": [
      "TRANperLAI_1pctCO2_CMIP6_CNRM-ESM2-1\n",
      "Overwrite existing file: bilinear_128x256_192x288_peri.nc \n",
      " You can set reuse_weights=True to save computing time.\n",
      "using dimensions ('lat', 'lon') from data variable TRANperLAI as the horizontal dimensions for this dataset.\n"
     ]
    },
    {
     "name": "stderr",
     "output_type": "stream",
     "text": [
      "/home/disk/p/czarakas/anaconda3/envs/plants_and_TCR_v3/lib/python3.7/site-packages/dask/core.py:119: RuntimeWarning: invalid value encountered in true_divide\n",
      "  return func(*args2)\n"
     ]
    },
    {
     "name": "stdout",
     "output_type": "stream",
     "text": [
      "TRANperLAI_piControl_CMIP6_CNRM-ESM2-1\n",
      "Overwrite existing file: bilinear_128x256_192x288_peri.nc \n",
      " You can set reuse_weights=True to save computing time.\n",
      "using dimensions ('lat', 'lon') from data variable TRANperLAI as the horizontal dimensions for this dataset.\n"
     ]
    },
    {
     "name": "stderr",
     "output_type": "stream",
     "text": [
      "/home/disk/p/czarakas/anaconda3/envs/plants_and_TCR_v3/lib/python3.7/site-packages/dask/core.py:119: RuntimeWarning: invalid value encountered in true_divide\n",
      "  return func(*args2)\n"
     ]
    },
    {
     "name": "stdout",
     "output_type": "stream",
     "text": [
      "TRANperLAI_1pctCO2-rad_CMIP6_BCC-CSM2-MR\n",
      "Overwrite existing file: bilinear_160x320_192x288_peri.nc \n",
      " You can set reuse_weights=True to save computing time.\n",
      "using dimensions ('lat', 'lon') from data variable TRANperLAI as the horizontal dimensions for this dataset.\n"
     ]
    },
    {
     "name": "stderr",
     "output_type": "stream",
     "text": [
      "/home/disk/p/czarakas/anaconda3/envs/plants_and_TCR_v3/lib/python3.7/site-packages/dask/core.py:119: RuntimeWarning: invalid value encountered in true_divide\n",
      "  return func(*args2)\n"
     ]
    },
    {
     "name": "stdout",
     "output_type": "stream",
     "text": [
      "TRANperLAI_1pctCO2-bgc_CMIP6_BCC-CSM2-MR\n",
      "Overwrite existing file: bilinear_160x320_192x288_peri.nc \n",
      " You can set reuse_weights=True to save computing time.\n",
      "using dimensions ('lat', 'lon') from data variable TRANperLAI as the horizontal dimensions for this dataset.\n"
     ]
    },
    {
     "name": "stderr",
     "output_type": "stream",
     "text": [
      "/home/disk/p/czarakas/anaconda3/envs/plants_and_TCR_v3/lib/python3.7/site-packages/dask/core.py:119: RuntimeWarning: invalid value encountered in true_divide\n",
      "  return func(*args2)\n"
     ]
    },
    {
     "name": "stdout",
     "output_type": "stream",
     "text": [
      "TRANperLAI_1pctCO2_CMIP6_BCC-CSM2-MR\n",
      "Overwrite existing file: bilinear_160x320_192x288_peri.nc \n",
      " You can set reuse_weights=True to save computing time.\n",
      "using dimensions ('lat', 'lon') from data variable TRANperLAI as the horizontal dimensions for this dataset.\n"
     ]
    },
    {
     "name": "stderr",
     "output_type": "stream",
     "text": [
      "/home/disk/p/czarakas/anaconda3/envs/plants_and_TCR_v3/lib/python3.7/site-packages/dask/core.py:119: RuntimeWarning: invalid value encountered in true_divide\n",
      "  return func(*args2)\n"
     ]
    },
    {
     "name": "stdout",
     "output_type": "stream",
     "text": [
      "TRANperLAI_piControl_CMIP6_BCC-CSM2-MR\n",
      "Overwrite existing file: bilinear_160x320_192x288_peri.nc \n",
      " You can set reuse_weights=True to save computing time.\n",
      "using dimensions ('lat', 'lon') from data variable TRANperLAI as the horizontal dimensions for this dataset.\n"
     ]
    },
    {
     "name": "stderr",
     "output_type": "stream",
     "text": [
      "/home/disk/p/czarakas/anaconda3/envs/plants_and_TCR_v3/lib/python3.7/site-packages/dask/core.py:119: RuntimeWarning: invalid value encountered in true_divide\n",
      "  return func(*args2)\n"
     ]
    },
    {
     "name": "stdout",
     "output_type": "stream",
     "text": [
      "TRANperLAI_1pctCO2-rad_CMIP6_CanESM5\n",
      "Overwrite existing file: bilinear_64x128_192x288_peri.nc \n",
      " You can set reuse_weights=True to save computing time.\n",
      "using dimensions ('lat', 'lon') from data variable TRANperLAI as the horizontal dimensions for this dataset.\n"
     ]
    },
    {
     "name": "stderr",
     "output_type": "stream",
     "text": [
      "/home/disk/p/czarakas/anaconda3/envs/plants_and_TCR_v3/lib/python3.7/site-packages/dask/core.py:119: RuntimeWarning: invalid value encountered in true_divide\n",
      "  return func(*args2)\n"
     ]
    },
    {
     "name": "stdout",
     "output_type": "stream",
     "text": [
      "TRANperLAI_1pctCO2-bgc_CMIP6_CanESM5\n",
      "Overwrite existing file: bilinear_64x128_192x288_peri.nc \n",
      " You can set reuse_weights=True to save computing time.\n",
      "using dimensions ('lat', 'lon') from data variable TRANperLAI as the horizontal dimensions for this dataset.\n"
     ]
    },
    {
     "name": "stderr",
     "output_type": "stream",
     "text": [
      "/home/disk/p/czarakas/anaconda3/envs/plants_and_TCR_v3/lib/python3.7/site-packages/dask/core.py:119: RuntimeWarning: invalid value encountered in true_divide\n",
      "  return func(*args2)\n"
     ]
    },
    {
     "name": "stdout",
     "output_type": "stream",
     "text": [
      "TRANperLAI_1pctCO2_CMIP6_CanESM5\n",
      "Overwrite existing file: bilinear_64x128_192x288_peri.nc \n",
      " You can set reuse_weights=True to save computing time.\n",
      "using dimensions ('lat', 'lon') from data variable TRANperLAI as the horizontal dimensions for this dataset.\n"
     ]
    },
    {
     "name": "stderr",
     "output_type": "stream",
     "text": [
      "/home/disk/p/czarakas/anaconda3/envs/plants_and_TCR_v3/lib/python3.7/site-packages/dask/core.py:119: RuntimeWarning: invalid value encountered in true_divide\n",
      "  return func(*args2)\n"
     ]
    },
    {
     "name": "stdout",
     "output_type": "stream",
     "text": [
      "CanESM5_piControl_tran not in the dictionary\n",
      "TRANperLAI_piControl_CMIP6_CanESM5 is not in the dictionary\n",
      "TRANperLAI_1pctCO2-rad_CMIP6_CESM2\n",
      "Overwrite existing file: bilinear_192x288_192x288_peri.nc \n",
      " You can set reuse_weights=True to save computing time.\n",
      "using dimensions ('lat', 'lon') from data variable TRANperLAI as the horizontal dimensions for this dataset.\n"
     ]
    },
    {
     "name": "stderr",
     "output_type": "stream",
     "text": [
      "/home/disk/p/czarakas/anaconda3/envs/plants_and_TCR_v3/lib/python3.7/site-packages/dask/core.py:119: RuntimeWarning: divide by zero encountered in true_divide\n",
      "  return func(*args2)\n",
      "/home/disk/p/czarakas/anaconda3/envs/plants_and_TCR_v3/lib/python3.7/site-packages/dask/core.py:119: RuntimeWarning: invalid value encountered in true_divide\n",
      "  return func(*args2)\n"
     ]
    },
    {
     "name": "stdout",
     "output_type": "stream",
     "text": [
      "TRANperLAI_1pctCO2-bgc_CMIP6_CESM2\n",
      "Overwrite existing file: bilinear_192x288_192x288_peri.nc \n",
      " You can set reuse_weights=True to save computing time.\n",
      "using dimensions ('lat', 'lon') from data variable TRANperLAI as the horizontal dimensions for this dataset.\n"
     ]
    },
    {
     "name": "stderr",
     "output_type": "stream",
     "text": [
      "/home/disk/p/czarakas/anaconda3/envs/plants_and_TCR_v3/lib/python3.7/site-packages/dask/core.py:119: RuntimeWarning: divide by zero encountered in true_divide\n",
      "  return func(*args2)\n",
      "/home/disk/p/czarakas/anaconda3/envs/plants_and_TCR_v3/lib/python3.7/site-packages/dask/core.py:119: RuntimeWarning: invalid value encountered in true_divide\n",
      "  return func(*args2)\n"
     ]
    },
    {
     "name": "stdout",
     "output_type": "stream",
     "text": [
      "TRANperLAI_1pctCO2_CMIP6_CESM2\n",
      "Overwrite existing file: bilinear_192x288_192x288_peri.nc \n",
      " You can set reuse_weights=True to save computing time.\n",
      "using dimensions ('lat', 'lon') from data variable TRANperLAI as the horizontal dimensions for this dataset.\n"
     ]
    },
    {
     "name": "stderr",
     "output_type": "stream",
     "text": [
      "/home/disk/p/czarakas/anaconda3/envs/plants_and_TCR_v3/lib/python3.7/site-packages/dask/core.py:119: RuntimeWarning: divide by zero encountered in true_divide\n",
      "  return func(*args2)\n",
      "/home/disk/p/czarakas/anaconda3/envs/plants_and_TCR_v3/lib/python3.7/site-packages/dask/core.py:119: RuntimeWarning: invalid value encountered in true_divide\n",
      "  return func(*args2)\n"
     ]
    },
    {
     "name": "stdout",
     "output_type": "stream",
     "text": [
      "CESM2_piControl_tran not in the dictionary\n",
      "TRANperLAI_piControl_CMIP6_CESM2 is not in the dictionary\n",
      "TRANperLAI_1pctCO2-rad_CMIP6_GISS-E2-1-G\n",
      "Overwrite existing file: bilinear_90x144_192x288_peri.nc \n",
      " You can set reuse_weights=True to save computing time.\n",
      "using dimensions ('lat', 'lon') from data variable TRANperLAI as the horizontal dimensions for this dataset.\n"
     ]
    },
    {
     "name": "stderr",
     "output_type": "stream",
     "text": [
      "/home/disk/p/czarakas/anaconda3/envs/plants_and_TCR_v3/lib/python3.7/site-packages/dask/core.py:119: RuntimeWarning: invalid value encountered in true_divide\n",
      "  return func(*args2)\n"
     ]
    },
    {
     "name": "stdout",
     "output_type": "stream",
     "text": [
      "TRANperLAI_1pctCO2-bgc_CMIP6_GISS-E2-1-G\n",
      "Overwrite existing file: bilinear_90x144_192x288_peri.nc \n",
      " You can set reuse_weights=True to save computing time.\n",
      "using dimensions ('lat', 'lon') from data variable TRANperLAI as the horizontal dimensions for this dataset.\n"
     ]
    },
    {
     "name": "stderr",
     "output_type": "stream",
     "text": [
      "/home/disk/p/czarakas/anaconda3/envs/plants_and_TCR_v3/lib/python3.7/site-packages/dask/core.py:119: RuntimeWarning: invalid value encountered in true_divide\n",
      "  return func(*args2)\n"
     ]
    },
    {
     "name": "stdout",
     "output_type": "stream",
     "text": [
      "TRANperLAI_1pctCO2_CMIP6_GISS-E2-1-G\n",
      "Overwrite existing file: bilinear_90x144_192x288_peri.nc \n",
      " You can set reuse_weights=True to save computing time.\n",
      "using dimensions ('lat', 'lon') from data variable TRANperLAI as the horizontal dimensions for this dataset.\n"
     ]
    },
    {
     "name": "stderr",
     "output_type": "stream",
     "text": [
      "/home/disk/p/czarakas/anaconda3/envs/plants_and_TCR_v3/lib/python3.7/site-packages/dask/core.py:119: RuntimeWarning: invalid value encountered in true_divide\n",
      "  return func(*args2)\n"
     ]
    },
    {
     "name": "stdout",
     "output_type": "stream",
     "text": [
      "GISS-E2-1-G_piControl_tran not in the dictionary\n",
      "TRANperLAI_piControl_CMIP6_GISS-E2-1-G is not in the dictionary\n",
      "TRANperLAI_1pctCO2-rad_CMIP6_UKESM1-0-LL\n",
      "Overwrite existing file: bilinear_144x192_192x288_peri.nc \n",
      " You can set reuse_weights=True to save computing time.\n",
      "using dimensions ('lat', 'lon') from data variable TRANperLAI as the horizontal dimensions for this dataset.\n",
      "TRANperLAI_1pctCO2-bgc_CMIP6_UKESM1-0-LL\n",
      "Overwrite existing file: bilinear_144x192_192x288_peri.nc \n",
      " You can set reuse_weights=True to save computing time.\n",
      "using dimensions ('lat', 'lon') from data variable TRANperLAI as the horizontal dimensions for this dataset.\n",
      "TRANperLAI_1pctCO2_CMIP6_UKESM1-0-LL\n",
      "Overwrite existing file: bilinear_144x192_192x288_peri.nc \n",
      " You can set reuse_weights=True to save computing time.\n",
      "using dimensions ('lat', 'lon') from data variable TRANperLAI as the horizontal dimensions for this dataset.\n",
      "UKESM1-0-LL_piControl_tran not in the dictionary\n",
      "TRANperLAI_piControl_CMIP6_UKESM1-0-LL is not in the dictionary\n",
      "GFDL-ESM4_1pctCO2-rad_tran not in the dictionary\n",
      "TRANperLAI_1pctCO2-rad_CMIP6_GFDL-ESM4 is not in the dictionary\n",
      "TRANperLAI_1pctCO2-bgc_CMIP6_GFDL-ESM4\n",
      "Overwrite existing file: bilinear_180x288_192x288_peri.nc \n",
      " You can set reuse_weights=True to save computing time.\n",
      "using dimensions ('lat', 'lon') from data variable TRANperLAI as the horizontal dimensions for this dataset.\n"
     ]
    },
    {
     "name": "stderr",
     "output_type": "stream",
     "text": [
      "/home/disk/p/czarakas/anaconda3/envs/plants_and_TCR_v3/lib/python3.7/site-packages/dask/core.py:119: RuntimeWarning: invalid value encountered in true_divide\n",
      "  return func(*args2)\n"
     ]
    },
    {
     "name": "stdout",
     "output_type": "stream",
     "text": [
      "TRANperLAI_1pctCO2_CMIP6_GFDL-ESM4\n",
      "Overwrite existing file: bilinear_180x288_192x288_peri.nc \n",
      " You can set reuse_weights=True to save computing time.\n",
      "using dimensions ('lat', 'lon') from data variable TRANperLAI as the horizontal dimensions for this dataset.\n"
     ]
    },
    {
     "name": "stderr",
     "output_type": "stream",
     "text": [
      "/home/disk/p/czarakas/anaconda3/envs/plants_and_TCR_v3/lib/python3.7/site-packages/dask/core.py:119: RuntimeWarning: invalid value encountered in true_divide\n",
      "  return func(*args2)\n"
     ]
    },
    {
     "name": "stdout",
     "output_type": "stream",
     "text": [
      "TRANperLAI_piControl_CMIP6_GFDL-ESM4\n",
      "Overwrite existing file: bilinear_180x288_192x288_peri.nc \n",
      " You can set reuse_weights=True to save computing time.\n",
      "using dimensions ('lat', 'lon') from data variable TRANperLAI as the horizontal dimensions for this dataset.\n"
     ]
    },
    {
     "name": "stderr",
     "output_type": "stream",
     "text": [
      "/home/disk/p/czarakas/anaconda3/envs/plants_and_TCR_v3/lib/python3.7/site-packages/dask/core.py:119: RuntimeWarning: invalid value encountered in true_divide\n",
      "  return func(*args2)\n"
     ]
    },
    {
     "name": "stdout",
     "output_type": "stream",
     "text": [
      "TRANperLAI_1pctCO2-rad_CMIP6_IPSL-CM6A-LR\n",
      "Overwrite existing file: bilinear_143x144_192x288_peri.nc \n",
      " You can set reuse_weights=True to save computing time.\n",
      "using dimensions ('lat', 'lon') from data variable TRANperLAI as the horizontal dimensions for this dataset.\n"
     ]
    },
    {
     "name": "stderr",
     "output_type": "stream",
     "text": [
      "/home/disk/p/czarakas/anaconda3/envs/plants_and_TCR_v3/lib/python3.7/site-packages/dask/core.py:119: RuntimeWarning: invalid value encountered in true_divide\n",
      "  return func(*args2)\n"
     ]
    },
    {
     "name": "stdout",
     "output_type": "stream",
     "text": [
      "TRANperLAI_1pctCO2-bgc_CMIP6_IPSL-CM6A-LR\n",
      "Overwrite existing file: bilinear_143x144_192x288_peri.nc \n",
      " You can set reuse_weights=True to save computing time.\n",
      "using dimensions ('lat', 'lon') from data variable TRANperLAI as the horizontal dimensions for this dataset.\n"
     ]
    },
    {
     "name": "stderr",
     "output_type": "stream",
     "text": [
      "/home/disk/p/czarakas/anaconda3/envs/plants_and_TCR_v3/lib/python3.7/site-packages/dask/core.py:119: RuntimeWarning: invalid value encountered in true_divide\n",
      "  return func(*args2)\n"
     ]
    },
    {
     "name": "stdout",
     "output_type": "stream",
     "text": [
      "TRANperLAI_1pctCO2_CMIP6_IPSL-CM6A-LR\n",
      "Overwrite existing file: bilinear_143x144_192x288_peri.nc \n",
      " You can set reuse_weights=True to save computing time.\n",
      "using dimensions ('lat', 'lon') from data variable TRANperLAI as the horizontal dimensions for this dataset.\n"
     ]
    },
    {
     "name": "stderr",
     "output_type": "stream",
     "text": [
      "/home/disk/p/czarakas/anaconda3/envs/plants_and_TCR_v3/lib/python3.7/site-packages/dask/core.py:119: RuntimeWarning: invalid value encountered in true_divide\n",
      "  return func(*args2)\n"
     ]
    },
    {
     "name": "stdout",
     "output_type": "stream",
     "text": [
      "TRANperLAI_piControl_CMIP6_IPSL-CM6A-LR\n",
      "Overwrite existing file: bilinear_143x144_192x288_peri.nc \n",
      " You can set reuse_weights=True to save computing time.\n",
      "using dimensions ('lat', 'lon') from data variable TRANperLAI as the horizontal dimensions for this dataset.\n"
     ]
    },
    {
     "name": "stderr",
     "output_type": "stream",
     "text": [
      "/home/disk/p/czarakas/anaconda3/envs/plants_and_TCR_v3/lib/python3.7/site-packages/dask/core.py:119: RuntimeWarning: invalid value encountered in true_divide\n",
      "  return func(*args2)\n"
     ]
    },
    {
     "name": "stdout",
     "output_type": "stream",
     "text": [
      "TRANperLAI_1pctCO2-rad_CMIP6_MIROC-ES2L\n",
      "Overwrite existing file: bilinear_64x128_192x288_peri.nc \n",
      " You can set reuse_weights=True to save computing time.\n",
      "using dimensions ('lat', 'lon') from data variable TRANperLAI as the horizontal dimensions for this dataset.\n"
     ]
    },
    {
     "name": "stderr",
     "output_type": "stream",
     "text": [
      "/home/disk/p/czarakas/anaconda3/envs/plants_and_TCR_v3/lib/python3.7/site-packages/dask/core.py:119: RuntimeWarning: divide by zero encountered in true_divide\n",
      "  return func(*args2)\n",
      "/home/disk/p/czarakas/anaconda3/envs/plants_and_TCR_v3/lib/python3.7/site-packages/dask/core.py:119: RuntimeWarning: invalid value encountered in true_divide\n",
      "  return func(*args2)\n"
     ]
    },
    {
     "name": "stdout",
     "output_type": "stream",
     "text": [
      "TRANperLAI_1pctCO2-bgc_CMIP6_MIROC-ES2L\n",
      "Overwrite existing file: bilinear_64x128_192x288_peri.nc \n",
      " You can set reuse_weights=True to save computing time.\n",
      "using dimensions ('lat', 'lon') from data variable TRANperLAI as the horizontal dimensions for this dataset.\n"
     ]
    },
    {
     "name": "stderr",
     "output_type": "stream",
     "text": [
      "/home/disk/p/czarakas/anaconda3/envs/plants_and_TCR_v3/lib/python3.7/site-packages/dask/core.py:119: RuntimeWarning: divide by zero encountered in true_divide\n",
      "  return func(*args2)\n",
      "/home/disk/p/czarakas/anaconda3/envs/plants_and_TCR_v3/lib/python3.7/site-packages/dask/core.py:119: RuntimeWarning: invalid value encountered in true_divide\n",
      "  return func(*args2)\n"
     ]
    },
    {
     "name": "stdout",
     "output_type": "stream",
     "text": [
      "TRANperLAI_1pctCO2_CMIP6_MIROC-ES2L\n",
      "Overwrite existing file: bilinear_64x128_192x288_peri.nc \n",
      " You can set reuse_weights=True to save computing time.\n",
      "using dimensions ('lat', 'lon') from data variable TRANperLAI as the horizontal dimensions for this dataset.\n"
     ]
    },
    {
     "name": "stderr",
     "output_type": "stream",
     "text": [
      "/home/disk/p/czarakas/anaconda3/envs/plants_and_TCR_v3/lib/python3.7/site-packages/dask/core.py:119: RuntimeWarning: divide by zero encountered in true_divide\n",
      "  return func(*args2)\n",
      "/home/disk/p/czarakas/anaconda3/envs/plants_and_TCR_v3/lib/python3.7/site-packages/dask/core.py:119: RuntimeWarning: invalid value encountered in true_divide\n",
      "  return func(*args2)\n"
     ]
    },
    {
     "name": "stdout",
     "output_type": "stream",
     "text": [
      "MIROC-ES2L_piControl_tran not in the dictionary\n",
      "TRANperLAI_piControl_CMIP6_MIROC-ES2L is not in the dictionary\n",
      "TRANperLAI_1pctCO2-rad_CMIP6_NorESM2-LM\n",
      "Overwrite existing file: bilinear_96x144_192x288_peri.nc \n",
      " You can set reuse_weights=True to save computing time.\n",
      "using dimensions ('lat', 'lon') from data variable TRANperLAI as the horizontal dimensions for this dataset.\n"
     ]
    },
    {
     "name": "stderr",
     "output_type": "stream",
     "text": [
      "/home/disk/p/czarakas/anaconda3/envs/plants_and_TCR_v3/lib/python3.7/site-packages/dask/core.py:119: RuntimeWarning: divide by zero encountered in true_divide\n",
      "  return func(*args2)\n",
      "/home/disk/p/czarakas/anaconda3/envs/plants_and_TCR_v3/lib/python3.7/site-packages/dask/core.py:119: RuntimeWarning: invalid value encountered in true_divide\n",
      "  return func(*args2)\n"
     ]
    },
    {
     "name": "stdout",
     "output_type": "stream",
     "text": [
      "NorESM2-LM_1pctCO2-bgc_tran not in the dictionary\n",
      "TRANperLAI_1pctCO2-bgc_CMIP6_NorESM2-LM is not in the dictionary\n",
      "TRANperLAI_1pctCO2_CMIP6_NorESM2-LM\n",
      "Overwrite existing file: bilinear_96x144_192x288_peri.nc \n",
      " You can set reuse_weights=True to save computing time.\n",
      "using dimensions ('lat', 'lon') from data variable TRANperLAI as the horizontal dimensions for this dataset.\n"
     ]
    },
    {
     "name": "stderr",
     "output_type": "stream",
     "text": [
      "/home/disk/p/czarakas/anaconda3/envs/plants_and_TCR_v3/lib/python3.7/site-packages/dask/core.py:119: RuntimeWarning: divide by zero encountered in true_divide\n",
      "  return func(*args2)\n",
      "/home/disk/p/czarakas/anaconda3/envs/plants_and_TCR_v3/lib/python3.7/site-packages/dask/core.py:119: RuntimeWarning: invalid value encountered in true_divide\n",
      "  return func(*args2)\n"
     ]
    },
    {
     "name": "stdout",
     "output_type": "stream",
     "text": [
      "NorESM2-LM_piControl_tran not in the dictionary\n",
      "TRANperLAI_piControl_CMIP6_NorESM2-LM is not in the dictionary\n",
      "MPI-ESM1-2-LR_1pctCO2-rad_tran not in the dictionary\n",
      "TRANperLAI_1pctCO2-rad_CMIP6_MPI-ESM1-2-LR is not in the dictionary\n",
      "MPI-ESM1-2-LR_1pctCO2-bgc_tran not in the dictionary\n",
      "TRANperLAI_1pctCO2-bgc_CMIP6_MPI-ESM1-2-LR is not in the dictionary\n",
      "MPI-ESM1-2-LR_1pctCO2_tran not in the dictionary\n",
      "TRANperLAI_1pctCO2_CMIP6_MPI-ESM1-2-LR is not in the dictionary\n",
      "MPI-ESM1-2-LR_piControl_tran not in the dictionary\n",
      "TRANperLAI_piControl_CMIP6_MPI-ESM1-2-LR is not in the dictionary\n",
      "ACCESS-ESM1-5_1pctCO2-rad_tran not in the dictionary\n",
      "TRANperLAI_1pctCO2-rad_CMIP6_ACCESS-ESM1-5 is not in the dictionary\n",
      "ACCESS-ESM1-5_1pctCO2-bgc_tran not in the dictionary\n",
      "TRANperLAI_1pctCO2-bgc_CMIP6_ACCESS-ESM1-5 is not in the dictionary\n",
      "ACCESS-ESM1-5_1pctCO2_tran not in the dictionary\n",
      "TRANperLAI_1pctCO2_CMIP6_ACCESS-ESM1-5 is not in the dictionary\n",
      "ACCESS-ESM1-5_piControl_tran not in the dictionary\n",
      "TRANperLAI_piControl_CMIP6_ACCESS-ESM1-5 is not in the dictionary\n",
      "TRAN_1pctCO2-rad_CMIP5_bcc-csm1-1\n",
      "Overwrite existing file: bilinear_64x128_192x288_peri.nc \n",
      " You can set reuse_weights=True to save computing time.\n",
      "using dimensions ('lat', 'lon') from data variable TRAN as the horizontal dimensions for this dataset.\n",
      "TRAN_1pctCO2-bgc_CMIP5_bcc-csm1-1\n",
      "Overwrite existing file: bilinear_64x128_192x288_peri.nc \n",
      " You can set reuse_weights=True to save computing time.\n",
      "using dimensions ('lat', 'lon') from data variable TRAN as the horizontal dimensions for this dataset.\n",
      "TRAN_1pctCO2_CMIP5_bcc-csm1-1\n",
      "Overwrite existing file: bilinear_64x128_192x288_peri.nc \n",
      " You can set reuse_weights=True to save computing time.\n",
      "using dimensions ('lat', 'lon') from data variable TRAN as the horizontal dimensions for this dataset.\n",
      "bcc-csm1-1_piControl_tran not in the dictionary\n",
      "TRAN_piControl_CMIP5_bcc-csm1-1 is not in the dictionary\n",
      "TRAN_1pctCO2-rad_CMIP5_CanESM2\n",
      "Overwrite existing file: bilinear_64x128_192x288_peri.nc \n",
      " You can set reuse_weights=True to save computing time.\n",
      "using dimensions ('lat', 'lon') from data variable TRAN as the horizontal dimensions for this dataset.\n",
      "TRAN_1pctCO2-bgc_CMIP5_CanESM2\n",
      "Overwrite existing file: bilinear_64x128_192x288_peri.nc \n",
      " You can set reuse_weights=True to save computing time.\n",
      "using dimensions ('lat', 'lon') from data variable TRAN as the horizontal dimensions for this dataset.\n",
      "TRAN_1pctCO2_CMIP5_CanESM2\n",
      "Overwrite existing file: bilinear_64x128_192x288_peri.nc \n",
      " You can set reuse_weights=True to save computing time.\n",
      "using dimensions ('lat', 'lon') from data variable TRAN as the horizontal dimensions for this dataset.\n",
      "CanESM2_piControl_tran not in the dictionary\n",
      "TRAN_piControl_CMIP5_CanESM2 is not in the dictionary\n",
      "TRAN_1pctCO2-rad_CMIP5_CESM1-BGC\n",
      "Overwrite existing file: bilinear_192x288_192x288_peri.nc \n",
      " You can set reuse_weights=True to save computing time.\n",
      "using dimensions ('lat', 'lon') from data variable TRAN as the horizontal dimensions for this dataset.\n",
      "TRAN_1pctCO2-bgc_CMIP5_CESM1-BGC\n",
      "Overwrite existing file: bilinear_192x288_192x288_peri.nc \n",
      " You can set reuse_weights=True to save computing time.\n",
      "using dimensions ('lat', 'lon') from data variable TRAN as the horizontal dimensions for this dataset.\n",
      "TRAN_1pctCO2_CMIP5_CESM1-BGC\n",
      "Overwrite existing file: bilinear_192x288_192x288_peri.nc \n",
      " You can set reuse_weights=True to save computing time.\n",
      "using dimensions ('lat', 'lon') from data variable TRAN as the horizontal dimensions for this dataset.\n",
      "CESM1-BGC_piControl_tran not in the dictionary\n",
      "TRAN_piControl_CMIP5_CESM1-BGC is not in the dictionary\n",
      "TRAN_1pctCO2-rad_CMIP5_GFDL-ESM2M\n",
      "Overwrite existing file: bilinear_90x144_192x288_peri.nc \n",
      " You can set reuse_weights=True to save computing time.\n",
      "using dimensions ('lat', 'lon') from data variable TRAN as the horizontal dimensions for this dataset.\n",
      "TRAN_1pctCO2-bgc_CMIP5_GFDL-ESM2M\n",
      "Overwrite existing file: bilinear_90x144_192x288_peri.nc \n",
      " You can set reuse_weights=True to save computing time.\n",
      "using dimensions ('lat', 'lon') from data variable TRAN as the horizontal dimensions for this dataset.\n",
      "TRAN_1pctCO2_CMIP5_GFDL-ESM2M\n",
      "Overwrite existing file: bilinear_90x144_192x288_peri.nc \n",
      " You can set reuse_weights=True to save computing time.\n",
      "using dimensions ('lat', 'lon') from data variable TRAN as the horizontal dimensions for this dataset.\n",
      "GFDL-ESM2M_piControl_tran not in the dictionary\n",
      "TRAN_piControl_CMIP5_GFDL-ESM2M is not in the dictionary\n",
      "HadGEM2-ES_1pctCO2-rad_tran not in the dictionary\n",
      "TRAN_1pctCO2-rad_CMIP5_HadGEM2-ES is not in the dictionary\n",
      "HadGEM2-ES_1pctCO2-bgc_tran not in the dictionary\n",
      "TRAN_1pctCO2-bgc_CMIP5_HadGEM2-ES is not in the dictionary\n",
      "HadGEM2-ES_1pctCO2_tran not in the dictionary\n",
      "TRAN_1pctCO2_CMIP5_HadGEM2-ES is not in the dictionary\n",
      "HadGEM2-ES_piControl_tran not in the dictionary\n",
      "TRAN_piControl_CMIP5_HadGEM2-ES is not in the dictionary\n",
      "TRAN_1pctCO2-rad_CMIP5_IPSL-CM5A-LR\n",
      "Overwrite existing file: bilinear_96x96_192x288_peri.nc \n",
      " You can set reuse_weights=True to save computing time.\n",
      "using dimensions ('lat', 'lon') from data variable TRAN as the horizontal dimensions for this dataset.\n",
      "TRAN_1pctCO2-bgc_CMIP5_IPSL-CM5A-LR\n",
      "Overwrite existing file: bilinear_96x96_192x288_peri.nc \n",
      " You can set reuse_weights=True to save computing time.\n",
      "using dimensions ('lat', 'lon') from data variable TRAN as the horizontal dimensions for this dataset.\n",
      "TRAN_1pctCO2_CMIP5_IPSL-CM5A-LR\n",
      "Overwrite existing file: bilinear_96x96_192x288_peri.nc \n",
      " You can set reuse_weights=True to save computing time.\n",
      "using dimensions ('lat', 'lon') from data variable TRAN as the horizontal dimensions for this dataset.\n",
      "IPSL-CM5A-LR_piControl_tran not in the dictionary\n",
      "TRAN_piControl_CMIP5_IPSL-CM5A-LR is not in the dictionary\n",
      "TRAN_1pctCO2-rad_CMIP5_NorESM1-ME\n",
      "Overwrite existing file: bilinear_96x144_192x288_peri.nc \n",
      " You can set reuse_weights=True to save computing time.\n",
      "using dimensions ('lat', 'lon') from data variable TRAN as the horizontal dimensions for this dataset.\n",
      "TRAN_1pctCO2-bgc_CMIP5_NorESM1-ME\n",
      "Overwrite existing file: bilinear_96x144_192x288_peri.nc \n",
      " You can set reuse_weights=True to save computing time.\n",
      "using dimensions ('lat', 'lon') from data variable TRAN as the horizontal dimensions for this dataset.\n",
      "TRAN_1pctCO2_CMIP5_NorESM1-ME\n",
      "Overwrite existing file: bilinear_96x144_192x288_peri.nc \n",
      " You can set reuse_weights=True to save computing time.\n",
      "using dimensions ('lat', 'lon') from data variable TRAN as the horizontal dimensions for this dataset.\n",
      "NorESM1-ME_piControl_tran not in the dictionary\n",
      "TRAN_piControl_CMIP5_NorESM1-ME is not in the dictionary\n",
      "TRAN_1pctCO2-rad_CMIP5_MPI-ESM-LR\n",
      "Overwrite existing file: bilinear_96x192_192x288_peri.nc \n",
      " You can set reuse_weights=True to save computing time.\n",
      "using dimensions ('lat', 'lon') from data variable TRAN as the horizontal dimensions for this dataset.\n",
      "TRAN_1pctCO2-bgc_CMIP5_MPI-ESM-LR\n",
      "Overwrite existing file: bilinear_96x192_192x288_peri.nc \n",
      " You can set reuse_weights=True to save computing time.\n",
      "using dimensions ('lat', 'lon') from data variable TRAN as the horizontal dimensions for this dataset.\n",
      "TRAN_1pctCO2_CMIP5_MPI-ESM-LR\n",
      "Overwrite existing file: bilinear_96x192_192x288_peri.nc \n",
      " You can set reuse_weights=True to save computing time.\n",
      "using dimensions ('lat', 'lon') from data variable TRAN as the horizontal dimensions for this dataset.\n",
      "MPI-ESM-LR_piControl_tran not in the dictionary\n",
      "TRAN_piControl_CMIP5_MPI-ESM-LR is not in the dictionary\n",
      "TRAN_1pctCO2-rad_CMIP6_CNRM-ESM2-1\n",
      "Overwrite existing file: bilinear_128x256_192x288_peri.nc \n",
      " You can set reuse_weights=True to save computing time.\n",
      "using dimensions ('lat', 'lon') from data variable TRAN as the horizontal dimensions for this dataset.\n",
      "TRAN_1pctCO2-bgc_CMIP6_CNRM-ESM2-1\n",
      "Overwrite existing file: bilinear_128x256_192x288_peri.nc \n",
      " You can set reuse_weights=True to save computing time.\n",
      "using dimensions ('lat', 'lon') from data variable TRAN as the horizontal dimensions for this dataset.\n",
      "TRAN_1pctCO2_CMIP6_CNRM-ESM2-1\n",
      "Overwrite existing file: bilinear_128x256_192x288_peri.nc \n",
      " You can set reuse_weights=True to save computing time.\n",
      "using dimensions ('lat', 'lon') from data variable TRAN as the horizontal dimensions for this dataset.\n",
      "TRAN_piControl_CMIP6_CNRM-ESM2-1\n",
      "Overwrite existing file: bilinear_128x256_192x288_peri.nc \n",
      " You can set reuse_weights=True to save computing time.\n",
      "using dimensions ('lat', 'lon') from data variable TRAN as the horizontal dimensions for this dataset.\n",
      "TRAN_1pctCO2-rad_CMIP6_BCC-CSM2-MR\n",
      "Overwrite existing file: bilinear_160x320_192x288_peri.nc \n",
      " You can set reuse_weights=True to save computing time.\n",
      "using dimensions ('lat', 'lon') from data variable TRAN as the horizontal dimensions for this dataset.\n",
      "TRAN_1pctCO2-bgc_CMIP6_BCC-CSM2-MR\n",
      "Overwrite existing file: bilinear_160x320_192x288_peri.nc \n",
      " You can set reuse_weights=True to save computing time.\n",
      "using dimensions ('lat', 'lon') from data variable TRAN as the horizontal dimensions for this dataset.\n",
      "TRAN_1pctCO2_CMIP6_BCC-CSM2-MR\n",
      "Overwrite existing file: bilinear_160x320_192x288_peri.nc \n",
      " You can set reuse_weights=True to save computing time.\n",
      "using dimensions ('lat', 'lon') from data variable TRAN as the horizontal dimensions for this dataset.\n",
      "TRAN_piControl_CMIP6_BCC-CSM2-MR\n",
      "Overwrite existing file: bilinear_160x320_192x288_peri.nc \n",
      " You can set reuse_weights=True to save computing time.\n",
      "using dimensions ('lat', 'lon') from data variable TRAN as the horizontal dimensions for this dataset.\n",
      "TRAN_1pctCO2-rad_CMIP6_CanESM5\n",
      "Overwrite existing file: bilinear_64x128_192x288_peri.nc \n",
      " You can set reuse_weights=True to save computing time.\n",
      "using dimensions ('lat', 'lon') from data variable TRAN as the horizontal dimensions for this dataset.\n",
      "TRAN_1pctCO2-bgc_CMIP6_CanESM5\n",
      "Overwrite existing file: bilinear_64x128_192x288_peri.nc \n",
      " You can set reuse_weights=True to save computing time.\n",
      "using dimensions ('lat', 'lon') from data variable TRAN as the horizontal dimensions for this dataset.\n",
      "TRAN_1pctCO2_CMIP6_CanESM5\n",
      "Overwrite existing file: bilinear_64x128_192x288_peri.nc \n",
      " You can set reuse_weights=True to save computing time.\n",
      "using dimensions ('lat', 'lon') from data variable TRAN as the horizontal dimensions for this dataset.\n",
      "CanESM5_piControl_tran not in the dictionary\n",
      "TRAN_piControl_CMIP6_CanESM5 is not in the dictionary\n",
      "TRAN_1pctCO2-rad_CMIP6_CESM2\n",
      "Overwrite existing file: bilinear_192x288_192x288_peri.nc \n",
      " You can set reuse_weights=True to save computing time.\n",
      "using dimensions ('lat', 'lon') from data variable TRAN as the horizontal dimensions for this dataset.\n",
      "TRAN_1pctCO2-bgc_CMIP6_CESM2\n",
      "Overwrite existing file: bilinear_192x288_192x288_peri.nc \n",
      " You can set reuse_weights=True to save computing time.\n",
      "using dimensions ('lat', 'lon') from data variable TRAN as the horizontal dimensions for this dataset.\n",
      "TRAN_1pctCO2_CMIP6_CESM2\n",
      "Overwrite existing file: bilinear_192x288_192x288_peri.nc \n",
      " You can set reuse_weights=True to save computing time.\n",
      "using dimensions ('lat', 'lon') from data variable TRAN as the horizontal dimensions for this dataset.\n",
      "CESM2_piControl_tran not in the dictionary\n",
      "TRAN_piControl_CMIP6_CESM2 is not in the dictionary\n",
      "TRAN_1pctCO2-rad_CMIP6_GISS-E2-1-G\n",
      "Overwrite existing file: bilinear_90x144_192x288_peri.nc \n",
      " You can set reuse_weights=True to save computing time.\n",
      "using dimensions ('lat', 'lon') from data variable TRAN as the horizontal dimensions for this dataset.\n",
      "TRAN_1pctCO2-bgc_CMIP6_GISS-E2-1-G\n",
      "Overwrite existing file: bilinear_90x144_192x288_peri.nc \n",
      " You can set reuse_weights=True to save computing time.\n",
      "using dimensions ('lat', 'lon') from data variable TRAN as the horizontal dimensions for this dataset.\n",
      "TRAN_1pctCO2_CMIP6_GISS-E2-1-G\n",
      "Overwrite existing file: bilinear_90x144_192x288_peri.nc \n",
      " You can set reuse_weights=True to save computing time.\n",
      "using dimensions ('lat', 'lon') from data variable TRAN as the horizontal dimensions for this dataset.\n",
      "GISS-E2-1-G_piControl_tran not in the dictionary\n",
      "TRAN_piControl_CMIP6_GISS-E2-1-G is not in the dictionary\n",
      "TRAN_1pctCO2-rad_CMIP6_UKESM1-0-LL\n",
      "Overwrite existing file: bilinear_144x192_192x288_peri.nc \n",
      " You can set reuse_weights=True to save computing time.\n",
      "using dimensions ('lat', 'lon') from data variable TRAN as the horizontal dimensions for this dataset.\n",
      "TRAN_1pctCO2-bgc_CMIP6_UKESM1-0-LL\n",
      "Overwrite existing file: bilinear_144x192_192x288_peri.nc \n",
      " You can set reuse_weights=True to save computing time.\n",
      "using dimensions ('lat', 'lon') from data variable TRAN as the horizontal dimensions for this dataset.\n",
      "TRAN_1pctCO2_CMIP6_UKESM1-0-LL\n",
      "Overwrite existing file: bilinear_144x192_192x288_peri.nc \n",
      " You can set reuse_weights=True to save computing time.\n",
      "using dimensions ('lat', 'lon') from data variable TRAN as the horizontal dimensions for this dataset.\n",
      "TRAN_piControl_CMIP6_UKESM1-0-LL\n",
      "Overwrite existing file: bilinear_144x192_192x288_peri.nc \n",
      " You can set reuse_weights=True to save computing time.\n",
      "using dimensions ('lat', 'lon') from data variable TRAN as the horizontal dimensions for this dataset.\n",
      "GFDL-ESM4_1pctCO2-rad_tran not in the dictionary\n",
      "TRAN_1pctCO2-rad_CMIP6_GFDL-ESM4 is not in the dictionary\n",
      "TRAN_1pctCO2-bgc_CMIP6_GFDL-ESM4\n",
      "Overwrite existing file: bilinear_180x288_192x288_peri.nc \n",
      " You can set reuse_weights=True to save computing time.\n",
      "using dimensions ('lat', 'lon') from data variable TRAN as the horizontal dimensions for this dataset.\n",
      "TRAN_1pctCO2_CMIP6_GFDL-ESM4\n",
      "Overwrite existing file: bilinear_180x288_192x288_peri.nc \n",
      " You can set reuse_weights=True to save computing time.\n",
      "using dimensions ('lat', 'lon') from data variable TRAN as the horizontal dimensions for this dataset.\n",
      "TRAN_piControl_CMIP6_GFDL-ESM4\n",
      "Overwrite existing file: bilinear_180x288_192x288_peri.nc \n",
      " You can set reuse_weights=True to save computing time.\n",
      "using dimensions ('lat', 'lon') from data variable TRAN as the horizontal dimensions for this dataset.\n",
      "TRAN_1pctCO2-rad_CMIP6_IPSL-CM6A-LR\n",
      "Overwrite existing file: bilinear_143x144_192x288_peri.nc \n",
      " You can set reuse_weights=True to save computing time.\n",
      "using dimensions ('lat', 'lon') from data variable TRAN as the horizontal dimensions for this dataset.\n",
      "TRAN_1pctCO2-bgc_CMIP6_IPSL-CM6A-LR\n",
      "Overwrite existing file: bilinear_143x144_192x288_peri.nc \n",
      " You can set reuse_weights=True to save computing time.\n",
      "using dimensions ('lat', 'lon') from data variable TRAN as the horizontal dimensions for this dataset.\n",
      "TRAN_1pctCO2_CMIP6_IPSL-CM6A-LR\n",
      "Overwrite existing file: bilinear_143x144_192x288_peri.nc \n",
      " You can set reuse_weights=True to save computing time.\n",
      "using dimensions ('lat', 'lon') from data variable TRAN as the horizontal dimensions for this dataset.\n",
      "TRAN_piControl_CMIP6_IPSL-CM6A-LR\n",
      "Overwrite existing file: bilinear_143x144_192x288_peri.nc \n",
      " You can set reuse_weights=True to save computing time.\n",
      "using dimensions ('lat', 'lon') from data variable TRAN as the horizontal dimensions for this dataset.\n",
      "TRAN_1pctCO2-rad_CMIP6_MIROC-ES2L\n",
      "Overwrite existing file: bilinear_64x128_192x288_peri.nc \n",
      " You can set reuse_weights=True to save computing time.\n",
      "using dimensions ('lat', 'lon') from data variable TRAN as the horizontal dimensions for this dataset.\n",
      "TRAN_1pctCO2-bgc_CMIP6_MIROC-ES2L\n",
      "Overwrite existing file: bilinear_64x128_192x288_peri.nc \n",
      " You can set reuse_weights=True to save computing time.\n",
      "using dimensions ('lat', 'lon') from data variable TRAN as the horizontal dimensions for this dataset.\n",
      "TRAN_1pctCO2_CMIP6_MIROC-ES2L\n",
      "Overwrite existing file: bilinear_64x128_192x288_peri.nc \n",
      " You can set reuse_weights=True to save computing time.\n",
      "using dimensions ('lat', 'lon') from data variable TRAN as the horizontal dimensions for this dataset.\n",
      "MIROC-ES2L_piControl_tran not in the dictionary\n",
      "TRAN_piControl_CMIP6_MIROC-ES2L is not in the dictionary\n",
      "TRAN_1pctCO2-rad_CMIP6_NorESM2-LM\n",
      "Overwrite existing file: bilinear_96x144_192x288_peri.nc \n",
      " You can set reuse_weights=True to save computing time.\n",
      "using dimensions ('lat', 'lon') from data variable TRAN as the horizontal dimensions for this dataset.\n",
      "NorESM2-LM_1pctCO2-bgc_tran not in the dictionary\n",
      "TRAN_1pctCO2-bgc_CMIP6_NorESM2-LM is not in the dictionary\n",
      "TRAN_1pctCO2_CMIP6_NorESM2-LM\n",
      "Overwrite existing file: bilinear_96x144_192x288_peri.nc \n",
      " You can set reuse_weights=True to save computing time.\n",
      "using dimensions ('lat', 'lon') from data variable TRAN as the horizontal dimensions for this dataset.\n",
      "NorESM2-LM_piControl_tran not in the dictionary\n",
      "TRAN_piControl_CMIP6_NorESM2-LM is not in the dictionary\n",
      "MPI-ESM1-2-LR_1pctCO2-rad_tran not in the dictionary\n",
      "TRAN_1pctCO2-rad_CMIP6_MPI-ESM1-2-LR is not in the dictionary\n",
      "MPI-ESM1-2-LR_1pctCO2-bgc_tran not in the dictionary\n",
      "TRAN_1pctCO2-bgc_CMIP6_MPI-ESM1-2-LR is not in the dictionary\n",
      "MPI-ESM1-2-LR_1pctCO2_tran not in the dictionary\n",
      "TRAN_1pctCO2_CMIP6_MPI-ESM1-2-LR is not in the dictionary\n",
      "MPI-ESM1-2-LR_piControl_tran not in the dictionary\n",
      "TRAN_piControl_CMIP6_MPI-ESM1-2-LR is not in the dictionary\n",
      "ACCESS-ESM1-5_1pctCO2-rad_tran not in the dictionary\n",
      "TRAN_1pctCO2-rad_CMIP6_ACCESS-ESM1-5 is not in the dictionary\n",
      "ACCESS-ESM1-5_1pctCO2-bgc_tran not in the dictionary\n",
      "TRAN_1pctCO2-bgc_CMIP6_ACCESS-ESM1-5 is not in the dictionary\n",
      "ACCESS-ESM1-5_1pctCO2_tran not in the dictionary\n",
      "TRAN_1pctCO2_CMIP6_ACCESS-ESM1-5 is not in the dictionary\n",
      "ACCESS-ESM1-5_piControl_tran not in the dictionary\n",
      "TRAN_piControl_CMIP6_ACCESS-ESM1-5 is not in the dictionary\n",
      "EVAP_1pctCO2-rad_CMIP5_bcc-csm1-1\n",
      "Overwrite existing file: bilinear_64x128_192x288_peri.nc \n",
      " You can set reuse_weights=True to save computing time.\n",
      "using dimensions ('lat', 'lon') from data variable EVAP as the horizontal dimensions for this dataset.\n",
      "EVAP_1pctCO2-bgc_CMIP5_bcc-csm1-1\n",
      "Overwrite existing file: bilinear_64x128_192x288_peri.nc \n",
      " You can set reuse_weights=True to save computing time.\n",
      "using dimensions ('lat', 'lon') from data variable EVAP as the horizontal dimensions for this dataset.\n",
      "EVAP_1pctCO2_CMIP5_bcc-csm1-1\n",
      "Overwrite existing file: bilinear_64x128_192x288_peri.nc \n",
      " You can set reuse_weights=True to save computing time.\n",
      "using dimensions ('lat', 'lon') from data variable EVAP as the horizontal dimensions for this dataset.\n",
      "bcc-csm1-1_piControl_tran not in the dictionary\n",
      "EVAP_piControl_CMIP5_bcc-csm1-1 is not in the dictionary\n",
      "EVAP_1pctCO2-rad_CMIP5_CanESM2\n",
      "Overwrite existing file: bilinear_64x128_192x288_peri.nc \n",
      " You can set reuse_weights=True to save computing time.\n",
      "using dimensions ('lat', 'lon') from data variable EVAP as the horizontal dimensions for this dataset.\n",
      "EVAP_1pctCO2-bgc_CMIP5_CanESM2\n",
      "Overwrite existing file: bilinear_64x128_192x288_peri.nc \n",
      " You can set reuse_weights=True to save computing time.\n",
      "using dimensions ('lat', 'lon') from data variable EVAP as the horizontal dimensions for this dataset.\n",
      "EVAP_1pctCO2_CMIP5_CanESM2\n",
      "Overwrite existing file: bilinear_64x128_192x288_peri.nc \n",
      " You can set reuse_weights=True to save computing time.\n",
      "using dimensions ('lat', 'lon') from data variable EVAP as the horizontal dimensions for this dataset.\n",
      "CanESM2_piControl_tran not in the dictionary\n",
      "EVAP_piControl_CMIP5_CanESM2 is not in the dictionary\n",
      "EVAP_1pctCO2-rad_CMIP5_CESM1-BGC\n",
      "Overwrite existing file: bilinear_192x288_192x288_peri.nc \n",
      " You can set reuse_weights=True to save computing time.\n",
      "using dimensions ('lat', 'lon') from data variable EVAP as the horizontal dimensions for this dataset.\n",
      "EVAP_1pctCO2-bgc_CMIP5_CESM1-BGC\n",
      "Overwrite existing file: bilinear_192x288_192x288_peri.nc \n",
      " You can set reuse_weights=True to save computing time.\n",
      "using dimensions ('lat', 'lon') from data variable EVAP as the horizontal dimensions for this dataset.\n",
      "EVAP_1pctCO2_CMIP5_CESM1-BGC\n",
      "Overwrite existing file: bilinear_192x288_192x288_peri.nc \n",
      " You can set reuse_weights=True to save computing time.\n",
      "using dimensions ('lat', 'lon') from data variable EVAP as the horizontal dimensions for this dataset.\n",
      "CESM1-BGC_piControl_tran not in the dictionary\n",
      "EVAP_piControl_CMIP5_CESM1-BGC is not in the dictionary\n",
      "EVAP_1pctCO2-rad_CMIP5_GFDL-ESM2M\n",
      "Overwrite existing file: bilinear_90x144_192x288_peri.nc \n",
      " You can set reuse_weights=True to save computing time.\n",
      "using dimensions ('lat', 'lon') from data variable EVAP as the horizontal dimensions for this dataset.\n",
      "EVAP_1pctCO2-bgc_CMIP5_GFDL-ESM2M\n",
      "Overwrite existing file: bilinear_90x144_192x288_peri.nc \n",
      " You can set reuse_weights=True to save computing time.\n",
      "using dimensions ('lat', 'lon') from data variable EVAP as the horizontal dimensions for this dataset.\n",
      "EVAP_1pctCO2_CMIP5_GFDL-ESM2M\n",
      "Overwrite existing file: bilinear_90x144_192x288_peri.nc \n",
      " You can set reuse_weights=True to save computing time.\n",
      "using dimensions ('lat', 'lon') from data variable EVAP as the horizontal dimensions for this dataset.\n",
      "GFDL-ESM2M_piControl_tran not in the dictionary\n",
      "EVAP_piControl_CMIP5_GFDL-ESM2M is not in the dictionary\n",
      "HadGEM2-ES_1pctCO2-rad_tran not in the dictionary\n",
      "EVAP_1pctCO2-rad_CMIP5_HadGEM2-ES is not in the dictionary\n",
      "HadGEM2-ES_1pctCO2-bgc_tran not in the dictionary\n",
      "EVAP_1pctCO2-bgc_CMIP5_HadGEM2-ES is not in the dictionary\n",
      "HadGEM2-ES_1pctCO2_tran not in the dictionary\n",
      "EVAP_1pctCO2_CMIP5_HadGEM2-ES is not in the dictionary\n",
      "HadGEM2-ES_piControl_tran not in the dictionary\n",
      "EVAP_piControl_CMIP5_HadGEM2-ES is not in the dictionary\n",
      "EVAP_1pctCO2-rad_CMIP5_IPSL-CM5A-LR\n",
      "Overwrite existing file: bilinear_96x96_192x288_peri.nc \n",
      " You can set reuse_weights=True to save computing time.\n",
      "using dimensions ('lat', 'lon') from data variable EVAP as the horizontal dimensions for this dataset.\n",
      "EVAP_1pctCO2-bgc_CMIP5_IPSL-CM5A-LR\n",
      "Overwrite existing file: bilinear_96x96_192x288_peri.nc \n",
      " You can set reuse_weights=True to save computing time.\n",
      "using dimensions ('lat', 'lon') from data variable EVAP as the horizontal dimensions for this dataset.\n",
      "EVAP_1pctCO2_CMIP5_IPSL-CM5A-LR\n",
      "Overwrite existing file: bilinear_96x96_192x288_peri.nc \n",
      " You can set reuse_weights=True to save computing time.\n",
      "using dimensions ('lat', 'lon') from data variable EVAP as the horizontal dimensions for this dataset.\n",
      "IPSL-CM5A-LR_piControl_tran not in the dictionary\n",
      "EVAP_piControl_CMIP5_IPSL-CM5A-LR is not in the dictionary\n",
      "EVAP_1pctCO2-rad_CMIP5_NorESM1-ME\n",
      "Overwrite existing file: bilinear_96x144_192x288_peri.nc \n",
      " You can set reuse_weights=True to save computing time.\n",
      "using dimensions ('lat', 'lon') from data variable EVAP as the horizontal dimensions for this dataset.\n",
      "EVAP_1pctCO2-bgc_CMIP5_NorESM1-ME\n",
      "Overwrite existing file: bilinear_96x144_192x288_peri.nc \n",
      " You can set reuse_weights=True to save computing time.\n",
      "using dimensions ('lat', 'lon') from data variable EVAP as the horizontal dimensions for this dataset.\n",
      "EVAP_1pctCO2_CMIP5_NorESM1-ME\n",
      "Overwrite existing file: bilinear_96x144_192x288_peri.nc \n",
      " You can set reuse_weights=True to save computing time.\n",
      "using dimensions ('lat', 'lon') from data variable EVAP as the horizontal dimensions for this dataset.\n",
      "NorESM1-ME_piControl_tran not in the dictionary\n",
      "EVAP_piControl_CMIP5_NorESM1-ME is not in the dictionary\n",
      "EVAP_1pctCO2-rad_CMIP5_MPI-ESM-LR\n",
      "Overwrite existing file: bilinear_96x192_192x288_peri.nc \n",
      " You can set reuse_weights=True to save computing time.\n",
      "using dimensions ('lat', 'lon') from data variable EVAP as the horizontal dimensions for this dataset.\n",
      "EVAP_1pctCO2-bgc_CMIP5_MPI-ESM-LR\n",
      "Overwrite existing file: bilinear_96x192_192x288_peri.nc \n",
      " You can set reuse_weights=True to save computing time.\n",
      "using dimensions ('lat', 'lon') from data variable EVAP as the horizontal dimensions for this dataset.\n",
      "EVAP_1pctCO2_CMIP5_MPI-ESM-LR\n",
      "Overwrite existing file: bilinear_96x192_192x288_peri.nc \n",
      " You can set reuse_weights=True to save computing time.\n",
      "using dimensions ('lat', 'lon') from data variable EVAP as the horizontal dimensions for this dataset.\n",
      "MPI-ESM-LR_piControl_tran not in the dictionary\n",
      "EVAP_piControl_CMIP5_MPI-ESM-LR is not in the dictionary\n",
      "EVAP_1pctCO2-rad_CMIP6_CNRM-ESM2-1\n",
      "Overwrite existing file: bilinear_128x256_192x288_peri.nc \n",
      " You can set reuse_weights=True to save computing time.\n",
      "using dimensions ('lat', 'lon') from data variable EVAP as the horizontal dimensions for this dataset.\n",
      "EVAP_1pctCO2-bgc_CMIP6_CNRM-ESM2-1\n",
      "Overwrite existing file: bilinear_128x256_192x288_peri.nc \n",
      " You can set reuse_weights=True to save computing time.\n",
      "using dimensions ('lat', 'lon') from data variable EVAP as the horizontal dimensions for this dataset.\n",
      "EVAP_1pctCO2_CMIP6_CNRM-ESM2-1\n",
      "Overwrite existing file: bilinear_128x256_192x288_peri.nc \n",
      " You can set reuse_weights=True to save computing time.\n",
      "using dimensions ('lat', 'lon') from data variable EVAP as the horizontal dimensions for this dataset.\n",
      "EVAP_piControl_CMIP6_CNRM-ESM2-1\n",
      "Overwrite existing file: bilinear_128x256_192x288_peri.nc \n",
      " You can set reuse_weights=True to save computing time.\n",
      "using dimensions ('lat', 'lon') from data variable EVAP as the horizontal dimensions for this dataset.\n",
      "EVAP_1pctCO2-rad_CMIP6_BCC-CSM2-MR\n",
      "Overwrite existing file: bilinear_160x320_192x288_peri.nc \n",
      " You can set reuse_weights=True to save computing time.\n",
      "using dimensions ('lat', 'lon') from data variable EVAP as the horizontal dimensions for this dataset.\n",
      "EVAP_1pctCO2-bgc_CMIP6_BCC-CSM2-MR\n",
      "Overwrite existing file: bilinear_160x320_192x288_peri.nc \n",
      " You can set reuse_weights=True to save computing time.\n",
      "using dimensions ('lat', 'lon') from data variable EVAP as the horizontal dimensions for this dataset.\n",
      "EVAP_1pctCO2_CMIP6_BCC-CSM2-MR\n",
      "Overwrite existing file: bilinear_160x320_192x288_peri.nc \n",
      " You can set reuse_weights=True to save computing time.\n",
      "using dimensions ('lat', 'lon') from data variable EVAP as the horizontal dimensions for this dataset.\n",
      "EVAP_piControl_CMIP6_BCC-CSM2-MR\n",
      "Overwrite existing file: bilinear_160x320_192x288_peri.nc \n",
      " You can set reuse_weights=True to save computing time.\n",
      "using dimensions ('lat', 'lon') from data variable EVAP as the horizontal dimensions for this dataset.\n",
      "EVAP_1pctCO2-rad_CMIP6_CanESM5\n",
      "Overwrite existing file: bilinear_64x128_192x288_peri.nc \n",
      " You can set reuse_weights=True to save computing time.\n",
      "using dimensions ('lat', 'lon') from data variable EVAP as the horizontal dimensions for this dataset.\n",
      "EVAP_1pctCO2-bgc_CMIP6_CanESM5\n",
      "Overwrite existing file: bilinear_64x128_192x288_peri.nc \n",
      " You can set reuse_weights=True to save computing time.\n",
      "using dimensions ('lat', 'lon') from data variable EVAP as the horizontal dimensions for this dataset.\n",
      "EVAP_1pctCO2_CMIP6_CanESM5\n",
      "Overwrite existing file: bilinear_64x128_192x288_peri.nc \n",
      " You can set reuse_weights=True to save computing time.\n",
      "using dimensions ('lat', 'lon') from data variable EVAP as the horizontal dimensions for this dataset.\n",
      "CanESM5_piControl_tran not in the dictionary\n",
      "EVAP_piControl_CMIP6_CanESM5 is not in the dictionary\n",
      "EVAP_1pctCO2-rad_CMIP6_CESM2\n",
      "Overwrite existing file: bilinear_192x288_192x288_peri.nc \n",
      " You can set reuse_weights=True to save computing time.\n",
      "using dimensions ('lat', 'lon') from data variable EVAP as the horizontal dimensions for this dataset.\n",
      "EVAP_1pctCO2-bgc_CMIP6_CESM2\n",
      "Overwrite existing file: bilinear_192x288_192x288_peri.nc \n",
      " You can set reuse_weights=True to save computing time.\n",
      "using dimensions ('lat', 'lon') from data variable EVAP as the horizontal dimensions for this dataset.\n",
      "EVAP_1pctCO2_CMIP6_CESM2\n",
      "Overwrite existing file: bilinear_192x288_192x288_peri.nc \n",
      " You can set reuse_weights=True to save computing time.\n",
      "using dimensions ('lat', 'lon') from data variable EVAP as the horizontal dimensions for this dataset.\n",
      "CESM2_piControl_tran not in the dictionary\n",
      "EVAP_piControl_CMIP6_CESM2 is not in the dictionary\n",
      "EVAP_1pctCO2-rad_CMIP6_GISS-E2-1-G\n",
      "Overwrite existing file: bilinear_90x144_192x288_peri.nc \n",
      " You can set reuse_weights=True to save computing time.\n",
      "using dimensions ('lat', 'lon') from data variable EVAP as the horizontal dimensions for this dataset.\n",
      "EVAP_1pctCO2-bgc_CMIP6_GISS-E2-1-G\n",
      "Overwrite existing file: bilinear_90x144_192x288_peri.nc \n",
      " You can set reuse_weights=True to save computing time.\n",
      "using dimensions ('lat', 'lon') from data variable EVAP as the horizontal dimensions for this dataset.\n",
      "EVAP_1pctCO2_CMIP6_GISS-E2-1-G\n",
      "Overwrite existing file: bilinear_90x144_192x288_peri.nc \n",
      " You can set reuse_weights=True to save computing time.\n",
      "using dimensions ('lat', 'lon') from data variable EVAP as the horizontal dimensions for this dataset.\n",
      "GISS-E2-1-G_piControl_tran not in the dictionary\n",
      "EVAP_piControl_CMIP6_GISS-E2-1-G is not in the dictionary\n",
      "EVAP_1pctCO2-rad_CMIP6_UKESM1-0-LL\n",
      "Overwrite existing file: bilinear_144x192_192x288_peri.nc \n",
      " You can set reuse_weights=True to save computing time.\n",
      "using dimensions ('lat', 'lon') from data variable EVAP as the horizontal dimensions for this dataset.\n",
      "EVAP_1pctCO2-bgc_CMIP6_UKESM1-0-LL\n",
      "Overwrite existing file: bilinear_144x192_192x288_peri.nc \n",
      " You can set reuse_weights=True to save computing time.\n",
      "using dimensions ('lat', 'lon') from data variable EVAP as the horizontal dimensions for this dataset.\n",
      "EVAP_1pctCO2_CMIP6_UKESM1-0-LL\n",
      "Overwrite existing file: bilinear_144x192_192x288_peri.nc \n",
      " You can set reuse_weights=True to save computing time.\n",
      "using dimensions ('lat', 'lon') from data variable EVAP as the horizontal dimensions for this dataset.\n",
      "EVAP_piControl_CMIP6_UKESM1-0-LL\n",
      "Overwrite existing file: bilinear_144x192_192x288_peri.nc \n",
      " You can set reuse_weights=True to save computing time.\n",
      "using dimensions ('lat', 'lon') from data variable EVAP as the horizontal dimensions for this dataset.\n",
      "GFDL-ESM4_1pctCO2-rad_tran not in the dictionary\n",
      "EVAP_1pctCO2-rad_CMIP6_GFDL-ESM4 is not in the dictionary\n",
      "GFDL-ESM4_1pctCO2-bgc_tran not in the dictionary\n",
      "EVAP_1pctCO2-bgc_CMIP6_GFDL-ESM4 is not in the dictionary\n",
      "EVAP_1pctCO2_CMIP6_GFDL-ESM4\n",
      "Overwrite existing file: bilinear_180x288_192x288_peri.nc \n",
      " You can set reuse_weights=True to save computing time.\n",
      "using dimensions ('lat', 'lon') from data variable EVAP as the horizontal dimensions for this dataset.\n",
      "GFDL-ESM4_piControl_tran not in the dictionary\n",
      "EVAP_piControl_CMIP6_GFDL-ESM4 is not in the dictionary\n",
      "EVAP_1pctCO2-rad_CMIP6_IPSL-CM6A-LR\n",
      "Overwrite existing file: bilinear_143x144_192x288_peri.nc \n",
      " You can set reuse_weights=True to save computing time.\n",
      "using dimensions ('lat', 'lon') from data variable EVAP as the horizontal dimensions for this dataset.\n",
      "EVAP_1pctCO2-bgc_CMIP6_IPSL-CM6A-LR\n",
      "Overwrite existing file: bilinear_143x144_192x288_peri.nc \n",
      " You can set reuse_weights=True to save computing time.\n",
      "using dimensions ('lat', 'lon') from data variable EVAP as the horizontal dimensions for this dataset.\n",
      "EVAP_1pctCO2_CMIP6_IPSL-CM6A-LR\n",
      "Overwrite existing file: bilinear_143x144_192x288_peri.nc \n",
      " You can set reuse_weights=True to save computing time.\n",
      "using dimensions ('lat', 'lon') from data variable EVAP as the horizontal dimensions for this dataset.\n",
      "EVAP_piControl_CMIP6_IPSL-CM6A-LR\n",
      "Overwrite existing file: bilinear_143x144_192x288_peri.nc \n",
      " You can set reuse_weights=True to save computing time.\n",
      "using dimensions ('lat', 'lon') from data variable EVAP as the horizontal dimensions for this dataset.\n",
      "EVAP_1pctCO2-rad_CMIP6_MIROC-ES2L\n",
      "Overwrite existing file: bilinear_64x128_192x288_peri.nc \n",
      " You can set reuse_weights=True to save computing time.\n",
      "using dimensions ('lat', 'lon') from data variable EVAP as the horizontal dimensions for this dataset.\n",
      "EVAP_1pctCO2-bgc_CMIP6_MIROC-ES2L\n",
      "Overwrite existing file: bilinear_64x128_192x288_peri.nc \n",
      " You can set reuse_weights=True to save computing time.\n",
      "using dimensions ('lat', 'lon') from data variable EVAP as the horizontal dimensions for this dataset.\n",
      "EVAP_1pctCO2_CMIP6_MIROC-ES2L\n",
      "Overwrite existing file: bilinear_64x128_192x288_peri.nc \n",
      " You can set reuse_weights=True to save computing time.\n",
      "using dimensions ('lat', 'lon') from data variable EVAP as the horizontal dimensions for this dataset.\n",
      "MIROC-ES2L_piControl_tran not in the dictionary\n",
      "EVAP_piControl_CMIP6_MIROC-ES2L is not in the dictionary\n",
      "EVAP_1pctCO2-rad_CMIP6_NorESM2-LM\n",
      "Overwrite existing file: bilinear_96x144_192x288_peri.nc \n",
      " You can set reuse_weights=True to save computing time.\n",
      "using dimensions ('lat', 'lon') from data variable EVAP as the horizontal dimensions for this dataset.\n",
      "NorESM2-LM_1pctCO2-bgc_tran not in the dictionary\n",
      "EVAP_1pctCO2-bgc_CMIP6_NorESM2-LM is not in the dictionary\n",
      "EVAP_1pctCO2_CMIP6_NorESM2-LM\n",
      "Overwrite existing file: bilinear_96x144_192x288_peri.nc \n",
      " You can set reuse_weights=True to save computing time.\n",
      "using dimensions ('lat', 'lon') from data variable EVAP as the horizontal dimensions for this dataset.\n",
      "NorESM2-LM_piControl_tran not in the dictionary\n",
      "EVAP_piControl_CMIP6_NorESM2-LM is not in the dictionary\n",
      "MPI-ESM1-2-LR_1pctCO2-rad_tran not in the dictionary\n",
      "EVAP_1pctCO2-rad_CMIP6_MPI-ESM1-2-LR is not in the dictionary\n",
      "MPI-ESM1-2-LR_1pctCO2-bgc_tran not in the dictionary\n",
      "EVAP_1pctCO2-bgc_CMIP6_MPI-ESM1-2-LR is not in the dictionary\n",
      "MPI-ESM1-2-LR_1pctCO2_tran not in the dictionary\n",
      "EVAP_1pctCO2_CMIP6_MPI-ESM1-2-LR is not in the dictionary\n",
      "MPI-ESM1-2-LR_piControl_tran not in the dictionary\n",
      "EVAP_piControl_CMIP6_MPI-ESM1-2-LR is not in the dictionary\n",
      "ACCESS-ESM1-5_1pctCO2-rad_tran not in the dictionary\n",
      "EVAP_1pctCO2-rad_CMIP6_ACCESS-ESM1-5 is not in the dictionary\n",
      "ACCESS-ESM1-5_1pctCO2-bgc_tran not in the dictionary\n",
      "EVAP_1pctCO2-bgc_CMIP6_ACCESS-ESM1-5 is not in the dictionary\n",
      "ACCESS-ESM1-5_1pctCO2_tran not in the dictionary\n",
      "EVAP_1pctCO2_CMIP6_ACCESS-ESM1-5 is not in the dictionary\n",
      "ACCESS-ESM1-5_piControl_tran not in the dictionary\n",
      "EVAP_piControl_CMIP6_ACCESS-ESM1-5 is not in the dictionary\n",
      "ET_1pctCO2-rad_CMIP5_bcc-csm1-1\n",
      "Overwrite existing file: bilinear_64x128_192x288_peri.nc \n",
      " You can set reuse_weights=True to save computing time.\n",
      "using dimensions ('lat', 'lon') from data variable ET as the horizontal dimensions for this dataset.\n",
      "ET_1pctCO2-bgc_CMIP5_bcc-csm1-1\n",
      "Overwrite existing file: bilinear_64x128_192x288_peri.nc \n",
      " You can set reuse_weights=True to save computing time.\n",
      "using dimensions ('lat', 'lon') from data variable ET as the horizontal dimensions for this dataset.\n",
      "ET_1pctCO2_CMIP5_bcc-csm1-1\n",
      "Overwrite existing file: bilinear_64x128_192x288_peri.nc \n",
      " You can set reuse_weights=True to save computing time.\n",
      "using dimensions ('lat', 'lon') from data variable ET as the horizontal dimensions for this dataset.\n",
      "bcc-csm1-1_piControl_evspsbl not in the dictionary\n",
      "ET_piControl_CMIP5_bcc-csm1-1 is not in the dictionary\n",
      "ET_1pctCO2-rad_CMIP5_CanESM2\n",
      "Overwrite existing file: bilinear_64x128_192x288_peri.nc \n",
      " You can set reuse_weights=True to save computing time.\n",
      "using dimensions ('lat', 'lon') from data variable ET as the horizontal dimensions for this dataset.\n",
      "ET_1pctCO2-bgc_CMIP5_CanESM2\n",
      "Overwrite existing file: bilinear_64x128_192x288_peri.nc \n",
      " You can set reuse_weights=True to save computing time.\n",
      "using dimensions ('lat', 'lon') from data variable ET as the horizontal dimensions for this dataset.\n",
      "ET_1pctCO2_CMIP5_CanESM2\n",
      "Overwrite existing file: bilinear_64x128_192x288_peri.nc \n",
      " You can set reuse_weights=True to save computing time.\n",
      "using dimensions ('lat', 'lon') from data variable ET as the horizontal dimensions for this dataset.\n",
      "CanESM2_piControl_evspsbl not in the dictionary\n",
      "ET_piControl_CMIP5_CanESM2 is not in the dictionary\n",
      "ET_1pctCO2-rad_CMIP5_CESM1-BGC\n",
      "Overwrite existing file: bilinear_192x288_192x288_peri.nc \n",
      " You can set reuse_weights=True to save computing time.\n",
      "using dimensions ('lat', 'lon') from data variable ET as the horizontal dimensions for this dataset.\n",
      "ET_1pctCO2-bgc_CMIP5_CESM1-BGC\n",
      "Overwrite existing file: bilinear_192x288_192x288_peri.nc \n",
      " You can set reuse_weights=True to save computing time.\n",
      "using dimensions ('lat', 'lon') from data variable ET as the horizontal dimensions for this dataset.\n",
      "ET_1pctCO2_CMIP5_CESM1-BGC\n",
      "Overwrite existing file: bilinear_192x288_192x288_peri.nc \n",
      " You can set reuse_weights=True to save computing time.\n",
      "using dimensions ('lat', 'lon') from data variable ET as the horizontal dimensions for this dataset.\n",
      "CESM1-BGC_piControl_evspsbl not in the dictionary\n",
      "ET_piControl_CMIP5_CESM1-BGC is not in the dictionary\n",
      "ET_1pctCO2-rad_CMIP5_GFDL-ESM2M\n",
      "Overwrite existing file: bilinear_90x144_192x288_peri.nc \n",
      " You can set reuse_weights=True to save computing time.\n",
      "using dimensions ('lat', 'lon') from data variable ET as the horizontal dimensions for this dataset.\n",
      "ET_1pctCO2-bgc_CMIP5_GFDL-ESM2M\n",
      "Overwrite existing file: bilinear_90x144_192x288_peri.nc \n",
      " You can set reuse_weights=True to save computing time.\n",
      "using dimensions ('lat', 'lon') from data variable ET as the horizontal dimensions for this dataset.\n",
      "ET_1pctCO2_CMIP5_GFDL-ESM2M\n",
      "Overwrite existing file: bilinear_90x144_192x288_peri.nc \n",
      " You can set reuse_weights=True to save computing time.\n",
      "using dimensions ('lat', 'lon') from data variable ET as the horizontal dimensions for this dataset.\n",
      "GFDL-ESM2M_piControl_evspsbl not in the dictionary\n",
      "ET_piControl_CMIP5_GFDL-ESM2M is not in the dictionary\n",
      "ET_1pctCO2-rad_CMIP5_HadGEM2-ES\n",
      "Overwrite existing file: bilinear_145x192_192x288_peri.nc \n",
      " You can set reuse_weights=True to save computing time.\n",
      "using dimensions ('lat', 'lon') from data variable ET as the horizontal dimensions for this dataset.\n",
      "ET_1pctCO2-bgc_CMIP5_HadGEM2-ES\n",
      "Overwrite existing file: bilinear_145x192_192x288_peri.nc \n",
      " You can set reuse_weights=True to save computing time.\n",
      "using dimensions ('lat', 'lon') from data variable ET as the horizontal dimensions for this dataset.\n",
      "ET_1pctCO2_CMIP5_HadGEM2-ES\n",
      "Overwrite existing file: bilinear_145x192_192x288_peri.nc \n",
      " You can set reuse_weights=True to save computing time.\n",
      "using dimensions ('lat', 'lon') from data variable ET as the horizontal dimensions for this dataset.\n",
      "HadGEM2-ES_piControl_evspsbl not in the dictionary\n",
      "ET_piControl_CMIP5_HadGEM2-ES is not in the dictionary\n",
      "ET_1pctCO2-rad_CMIP5_IPSL-CM5A-LR\n",
      "Overwrite existing file: bilinear_96x96_192x288_peri.nc \n",
      " You can set reuse_weights=True to save computing time.\n",
      "using dimensions ('lat', 'lon') from data variable ET as the horizontal dimensions for this dataset.\n",
      "ET_1pctCO2-bgc_CMIP5_IPSL-CM5A-LR\n",
      "Overwrite existing file: bilinear_96x96_192x288_peri.nc \n",
      " You can set reuse_weights=True to save computing time.\n",
      "using dimensions ('lat', 'lon') from data variable ET as the horizontal dimensions for this dataset.\n",
      "ET_1pctCO2_CMIP5_IPSL-CM5A-LR\n",
      "Overwrite existing file: bilinear_96x96_192x288_peri.nc \n",
      " You can set reuse_weights=True to save computing time.\n",
      "using dimensions ('lat', 'lon') from data variable ET as the horizontal dimensions for this dataset.\n",
      "IPSL-CM5A-LR_piControl_evspsbl not in the dictionary\n",
      "ET_piControl_CMIP5_IPSL-CM5A-LR is not in the dictionary\n",
      "ET_1pctCO2-rad_CMIP5_NorESM1-ME\n",
      "Overwrite existing file: bilinear_96x144_192x288_peri.nc \n",
      " You can set reuse_weights=True to save computing time.\n",
      "using dimensions ('lat', 'lon') from data variable ET as the horizontal dimensions for this dataset.\n",
      "ET_1pctCO2-bgc_CMIP5_NorESM1-ME\n",
      "Overwrite existing file: bilinear_96x144_192x288_peri.nc \n",
      " You can set reuse_weights=True to save computing time.\n",
      "using dimensions ('lat', 'lon') from data variable ET as the horizontal dimensions for this dataset.\n",
      "ET_1pctCO2_CMIP5_NorESM1-ME\n",
      "Overwrite existing file: bilinear_96x144_192x288_peri.nc \n",
      " You can set reuse_weights=True to save computing time.\n",
      "using dimensions ('lat', 'lon') from data variable ET as the horizontal dimensions for this dataset.\n",
      "NorESM1-ME_piControl_evspsbl not in the dictionary\n",
      "ET_piControl_CMIP5_NorESM1-ME is not in the dictionary\n",
      "ET_1pctCO2-rad_CMIP5_MPI-ESM-LR\n",
      "Overwrite existing file: bilinear_96x192_192x288_peri.nc \n",
      " You can set reuse_weights=True to save computing time.\n",
      "using dimensions ('lat', 'lon') from data variable ET as the horizontal dimensions for this dataset.\n",
      "ET_1pctCO2-bgc_CMIP5_MPI-ESM-LR\n",
      "Overwrite existing file: bilinear_96x192_192x288_peri.nc \n",
      " You can set reuse_weights=True to save computing time.\n",
      "using dimensions ('lat', 'lon') from data variable ET as the horizontal dimensions for this dataset.\n",
      "ET_1pctCO2_CMIP5_MPI-ESM-LR\n",
      "Overwrite existing file: bilinear_96x192_192x288_peri.nc \n",
      " You can set reuse_weights=True to save computing time.\n",
      "using dimensions ('lat', 'lon') from data variable ET as the horizontal dimensions for this dataset.\n",
      "MPI-ESM-LR_piControl_evspsbl not in the dictionary\n",
      "ET_piControl_CMIP5_MPI-ESM-LR is not in the dictionary\n",
      "ET_1pctCO2-rad_CMIP6_CNRM-ESM2-1\n",
      "Overwrite existing file: bilinear_128x256_192x288_peri.nc \n",
      " You can set reuse_weights=True to save computing time.\n",
      "using dimensions ('lat', 'lon') from data variable ET as the horizontal dimensions for this dataset.\n",
      "ET_1pctCO2-bgc_CMIP6_CNRM-ESM2-1\n",
      "Overwrite existing file: bilinear_128x256_192x288_peri.nc \n",
      " You can set reuse_weights=True to save computing time.\n",
      "using dimensions ('lat', 'lon') from data variable ET as the horizontal dimensions for this dataset.\n",
      "ET_1pctCO2_CMIP6_CNRM-ESM2-1\n",
      "Overwrite existing file: bilinear_128x256_192x288_peri.nc \n",
      " You can set reuse_weights=True to save computing time.\n",
      "using dimensions ('lat', 'lon') from data variable ET as the horizontal dimensions for this dataset.\n",
      "ET_piControl_CMIP6_CNRM-ESM2-1\n",
      "Overwrite existing file: bilinear_128x256_192x288_peri.nc \n",
      " You can set reuse_weights=True to save computing time.\n",
      "using dimensions ('lat', 'lon') from data variable ET as the horizontal dimensions for this dataset.\n",
      "ET_1pctCO2-rad_CMIP6_BCC-CSM2-MR\n",
      "Overwrite existing file: bilinear_160x320_192x288_peri.nc \n",
      " You can set reuse_weights=True to save computing time.\n",
      "using dimensions ('lat', 'lon') from data variable ET as the horizontal dimensions for this dataset.\n",
      "ET_1pctCO2-bgc_CMIP6_BCC-CSM2-MR\n",
      "Overwrite existing file: bilinear_160x320_192x288_peri.nc \n",
      " You can set reuse_weights=True to save computing time.\n",
      "using dimensions ('lat', 'lon') from data variable ET as the horizontal dimensions for this dataset.\n",
      "ET_1pctCO2_CMIP6_BCC-CSM2-MR\n",
      "Overwrite existing file: bilinear_160x320_192x288_peri.nc \n",
      " You can set reuse_weights=True to save computing time.\n",
      "using dimensions ('lat', 'lon') from data variable ET as the horizontal dimensions for this dataset.\n",
      "ET_piControl_CMIP6_BCC-CSM2-MR\n",
      "Overwrite existing file: bilinear_160x320_192x288_peri.nc \n",
      " You can set reuse_weights=True to save computing time.\n",
      "using dimensions ('lat', 'lon') from data variable ET as the horizontal dimensions for this dataset.\n",
      "ET_1pctCO2-rad_CMIP6_CanESM5\n",
      "Overwrite existing file: bilinear_64x128_192x288_peri.nc \n",
      " You can set reuse_weights=True to save computing time.\n",
      "using dimensions ('lat', 'lon') from data variable ET as the horizontal dimensions for this dataset.\n",
      "ET_1pctCO2-bgc_CMIP6_CanESM5\n",
      "Overwrite existing file: bilinear_64x128_192x288_peri.nc \n",
      " You can set reuse_weights=True to save computing time.\n",
      "using dimensions ('lat', 'lon') from data variable ET as the horizontal dimensions for this dataset.\n",
      "ET_1pctCO2_CMIP6_CanESM5\n",
      "Overwrite existing file: bilinear_64x128_192x288_peri.nc \n",
      " You can set reuse_weights=True to save computing time.\n",
      "using dimensions ('lat', 'lon') from data variable ET as the horizontal dimensions for this dataset.\n",
      "ET_piControl_CMIP6_CanESM5\n",
      "Overwrite existing file: bilinear_64x128_192x288_peri.nc \n",
      " You can set reuse_weights=True to save computing time.\n",
      "using dimensions ('lat', 'lon') from data variable ET as the horizontal dimensions for this dataset.\n",
      "ET_1pctCO2-rad_CMIP6_CESM2\n",
      "Overwrite existing file: bilinear_192x288_192x288_peri.nc \n",
      " You can set reuse_weights=True to save computing time.\n",
      "using dimensions ('lat', 'lon') from data variable ET as the horizontal dimensions for this dataset.\n",
      "ET_1pctCO2-bgc_CMIP6_CESM2\n",
      "Overwrite existing file: bilinear_192x288_192x288_peri.nc \n",
      " You can set reuse_weights=True to save computing time.\n",
      "using dimensions ('lat', 'lon') from data variable ET as the horizontal dimensions for this dataset.\n",
      "ET_1pctCO2_CMIP6_CESM2\n",
      "Overwrite existing file: bilinear_192x288_192x288_peri.nc \n",
      " You can set reuse_weights=True to save computing time.\n",
      "using dimensions ('lat', 'lon') from data variable ET as the horizontal dimensions for this dataset.\n",
      "CESM2_piControl_evspsbl not in the dictionary\n",
      "ET_piControl_CMIP6_CESM2 is not in the dictionary\n",
      "ET_1pctCO2-rad_CMIP6_GISS-E2-1-G\n",
      "Overwrite existing file: bilinear_90x144_192x288_peri.nc \n",
      " You can set reuse_weights=True to save computing time.\n",
      "using dimensions ('lat', 'lon') from data variable ET as the horizontal dimensions for this dataset.\n",
      "ET_1pctCO2-bgc_CMIP6_GISS-E2-1-G\n",
      "Overwrite existing file: bilinear_90x144_192x288_peri.nc \n",
      " You can set reuse_weights=True to save computing time.\n",
      "using dimensions ('lat', 'lon') from data variable ET as the horizontal dimensions for this dataset.\n",
      "ET_1pctCO2_CMIP6_GISS-E2-1-G\n",
      "Overwrite existing file: bilinear_90x144_192x288_peri.nc \n",
      " You can set reuse_weights=True to save computing time.\n",
      "using dimensions ('lat', 'lon') from data variable ET as the horizontal dimensions for this dataset.\n",
      "GISS-E2-1-G_piControl_evspsbl not in the dictionary\n",
      "ET_piControl_CMIP6_GISS-E2-1-G is not in the dictionary\n",
      "ET_1pctCO2-rad_CMIP6_UKESM1-0-LL\n",
      "Overwrite existing file: bilinear_144x192_192x288_peri.nc \n",
      " You can set reuse_weights=True to save computing time.\n",
      "using dimensions ('lat', 'lon') from data variable ET as the horizontal dimensions for this dataset.\n",
      "ET_1pctCO2-bgc_CMIP6_UKESM1-0-LL\n",
      "Overwrite existing file: bilinear_144x192_192x288_peri.nc \n",
      " You can set reuse_weights=True to save computing time.\n",
      "using dimensions ('lat', 'lon') from data variable ET as the horizontal dimensions for this dataset.\n",
      "ET_1pctCO2_CMIP6_UKESM1-0-LL\n",
      "Overwrite existing file: bilinear_144x192_192x288_peri.nc \n",
      " You can set reuse_weights=True to save computing time.\n",
      "using dimensions ('lat', 'lon') from data variable ET as the horizontal dimensions for this dataset.\n",
      "ET_piControl_CMIP6_UKESM1-0-LL\n",
      "Overwrite existing file: bilinear_144x192_192x288_peri.nc \n",
      " You can set reuse_weights=True to save computing time.\n",
      "using dimensions ('lat', 'lon') from data variable ET as the horizontal dimensions for this dataset.\n",
      "ET_1pctCO2-rad_CMIP6_GFDL-ESM4\n",
      "Overwrite existing file: bilinear_180x288_192x288_peri.nc \n",
      " You can set reuse_weights=True to save computing time.\n",
      "using dimensions ('lat', 'lon') from data variable ET as the horizontal dimensions for this dataset.\n",
      "GFDL-ESM4_1pctCO2-bgc_evspsbl not in the dictionary\n",
      "ET_1pctCO2-bgc_CMIP6_GFDL-ESM4 is not in the dictionary\n",
      "ET_1pctCO2_CMIP6_GFDL-ESM4\n",
      "Overwrite existing file: bilinear_180x288_192x288_peri.nc \n",
      " You can set reuse_weights=True to save computing time.\n",
      "using dimensions ('lat', 'lon') from data variable ET as the horizontal dimensions for this dataset.\n",
      "GFDL-ESM4_piControl_evspsbl not in the dictionary\n",
      "ET_piControl_CMIP6_GFDL-ESM4 is not in the dictionary\n",
      "ET_1pctCO2-rad_CMIP6_IPSL-CM6A-LR\n",
      "Overwrite existing file: bilinear_143x144_192x288_peri.nc \n",
      " You can set reuse_weights=True to save computing time.\n",
      "using dimensions ('lat', 'lon') from data variable ET as the horizontal dimensions for this dataset.\n",
      "ET_1pctCO2-bgc_CMIP6_IPSL-CM6A-LR\n",
      "Overwrite existing file: bilinear_143x144_192x288_peri.nc \n",
      " You can set reuse_weights=True to save computing time.\n",
      "using dimensions ('lat', 'lon') from data variable ET as the horizontal dimensions for this dataset.\n",
      "ET_1pctCO2_CMIP6_IPSL-CM6A-LR\n",
      "Overwrite existing file: bilinear_143x144_192x288_peri.nc \n",
      " You can set reuse_weights=True to save computing time.\n",
      "using dimensions ('lat', 'lon') from data variable ET as the horizontal dimensions for this dataset.\n",
      "ET_piControl_CMIP6_IPSL-CM6A-LR\n",
      "Overwrite existing file: bilinear_143x144_192x288_peri.nc \n",
      " You can set reuse_weights=True to save computing time.\n",
      "using dimensions ('lat', 'lon') from data variable ET as the horizontal dimensions for this dataset.\n",
      "ET_1pctCO2-rad_CMIP6_MIROC-ES2L\n",
      "Overwrite existing file: bilinear_64x128_192x288_peri.nc \n",
      " You can set reuse_weights=True to save computing time.\n",
      "using dimensions ('lat', 'lon') from data variable ET as the horizontal dimensions for this dataset.\n",
      "ET_1pctCO2-bgc_CMIP6_MIROC-ES2L\n",
      "Overwrite existing file: bilinear_64x128_192x288_peri.nc \n",
      " You can set reuse_weights=True to save computing time.\n",
      "using dimensions ('lat', 'lon') from data variable ET as the horizontal dimensions for this dataset.\n",
      "ET_1pctCO2_CMIP6_MIROC-ES2L\n",
      "Overwrite existing file: bilinear_64x128_192x288_peri.nc \n",
      " You can set reuse_weights=True to save computing time.\n",
      "using dimensions ('lat', 'lon') from data variable ET as the horizontal dimensions for this dataset.\n",
      "MIROC-ES2L_piControl_evspsbl not in the dictionary\n",
      "ET_piControl_CMIP6_MIROC-ES2L is not in the dictionary\n",
      "ET_1pctCO2-rad_CMIP6_NorESM2-LM\n",
      "Overwrite existing file: bilinear_96x144_192x288_peri.nc \n",
      " You can set reuse_weights=True to save computing time.\n",
      "using dimensions ('lat', 'lon') from data variable ET as the horizontal dimensions for this dataset.\n",
      "NorESM2-LM_1pctCO2-bgc_evspsbl not in the dictionary\n",
      "ET_1pctCO2-bgc_CMIP6_NorESM2-LM is not in the dictionary\n",
      "ET_1pctCO2_CMIP6_NorESM2-LM\n",
      "Overwrite existing file: bilinear_96x144_192x288_peri.nc \n",
      " You can set reuse_weights=True to save computing time.\n",
      "using dimensions ('lat', 'lon') from data variable ET as the horizontal dimensions for this dataset.\n",
      "NorESM2-LM_piControl_evspsbl not in the dictionary\n",
      "ET_piControl_CMIP6_NorESM2-LM is not in the dictionary\n",
      "ET_1pctCO2-rad_CMIP6_MPI-ESM1-2-LR\n",
      "Overwrite existing file: bilinear_96x192_192x288_peri.nc \n",
      " You can set reuse_weights=True to save computing time.\n",
      "using dimensions ('lat', 'lon') from data variable ET as the horizontal dimensions for this dataset.\n",
      "MPI-ESM1-2-LR_1pctCO2-bgc_evspsbl not in the dictionary\n",
      "ET_1pctCO2-bgc_CMIP6_MPI-ESM1-2-LR is not in the dictionary\n",
      "ET_1pctCO2_CMIP6_MPI-ESM1-2-LR\n",
      "Overwrite existing file: bilinear_96x192_192x288_peri.nc \n",
      " You can set reuse_weights=True to save computing time.\n",
      "using dimensions ('lat', 'lon') from data variable ET as the horizontal dimensions for this dataset.\n",
      "MPI-ESM1-2-LR_piControl_evspsbl not in the dictionary\n",
      "ET_piControl_CMIP6_MPI-ESM1-2-LR is not in the dictionary\n",
      "ET_1pctCO2-rad_CMIP6_ACCESS-ESM1-5\n",
      "Overwrite existing file: bilinear_145x192_192x288_peri.nc \n",
      " You can set reuse_weights=True to save computing time.\n",
      "using dimensions ('lat', 'lon') from data variable ET as the horizontal dimensions for this dataset.\n",
      "ACCESS-ESM1-5_1pctCO2-bgc_evspsbl not in the dictionary\n",
      "ET_1pctCO2-bgc_CMIP6_ACCESS-ESM1-5 is not in the dictionary\n",
      "ET_1pctCO2_CMIP6_ACCESS-ESM1-5\n",
      "Overwrite existing file: bilinear_145x192_192x288_peri.nc \n",
      " You can set reuse_weights=True to save computing time.\n",
      "using dimensions ('lat', 'lon') from data variable ET as the horizontal dimensions for this dataset.\n",
      "ACCESS-ESM1-5_piControl_evspsbl not in the dictionary\n",
      "ET_piControl_CMIP6_ACCESS-ESM1-5 is not in the dictionary\n"
     ]
    }
   ],
   "source": [
    "regrid_and_process_datafiles.process_data(varname='lai')\n",
    "\n",
    "regrid_and_process_datafiles.process_data(varname='TRANperLAI')\n",
    "\n",
    "regrid_and_process_datafiles.process_data(varname='TRAN')\n",
    "\n",
    "regrid_and_process_datafiles.process_data(varname='EVAP')\n",
    "\n",
    "regrid_and_process_datafiles.process_data(varname='ET')"
   ]
  },
  {
   "cell_type": "markdown",
   "metadata": {},
   "source": [
    "### Make data dictionaries of processed files for data variable"
   ]
  },
  {
   "cell_type": "code",
   "execution_count": 4,
   "metadata": {
    "collapsed": true,
    "jupyter": {
     "outputs_hidden": true
    }
   },
   "outputs": [
    {
     "name": "stdout",
     "output_type": "stream",
     "text": [
      "------------------------LAI-----------------------------\n",
      "lai_1pctCO2-rad_CMIP6_GFDL-ESM4 is not in the dictionary\n",
      "-------------------TRAN/LAI-----------------------------\n",
      "TRANperLAI_1pctCO2_CMIP5_HadGEM2-ES is not in the dictionary\n",
      "TRANperLAI_1pctCO2-rad_CMIP5_HadGEM2-ES is not in the dictionary\n",
      "TRANperLAI_1pctCO2-rad_CMIP6_GFDL-ESM4 is not in the dictionary\n",
      "TRANperLAI_1pctCO2_CMIP6_MPI-ESM1-2-LR is not in the dictionary\n",
      "TRANperLAI_1pctCO2-rad_CMIP6_MPI-ESM1-2-LR is not in the dictionary\n",
      "TRANperLAI_1pctCO2_CMIP6_ACCESS-ESM1-5 is not in the dictionary\n",
      "TRANperLAI_1pctCO2-rad_CMIP6_ACCESS-ESM1-5 is not in the dictionary\n",
      "-----------------------TRAN-----------------------------\n",
      "TRAN_1pctCO2_CMIP5_HadGEM2-ES is not in the dictionary\n",
      "TRAN_1pctCO2-rad_CMIP5_HadGEM2-ES is not in the dictionary\n",
      "TRAN_1pctCO2-rad_CMIP6_GFDL-ESM4 is not in the dictionary\n",
      "TRAN_1pctCO2_CMIP6_MPI-ESM1-2-LR is not in the dictionary\n",
      "TRAN_1pctCO2-rad_CMIP6_MPI-ESM1-2-LR is not in the dictionary\n",
      "TRAN_1pctCO2_CMIP6_ACCESS-ESM1-5 is not in the dictionary\n",
      "TRAN_1pctCO2-rad_CMIP6_ACCESS-ESM1-5 is not in the dictionary\n",
      "-----------------------EVAP-----------------------------\n",
      "EVAP_1pctCO2_CMIP5_HadGEM2-ES is not in the dictionary\n",
      "EVAP_1pctCO2-rad_CMIP5_HadGEM2-ES is not in the dictionary\n",
      "EVAP_1pctCO2-rad_CMIP6_GFDL-ESM4 is not in the dictionary\n",
      "EVAP_1pctCO2_CMIP6_MPI-ESM1-2-LR is not in the dictionary\n",
      "EVAP_1pctCO2-rad_CMIP6_MPI-ESM1-2-LR is not in the dictionary\n",
      "EVAP_1pctCO2_CMIP6_ACCESS-ESM1-5 is not in the dictionary\n",
      "EVAP_1pctCO2-rad_CMIP6_ACCESS-ESM1-5 is not in the dictionary\n",
      "-------------------------ET-----------------------------\n"
     ]
    }
   ],
   "source": [
    "RUNNAMES = ['1pctCO2', '1pctCO2-rad']\n",
    "CDICT_NAMES=['CMIP5','CMIP6']\n",
    "print('------------------------LAI-----------------------------')\n",
    "PROC_DATA_DICT_LAI = make_processed_data_dict.create_variable_dictionary(runnames=RUNNAMES,\n",
    "                                                                         varname='lai',\n",
    "                                                                         cdict_names=CDICT_NAMES,\n",
    "                                                                         input_path=PATH_REGRIDDED_DATA)\n",
    "\n",
    "print('-------------------TRAN/LAI-----------------------------')\n",
    "PROC_DATA_DICT_TRANperLAI = make_processed_data_dict.create_variable_dictionary(runnames=RUNNAMES,\n",
    "                                                                                varname='TRANperLAI',\n",
    "                                                                                cdict_names=CDICT_NAMES,\n",
    "                                                                                input_path=PATH_REGRIDDED_DATA)\n",
    "print('-----------------------TRAN-----------------------------')\n",
    "PROC_DATA_DICT_TRAN = make_processed_data_dict.create_variable_dictionary(runnames=RUNNAMES,\n",
    "                                                                          varname='TRAN',\n",
    "                                                                          cdict_names=CDICT_NAMES,\n",
    "                                                                          input_path=PATH_REGRIDDED_DATA)\n",
    "print('-----------------------EVAP-----------------------------')\n",
    "PROC_DATA_DICT_EVAP = make_processed_data_dict.create_variable_dictionary(runnames=RUNNAMES,\n",
    "                                                                                 varname='EVAP',\n",
    "                                                                                 cdict_names=CDICT_NAMES,\n",
    "                                                                                 input_path=PATH_REGRIDDED_DATA)\n",
    "print('-------------------------ET-----------------------------')\n",
    "PROC_DATA_DICT_ET = make_processed_data_dict.create_variable_dictionary(runnames=RUNNAMES,\n",
    "                                                                                 varname='ET',\n",
    "                                                                                 cdict_names=CDICT_NAMES,\n",
    "                                                                                 input_path=PATH_REGRIDDED_DATA)"
   ]
  },
  {
   "cell_type": "markdown",
   "metadata": {},
   "source": [
    "### Calculate changes in variables"
   ]
  },
  {
   "cell_type": "code",
   "execution_count": 5,
   "metadata": {},
   "outputs": [],
   "source": [
    "CMIP_NAMES=['CMIP5','CMIP6']\n",
    "END_YR=70"
   ]
  },
  {
   "cell_type": "code",
   "execution_count": 6,
   "metadata": {
    "collapsed": true,
    "jupyter": {
     "outputs_hidden": true
    }
   },
   "outputs": [
    {
     "name": "stdout",
     "output_type": "stream",
     "text": [
      "------------------------LAI-----------------------------\n",
      "No data for GFDL-ESM4\n",
      "No data for GFDL-ESM4\n",
      "------------------------TRAN/LAI-----------------------------\n",
      "No data for HadGEM2-ES\n",
      "No data for GFDL-ESM4\n",
      "No data for MPI-ESM1-2-LR\n",
      "No data for ACCESS-ESM1-5\n",
      "No data for HadGEM2-ES\n",
      "No data for GFDL-ESM4\n",
      "No data for MPI-ESM1-2-LR\n",
      "No data for ACCESS-ESM1-5\n",
      "------------------------EVAP-----------------------------\n",
      "No data for HadGEM2-ES\n",
      "No data for GFDL-ESM4\n",
      "No data for MPI-ESM1-2-LR\n",
      "No data for ACCESS-ESM1-5\n",
      "No data for HadGEM2-ES\n",
      "No data for GFDL-ESM4\n",
      "No data for MPI-ESM1-2-LR\n",
      "No data for ACCESS-ESM1-5\n",
      "------------------------TRAN-----------------------------\n",
      "No data for HadGEM2-ES\n",
      "No data for GFDL-ESM4\n",
      "No data for MPI-ESM1-2-LR\n",
      "No data for ACCESS-ESM1-5\n",
      "No data for HadGEM2-ES\n",
      "No data for GFDL-ESM4\n",
      "No data for MPI-ESM1-2-LR\n",
      "No data for ACCESS-ESM1-5\n",
      "------------------------ET-----------------------------\n"
     ]
    }
   ],
   "source": [
    "print('------------------------LAI-----------------------------')\n",
    "all_models_lai_delta = ET_stats.get_mm_mean(proc_data_dict=PROC_DATA_DICT_LAI,\n",
    "                                            varname='lai',\n",
    "                                            end_yr=END_YR,\n",
    "                                            runname_inds=[2,0], \n",
    "                                            cmip_names=CMIP_NAMES, \n",
    "                                            delta_or_baseline='Delta')\n",
    "\n",
    "all_models_lai_baseline = ET_stats.get_mm_mean(proc_data_dict=PROC_DATA_DICT_LAI,\n",
    "                                               varname='lai',\n",
    "                                               end_yr=END_YR,\n",
    "                                               runname_inds=[2,0],\n",
    "                                               cmip_names=CMIP_NAMES,\n",
    "                                               delta_or_baseline='Baseline') #should be radiation only (i.e. 0)\n",
    "\n",
    "print('------------------------TRAN/LAI-----------------------------')\n",
    "all_models_TRANperLAI_delta = ET_stats.get_mm_mean(proc_data_dict=PROC_DATA_DICT_TRANperLAI,\n",
    "                                                   varname='TRANperLAI',\n",
    "                                                   end_yr=END_YR,\n",
    "                                                   runname_inds=[2,0],\n",
    "                                                   cmip_names=CMIP_NAMES,\n",
    "                                                   delta_or_baseline='Delta')\n",
    "all_models_TRANperLAI_baseline = ET_stats.get_mm_mean(proc_data_dict=PROC_DATA_DICT_TRANperLAI,\n",
    "                                                      varname='TRANperLAI',\n",
    "                                                      end_yr=END_YR,\n",
    "                                                      runname_inds=[2,0],\n",
    "                                                      cmip_names=CMIP_NAMES,\n",
    "                                                      delta_or_baseline='Baseline') #should be radiation only (i.e. 0)\n",
    "\n",
    "print('------------------------EVAP-----------------------------')\n",
    "all_models_EVAP_delta = ET_stats.get_mm_mean(proc_data_dict=PROC_DATA_DICT_EVAP,\n",
    "                                             varname='EVAP',\n",
    "                                             end_yr=END_YR,\n",
    "                                             runname_inds=[2,0],\n",
    "                                             cmip_names=CMIP_NAMES,\n",
    "                                             delta_or_baseline='Delta')\n",
    "all_models_EVAP_baseline = ET_stats.get_mm_mean(proc_data_dict=PROC_DATA_DICT_EVAP,\n",
    "                                                varname='EVAP',\n",
    "                                                end_yr=END_YR,\n",
    "                                                runname_inds=[2,0],\n",
    "                                                cmip_names=CMIP_NAMES,\n",
    "                                                delta_or_baseline='Baseline') #should be radiation only (i.e. 0)\n",
    "\n",
    "print('------------------------TRAN-----------------------------')\n",
    "all_models_TRAN_delta = ET_stats.get_mm_mean(proc_data_dict=PROC_DATA_DICT_TRAN,\n",
    "                                             varname='TRAN',\n",
    "                                             end_yr=END_YR,\n",
    "                                             runname_inds=[2,0],\n",
    "                                             cmip_names=CMIP_NAMES,\n",
    "                                             delta_or_baseline='Delta')\n",
    "all_models_TRAN_baseline = ET_stats.get_mm_mean(proc_data_dict=PROC_DATA_DICT_TRAN,\n",
    "                                                varname='TRAN',\n",
    "                                                end_yr=END_YR,\n",
    "                                                runname_inds=[2,0],\n",
    "                                                cmip_names=CMIP_NAMES,\n",
    "                                                delta_or_baseline='Baseline') #should be radiation only (i.e. 0)\n",
    "\n",
    "print('------------------------ET-----------------------------')\n",
    "all_models_ET_delta = ET_stats.get_mm_mean(proc_data_dict=PROC_DATA_DICT_ET,\n",
    "                                           varname='ET',\n",
    "                                           end_yr=END_YR,\n",
    "                                           runname_inds=[2,0],\n",
    "                                           cmip_names=CMIP_NAMES,\n",
    "                                           delta_or_baseline='Delta')"
   ]
  },
  {
   "cell_type": "markdown",
   "metadata": {},
   "source": [
    "### Subset Data"
   ]
  },
  {
   "cell_type": "code",
   "execution_count": 7,
   "metadata": {},
   "outputs": [],
   "source": [
    "CMIP_choice='CMIP6'"
   ]
  },
  {
   "cell_type": "code",
   "execution_count": 8,
   "metadata": {},
   "outputs": [],
   "source": [
    "if CMIP_choice=='CMIP6':\n",
    "    start_ind = 8\n",
    "    end_ind = 20\n",
    "elif CMIP_choice=='CMIP5':\n",
    "    start_ind = 0\n",
    "    end_ind = 8\n",
    "all_models_subset_lai_delta = all_models_lai_delta.isel(modelname=range(start_ind, end_ind))\n",
    "all_models_subset_TRANperLAI_delta = all_models_TRANperLAI_delta.isel(modelname=range(start_ind, end_ind))\n",
    "all_models_subset_EVAP_delta = all_models_EVAP_delta.isel(modelname=range(start_ind, end_ind))\n",
    "all_models_subset_TRAN_delta = all_models_TRAN_delta.isel(modelname=range(start_ind, end_ind))\n",
    "all_models_subset_TRAN_baseline = all_models_TRAN_baseline.isel(modelname=range(start_ind, end_ind))\n",
    "\n",
    "all_models_subset_lai_baseline = all_models_lai_baseline.isel(modelname=range(start_ind, end_ind))\n",
    "all_models_subset_TRANperLAI_baseline = all_models_TRANperLAI_baseline.isel(modelname=range(start_ind, end_ind))\n",
    "all_models_subset_EVAP_baseline = all_models_EVAP_baseline.isel(modelname=range(start_ind, end_ind))\n",
    "all_models_subset_ET_delta=all_models_ET_delta.isel(modelname=range(start_ind, end_ind))\n",
    "#.isel(modelname=[0,1,2,3,4,5,7])"
   ]
  },
  {
   "cell_type": "code",
   "execution_count": 9,
   "metadata": {},
   "outputs": [],
   "source": [
    "stomatal_effect = all_models_subset_TRANperLAI_delta['TRANperLAI']*all_models_subset_lai_baseline['lai']\n",
    "lai_effect = all_models_subset_TRANperLAI_baseline['TRANperLAI']*all_models_subset_lai_delta['lai']\n",
    "interactive_effect = all_models_subset_TRANperLAI_delta['TRANperLAI']*all_models_subset_lai_delta['lai']\n",
    "full_tran_change = all_models_subset_TRAN_delta['TRAN']\n",
    "full_evap_change = all_models_subset_EVAP_delta['EVAP']\n",
    "full_ET_change = all_models_subset_ET_delta['ET']\n",
    "\n",
    "error_tran =  full_tran_change - stomatal_effect - lai_effect - interactive_effect\n",
    "error_ET = full_ET_change - full_tran_change - full_evap_change"
   ]
  },
  {
   "cell_type": "markdown",
   "metadata": {},
   "source": [
    "### Make Multimodel Mean Zonal Mean"
   ]
  },
  {
   "cell_type": "code",
   "execution_count": 30,
   "metadata": {},
   "outputs": [
    {
     "name": "stderr",
     "output_type": "stream",
     "text": [
      "/home/disk/p/czarakas/anaconda3/envs/plants_and_TCR_v3/lib/python3.7/site-packages/numpy/core/fromnumeric.py:90: RuntimeWarning: invalid value encountered in reduce\n",
      "  return ufunc.reduce(obj, axis, dtype, out, **passkwargs)\n",
      "/home/disk/p/czarakas/anaconda3/envs/plants_and_TCR_v3/lib/python3.7/site-packages/xarray/core/nanops.py:142: RuntimeWarning: Mean of empty slice\n",
      "  return np.nanmean(a, axis=axis, dtype=dtype)\n",
      "/home/disk/p/czarakas/anaconda3/envs/plants_and_TCR_v3/lib/python3.7/site-packages/numpy/core/fromnumeric.py:90: RuntimeWarning: invalid value encountered in reduce\n",
      "  return ufunc.reduce(obj, axis, dtype, out, **passkwargs)\n",
      "/home/disk/p/czarakas/anaconda3/envs/plants_and_TCR_v3/lib/python3.7/site-packages/xarray/core/nanops.py:142: RuntimeWarning: Mean of empty slice\n",
      "  return np.nanmean(a, axis=axis, dtype=dtype)\n",
      "/home/disk/p/czarakas/anaconda3/envs/plants_and_TCR_v3/lib/python3.7/site-packages/numpy/core/fromnumeric.py:90: RuntimeWarning: invalid value encountered in reduce\n",
      "  return ufunc.reduce(obj, axis, dtype, out, **passkwargs)\n",
      "/home/disk/p/czarakas/anaconda3/envs/plants_and_TCR_v3/lib/python3.7/site-packages/xarray/core/nanops.py:142: RuntimeWarning: Mean of empty slice\n",
      "  return np.nanmean(a, axis=axis, dtype=dtype)\n",
      "/home/disk/p/czarakas/anaconda3/envs/plants_and_TCR_v3/lib/python3.7/site-packages/xarray/core/nanops.py:142: RuntimeWarning: Mean of empty slice\n",
      "  return np.nanmean(a, axis=axis, dtype=dtype)\n",
      "/home/disk/p/czarakas/anaconda3/envs/plants_and_TCR_v3/lib/python3.7/site-packages/xarray/core/nanops.py:142: RuntimeWarning: Mean of empty slice\n",
      "  return np.nanmean(a, axis=axis, dtype=dtype)\n",
      "/home/disk/p/czarakas/anaconda3/envs/plants_and_TCR_v3/lib/python3.7/site-packages/xarray/core/nanops.py:142: RuntimeWarning: Mean of empty slice\n",
      "  return np.nanmean(a, axis=axis, dtype=dtype)\n"
     ]
    },
    {
     "data": {
      "image/png": "[encoded data removed]",
      "text/plain": [
       "<Figure size 2160x864 with 1 Axes>"
      ]
     },
     "metadata": {
      "needs_background": "light"
     },
     "output_type": "display_data"
    }
   ],
   "source": [
    "terms = [lai_effect, interactive_effect, stomatal_effect,\n",
    "         full_evap_change, full_tran_change, full_ET_change]\n",
    "#terms = [lai_effect, interactive_effect, stomatal_effect,\n",
    "#         full_evap_change, full_tran_change, full_ET_change]\n",
    "colors=[(22/255, 108/255, 21/255), #darkest green\n",
    "        (39/255, 190/255, 78/255), #medium dark green\n",
    "        (162/255, 255/255, 156/255), #very light green\n",
    "        'brown',\n",
    "        (11/255, 54/255, 10/255),\n",
    "       (0,0,0)]\n",
    "#['dodgerblue','lightgreen','mediumaquamarine',\n",
    "#       'brown','forestgreen','darkblue']\n",
    "labels=['LAI', 'LAI+Stomatal Conductance Interaction','Stomatal Conductance', \n",
    "         'Total Evaporation Change','Total Transpiration Change', 'Total Evapotranspiration Change']\n",
    "lwidths=[6,6,6,6,10,10]\n",
    "xlims_choice=[-60,90]\n",
    "lstyles=['-','dotted','dashed','-',':','-']\n",
    "FONTSIZE=35\n",
    "output_path=PATH_FIGURES\n",
    "filter_cutoff=10\n",
    "filter_on=True\n",
    "fname='ET_Partitioning'\n",
    "#---------------------------------------------------\n",
    "\n",
    "fig, ax = plt.subplots(figsize=(15*2,6*2))\n",
    "for i in range(0,len(colors)):\n",
    "    if terms[i] is not None:\n",
    "        term = terms[i].mean(dim=['time'])\n",
    "        land_frac = all_models_subset_lai_delta['da_land']/100\n",
    "        color_choice=colors[i]\n",
    "        if filter_on:\n",
    "            mapdata_mmean=term.where(abs(term)<filter_cutoff)\n",
    "        else:\n",
    "            mapdata_mmean=term\n",
    "        mapdata_mmean=mapdata_mmean.where(land_frac>0.8)\n",
    "        mapdata_mmean=mapdata_mmean.mean(dim='lon')\n",
    "        mapdata_mmean=mapdata_mmean.mean(dim=['modelname'])\n",
    "        plt.plot(mapdata_mmean['lat'],mapdata_mmean, label=labels[i],\n",
    "                 color=color_choice,linestyle=lstyles[i],linewidth=lwidths[i])\n",
    "        plt.xlim(xlims_choice)\n",
    "    \n",
    "for item in ([ax.title, ax.xaxis.label, ax.yaxis.label] +\n",
    "              ax.get_xticklabels() + ax.get_yticklabels()):\n",
    "    item.set_fontsize(FONTSIZE)\n",
    "    \n",
    "lgd = plt.legend(bbox_to_anchor=(1.02, 0.5), loc='center left', fontsize=FONTSIZE)\n",
    "\n",
    "plt.xlabel('Latitude')\n",
    "plt.ylabel('Change in Land ET (mm/day)')\n",
    "ax.yaxis.grid()\n",
    "plt.ylim([-0.6, 0.8])\n",
    "\n",
    "fig.savefig(output_path+fname+'.png', bbox_inches='tight')"
   ]
  },
  {
   "cell_type": "markdown",
   "metadata": {},
   "source": [
    "### Get values for in text"
   ]
  },
  {
   "cell_type": "code",
   "execution_count": 17,
   "metadata": {},
   "outputs": [
    {
     "name": "stdout",
     "output_type": "stream",
     "text": [
      "----------------------------------------\n",
      "LAI\n",
      "Mean: 0.19\n",
      "Std: 0.17\n",
      "Min: 0.0\n",
      "Max: 0.52\n",
      "----------------------------------------\n",
      "LAI+Stomatal Conductance Interaction\n",
      "Mean: -0.08\n",
      "Std: 0.1\n",
      "Min: -0.29\n",
      "Max: 0.0\n",
      "----------------------------------------\n",
      "Stomatal Conductance\n",
      "Mean: -0.13\n",
      "Std: 0.1\n",
      "Min: -0.28\n",
      "Max: 0.0\n",
      "----------------------------------------\n",
      "Total Evaporation Change\n",
      "Mean: 0.01\n",
      "Std: 0.03\n",
      "Min: -0.06\n",
      "Max: 0.06\n",
      "----------------------------------------\n",
      "Total Transpiration Change\n",
      "Mean: -0.02\n",
      "Std: 0.04\n",
      "Min: -0.09\n",
      "Max: 0.04\n",
      "----------------------------------------\n",
      "Total Evapotranspiration Change\n",
      "Mean: -0.02\n",
      "Std: 0.02\n",
      "Min: -0.06\n",
      "Max: 0.02\n"
     ]
    }
   ],
   "source": [
    "import numpy as np\n",
    "for i in range(0,len(terms)):\n",
    "    term = terms[i]\n",
    "    effect_mmean = term.mean(dim=['time'])\n",
    "    effect_mmean = effect_mmean.where(abs(effect_mmean)<10)\n",
    "    effect_mmean_global = effect_mmean*all_models_subset_lai_delta['land_weights']\n",
    "    effect_mmean_global = effect_mmean_global.sum(dim=['lat','lon'])\n",
    "    print('----------------------------------------')\n",
    "    print(labels[i])\n",
    "    print('Mean: '+str(np.round(effect_mmean_global.mean(dim=['modelname']).values,2)))\n",
    "    print('Std: '+str(np.round(effect_mmean_global.std(dim=['modelname']).values,2)))\n",
    "    print('Min: '+str(np.round(effect_mmean_global.min(dim=['modelname']).values,2)))\n",
    "    print('Max: '+str(np.round(effect_mmean_global.max(dim=['modelname']).values,2)))"
   ]
  },
  {
   "cell_type": "code",
   "execution_count": null,
   "metadata": {},
   "outputs": [],
   "source": []
  }
 ],
 "metadata": {
  "kernelspec": {
   "display_name": "Python 3",
   "language": "python",
   "name": "python3"
  },
  "language_info": {
   "codemirror_mode": {
    "name": "ipython",
    "version": 3
   },
   "file_extension": ".py",
   "mimetype": "text/x-python",
   "name": "python",
   "nbconvert_exporter": "python",
   "pygments_lexer": "ipython3",
   "version": "3.7.2"
  }
 },
 "nbformat": 4,
 "nbformat_minor": 4
}
