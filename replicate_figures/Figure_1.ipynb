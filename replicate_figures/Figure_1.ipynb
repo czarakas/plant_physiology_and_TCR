{
 "cells": [
  {
   "cell_type": "markdown",
   "metadata": {},
   "source": [
    "##### ----------------------Notes---------------------\n",
    "* This code DOES NOT use regridded datafiles.\n",
    "\n",
    "##### ------------------------------------------------"
   ]
  },
  {
   "cell_type": "markdown",
   "metadata": {},
   "source": [
    "### 0. Set up Workspace"
   ]
  },
  {
   "cell_type": "code",
   "execution_count": null,
   "metadata": {},
   "outputs": [],
   "source": [
    "import sys\n",
    "sys.path.append('../')"
   ]
  },
  {
   "cell_type": "code",
   "execution_count": null,
   "metadata": {},
   "outputs": [],
   "source": [
    "######################## Load modules ###################################\n",
    "%matplotlib inline\n",
    "import importlib\n",
    "import time\n",
    "import pickle\n",
    "import numpy as np\n",
    "import pandas as pd\n",
    "import matplotlib as mpl\n",
    "import matplotlib.pyplot as plt\n",
    "from matplotlib import rc"
   ]
  },
  {
   "cell_type": "code",
   "execution_count": null,
   "metadata": {},
   "outputs": [],
   "source": [
    "####################### Set up directory structure ######################\n",
    "from plants_and_TCR.analysis_parameters import directory_information\n",
    "from plants_and_TCR.analysis_parameters import get_CMIP_info\n",
    "from plants_and_TCR.analysis_parameters import co2_concentrations\n",
    "from plants_and_TCR.analysis_parameters import params\n",
    "from plants_and_TCR.analyze_data import make_tcr_dataset\n",
    "from plants_and_TCR.analyze_data import moving_average as movingaverage\n",
    "from plants_and_TCR.process_data import calculate_tcr_time_series\n",
    "from plants_and_TCR.process_data import calculate_pi_baseline\n",
    "from plants_and_TCR.generate_figures import plot_scatter_CMIP\n",
    "\n",
    "CDICT_NAMES=params.CDICT_NAMES\n",
    "PATH_FIGURES = directory_information.DIR_OUTPUT_FIGURES\n",
    "#PATH_DATA=directory_information.'/eos9/czarakas/Code/CMIP_Analysis/Data/Intermediate_Data/'\n",
    "\n",
    "CO2_1PCTCO2 = co2_concentrations.co2_1pctco2\n",
    "DEFAULT_VARNAME = params.DEFAULT_VARNAME\n",
    "CDICT_NAMES = params.CDICT_NAMES\n",
    "runnames_all = params.RUNNAMES_ALL\n",
    "CMIP_linestyles = params.CMIP_LINESTYLES"
   ]
  },
  {
   "cell_type": "code",
   "execution_count": null,
   "metadata": {},
   "outputs": [],
   "source": [
    "rc('font',**{'family':'sans-serif','sans-serif':['Arial']})"
   ]
  },
  {
   "cell_type": "markdown",
   "metadata": {},
   "source": [
    "### Calculate TCRs"
   ]
  },
  {
   "cell_type": "code",
   "execution_count": null,
   "metadata": {
    "collapsed": true,
    "jupyter": {
     "outputs_hidden": true
    }
   },
   "outputs": [],
   "source": [
    "importlib.reload(calculate_tcr_time_series)\n",
    "TCR_DICT = calculate_tcr_time_series.create_tcr_datasets(tcr_types=['TOT-RAD','TOT', 'RAD','PHYS'],\n",
    "                                                         average_types=['global'],\n",
    "                                                         save_tcr_dict=True,\n",
    "                                                         recalculate_TCRs=False)"
   ]
  },
  {
   "cell_type": "code",
   "execution_count": null,
   "metadata": {},
   "outputs": [],
   "source": [
    "# Load precalculated\n",
    "DIR_TCR_DICT = directory_information.DIR_TCR_DICT\n",
    "TCR_DICT = pickle.load(open(DIR_TCR_DICT+'TCR_dict.pickle', \"rb\"))"
   ]
  },
  {
   "cell_type": "markdown",
   "metadata": {},
   "source": [
    "### 1. Figure 1a: Time Series"
   ]
  },
  {
   "cell_type": "code",
   "execution_count": null,
   "metadata": {},
   "outputs": [],
   "source": [
    "from plants_and_TCR.generate_figures import plot_climate_response_timeseries"
   ]
  },
  {
   "cell_type": "code",
   "execution_count": null,
   "metadata": {},
   "outputs": [],
   "source": [
    "TCR_TYPE='TOT-RAD'\n",
    "fig = plot_climate_response_timeseries.plot_climate_response_timeseries(averageType='global',\n",
    "                                                                        tcr_type=TCR_TYPE,\n",
    "                                                                        ylims=[-0.2,1],#[-0.5,7.0],\n",
    "                                                                        plttitle='TempChange',\n",
    "                                                                        tcr_dict=TCR_DICT,\n",
    "                                                                        legend_on=False,\n",
    "                                                                        num_legend_cols=7,\n",
    "                                                                        dt=0.1,#0.5,\n",
    "                                                                        fig_size=[30,30],\n",
    "                                                                        x_axis_CO2=False,\n",
    "                                                                        filepath=PATH_FIGURES+TCR_TYPE+'_TCR')#PATH_FIGURES+'Figure1a_TimeSeries_delta_T_phys')"
   ]
  }
 ],
 "metadata": {
  "kernelspec": {
   "display_name": "Python 3",
   "language": "python",
   "name": "python3"
  },
  "language_info": {
   "codemirror_mode": {
    "name": "ipython",
    "version": 3
   },
   "file_extension": ".py",
   "mimetype": "text/x-python",
   "name": "python",
   "nbconvert_exporter": "python",
   "pygments_lexer": "ipython3",
   "version": "3.7.2"
  }
 },
 "nbformat": 4,
 "nbformat_minor": 4
}
