{
 "cells": [
  {
   "cell_type": "markdown",
   "metadata": {},
   "source": [
    "##### ----------------------Notes---------------------\n",
    "* This code DOES NOT use regridded datafiles.\n",
    "\n",
    "##### ------------------------------------------------"
   ]
  },
  {
   "cell_type": "markdown",
   "metadata": {},
   "source": [
    "### 0. Set up Workspace"
   ]
  },
  {
   "cell_type": "code",
   "execution_count": 2,
   "metadata": {},
   "outputs": [],
   "source": [
    "import sys\n",
    "sys.path.append('../')"
   ]
  },
  {
   "cell_type": "code",
   "execution_count": 3,
   "metadata": {},
   "outputs": [],
   "source": [
    "######################## Load modules ###################################\n",
    "%matplotlib inline\n",
    "import importlib\n",
    "import time\n",
    "import pickle\n",
    "import numpy as np\n",
    "import pandas as pd\n",
    "import matplotlib as mpl\n",
    "import matplotlib.pyplot as plt\n",
    "from matplotlib import rc"
   ]
  },
  {
   "cell_type": "code",
   "execution_count": 4,
   "metadata": {},
   "outputs": [],
   "source": [
    "####################### Set up directory structure ######################\n",
    "from plants_and_TCR.analysis_parameters import directory_information\n",
    "from plants_and_TCR.analysis_parameters import get_CMIP_info\n",
    "from plants_and_TCR.analysis_parameters import co2_concentrations\n",
    "from plants_and_TCR.analysis_parameters import params\n",
    "from plants_and_TCR.analyze_data import make_tcr_dataset\n",
    "from plants_and_TCR.analyze_data import moving_average as movingaverage\n",
    "from plants_and_TCR.process_data import calculate_tcr_time_series\n",
    "from plants_and_TCR.process_data import calculate_pi_baseline\n",
    "from plants_and_TCR.generate_figures import plot_scatter_CMIP\n",
    "\n",
    "CDICT_NAMES=params.CDICT_NAMES\n",
    "PATH_FIGURES = directory_information.DIR_OUTPUT_FIGURES\n",
    "#PATH_DATA=directory_information.'/eos9/czarakas/Code/CMIP_Analysis/Data/Intermediate_Data/'\n",
    "\n",
    "CO2_1PCTCO2 = co2_concentrations.co2_1pctco2\n",
    "DEFAULT_VARNAME = params.DEFAULT_VARNAME\n",
    "CDICT_NAMES = params.CDICT_NAMES\n",
    "runnames_all = params.RUNNAMES_ALL\n",
    "CMIP_linestyles = params.CMIP_LINESTYLES"
   ]
  },
  {
   "cell_type": "code",
   "execution_count": 5,
   "metadata": {},
   "outputs": [],
   "source": [
    "rc('font',**{'family':'sans-serif','sans-serif':['Arial']})"
   ]
  },
  {
   "cell_type": "markdown",
   "metadata": {},
   "source": [
    "### Calculate TCRs"
   ]
  },
  {
   "cell_type": "code",
   "execution_count": null,
   "metadata": {},
   "outputs": [],
   "source": [
    "TCR_DICT = calculate_tcr_time_series.create_tcr_datasets(tcr_types=['TOT-RAD','TOT', 'RAD','PHYS'],\n",
    "                                                         average_types=['global'],\n",
    "                                                         save_tcr_dict=True,\n",
    "                                                         recalculate_TCRs=False)"
   ]
  },
  {
   "cell_type": "code",
   "execution_count": 6,
   "metadata": {},
   "outputs": [],
   "source": [
    "# Load precalculated\n",
    "DIR_TCR_DICT = directory_information.DIR_TCR_DICT\n",
    "TCR_DICT = pickle.load(open(DIR_TCR_DICT+'TCR_dict.pickle', \"rb\"))"
   ]
  },
  {
   "cell_type": "code",
   "execution_count": 7,
   "metadata": {},
   "outputs": [],
   "source": [
    "TCR_2xco2_global = make_tcr_dataset.make_tcr_dataset(TCR_DICT, varname='tas', tcr_types=['TOT','RAD','TOT-RAD','PHYS'],\n",
    "                                                     end_yr=70, average_type='global')\n",
    "TCR_4xco2_global = make_tcr_dataset.make_tcr_dataset(TCR_DICT, varname='tas', tcr_types=['TOT','RAD','TOT-RAD','PHYS'],\n",
    "                                                     end_yr=130, average_type='global')\n",
    "TCR_2xco2_land = make_tcr_dataset.make_tcr_dataset(TCR_DICT, varname='tas', tcr_types=['TOT','RAD','TOT-RAD','PHYS'],\n",
    "                                                   end_yr=70, average_type='land')\n",
    "TCR_2xco2_ocean = make_tcr_dataset.make_tcr_dataset(TCR_DICT, varname='tas', tcr_types=['TOT','RAD','TOT-RAD','PHYS'],\n",
    "                                                    end_yr=70, average_type='ocean')"
   ]
  },
  {
   "cell_type": "code",
   "execution_count": 8,
   "metadata": {},
   "outputs": [],
   "source": [
    "TCR_4xco2_land = make_tcr_dataset.make_tcr_dataset(TCR_DICT, varname='tas', tcr_types=['TOT','RAD','TOT-RAD','PHYS'],\n",
    "                                                   end_yr=130, average_type='land')\n",
    "TCR_4xco2_ocean = make_tcr_dataset.make_tcr_dataset(TCR_DICT, varname='tas', tcr_types=['TOT','RAD','TOT-RAD','PHYS'],\n",
    "                                                    end_yr=130, average_type='ocean')"
   ]
  },
  {
   "cell_type": "code",
   "execution_count": 9,
   "metadata": {},
   "outputs": [],
   "source": [
    "TCR_2xco2_ocean = make_tcr_dataset.make_tcr_dataset(TCR_DICT, varname='tas', tcr_types=['TOT','RAD','TOT-RAD','PHYS'],\n",
    "                                                    end_yr=70, average_type='ocean')\n",
    "TCR_4xco2_ocean = make_tcr_dataset.make_tcr_dataset(TCR_DICT, varname='tas', tcr_types=['TOT','RAD','TOT-RAD','PHYS'],\n",
    "                                                    end_yr=130, average_type='ocean')"
   ]
  },
  {
   "cell_type": "code",
   "execution_count": 10,
   "metadata": {},
   "outputs": [],
   "source": [
    "TCR_2xco2_global['TOT-RAD_pct'] = TCR_2xco2_global['TOT-RAD']*100/TCR_2xco2_global['TOT']\n",
    "TCR_4xco2_global['TOT-RAD_pct'] = TCR_4xco2_global['TOT-RAD']*100/TCR_4xco2_global['TOT']\n",
    "TCR_2xco2_land['TOT-RAD_pct'] = TCR_2xco2_land['TOT-RAD']*100/TCR_2xco2_land['TOT']\n",
    "TCR_4xco2_land['TOT-RAD_pct'] = TCR_4xco2_land['TOT-RAD']*100/TCR_4xco2_land['TOT']\n",
    "TCR_2xco2_ocean['TOT-RAD_pct'] = TCR_2xco2_ocean['TOT-RAD']*100/TCR_2xco2_ocean['TOT']\n",
    "TCR_4xco2_ocean['TOT-RAD_pct'] = TCR_4xco2_ocean['TOT-RAD']*100/TCR_4xco2_ocean['TOT']\n",
    "\n",
    "TCR_2xco2_global_cmip5 = TCR_2xco2_global[0:8]\n",
    "TCR_2xco2_global_cmip6 = TCR_2xco2_global[8:100]\n",
    "TCR_4xco2_global_cmip5 = TCR_4xco2_global[0:8]\n",
    "TCR_4xco2_global_cmip6 = TCR_4xco2_global[8:100]\n",
    "TCR_2xco2_land_cmip6 = TCR_2xco2_land[8:100]\n",
    "TCR_2xco2_ocean_cmip6 = TCR_2xco2_ocean[8:100]\n",
    "TCR_4xco2_land_cmip6 = TCR_4xco2_land[8:100]\n",
    "TCR_4xco2_ocean_cmip6 = TCR_4xco2_ocean[8:100]"
   ]
  },
  {
   "cell_type": "markdown",
   "metadata": {},
   "source": [
    "# Calculate Numbers for In Text"
   ]
  },
  {
   "cell_type": "code",
   "execution_count": 11,
   "metadata": {},
   "outputs": [
    {
     "output_type": "stream",
     "name": "stdout",
     "text": "-------\n-------\n"
    },
    {
     "output_type": "execute_result",
     "data": {
      "text/plain": "               TOT  RAD  TOT-RAD  PHYS  TOT-RAD_pct  RAD_pct  PHYS_pct\nbcc-csm1-1     1.7  1.7      0.1   0.0          3.5     96.5       2.8\nCanESM2        2.3  2.2      0.2   0.2          7.9     92.1       6.5\nCESM1-BGC      1.7  1.6      0.1   0.1          6.8     93.2       6.6\nGFDL-ESM2M     1.4  1.3      0.0   0.0          0.1     99.9       3.4\nHadGEM2-ES     2.5  2.0      0.5   0.4         20.1     79.9      14.6\nIPSL-CM5A-LR   2.0  2.0      0.0   0.1          1.7     98.3       5.6\nNorESM1-ME     1.6  1.4      0.1   0.1          9.2     90.8       5.3\nMPI-ESM-LR     2.0  1.9      0.1   0.2          3.6     96.4       9.9\nBCC-CSM2-MR    1.7  1.7      0.1   0.5          4.2     95.8      31.4\nCanESM5        2.7  2.6      0.1   0.0          3.8     96.2       1.5\nCESM2          2.1  1.8      0.3   0.1         13.9     86.1       5.2\nGFDL-ESM4      1.6  1.6      0.0   0.2          1.4     98.6      10.7\nUKESM1-0-LL    2.8  2.5      0.3   0.2         10.0     90.0       6.0\nIPSL-CM6A-LR   2.3  2.2      0.1   0.2          3.6     96.4       7.3\nNorESM2-LM     1.5  1.3      0.1   NaN          9.0     91.0       NaN\nMPI-ESM1-2-LR  1.8  1.7      0.2   0.1          8.9     91.1       7.2\nACCESS-ESM1-5  1.9  1.8      0.2   0.2          8.1     91.9      10.7\nCNRM-ESM2-1    1.8  1.8      0.0  -0.1          2.5     97.5      -8.0\nGISS-E2-1-G    1.8  1.7      0.1   0.1          5.1     94.9       4.3\nMIROC-ES2L     1.6  1.5      0.0   0.1          2.4     97.6       4.8",
      "text/html": "<div>\n<style scoped>\n    .dataframe tbody tr th:only-of-type {\n        vertical-align: middle;\n    }\n\n    .dataframe tbody tr th {\n        vertical-align: top;\n    }\n\n    .dataframe thead th {\n        text-align: right;\n    }\n</style>\n<table border=\"1\" class=\"dataframe\">\n  <thead>\n    <tr style=\"text-align: right;\">\n      <th></th>\n      <th>TOT</th>\n      <th>RAD</th>\n      <th>TOT-RAD</th>\n      <th>PHYS</th>\n      <th>TOT-RAD_pct</th>\n      <th>RAD_pct</th>\n      <th>PHYS_pct</th>\n    </tr>\n  </thead>\n  <tbody>\n    <tr>\n      <th>bcc-csm1-1</th>\n      <td>1.7</td>\n      <td>1.7</td>\n      <td>0.1</td>\n      <td>0.0</td>\n      <td>3.5</td>\n      <td>96.5</td>\n      <td>2.8</td>\n    </tr>\n    <tr>\n      <th>CanESM2</th>\n      <td>2.3</td>\n      <td>2.2</td>\n      <td>0.2</td>\n      <td>0.2</td>\n      <td>7.9</td>\n      <td>92.1</td>\n      <td>6.5</td>\n    </tr>\n    <tr>\n      <th>CESM1-BGC</th>\n      <td>1.7</td>\n      <td>1.6</td>\n      <td>0.1</td>\n      <td>0.1</td>\n      <td>6.8</td>\n      <td>93.2</td>\n      <td>6.6</td>\n    </tr>\n    <tr>\n      <th>GFDL-ESM2M</th>\n      <td>1.4</td>\n      <td>1.3</td>\n      <td>0.0</td>\n      <td>0.0</td>\n      <td>0.1</td>\n      <td>99.9</td>\n      <td>3.4</td>\n    </tr>\n    <tr>\n      <th>HadGEM2-ES</th>\n      <td>2.5</td>\n      <td>2.0</td>\n      <td>0.5</td>\n      <td>0.4</td>\n      <td>20.1</td>\n      <td>79.9</td>\n      <td>14.6</td>\n    </tr>\n    <tr>\n      <th>IPSL-CM5A-LR</th>\n      <td>2.0</td>\n      <td>2.0</td>\n      <td>0.0</td>\n      <td>0.1</td>\n      <td>1.7</td>\n      <td>98.3</td>\n      <td>5.6</td>\n    </tr>\n    <tr>\n      <th>NorESM1-ME</th>\n      <td>1.6</td>\n      <td>1.4</td>\n      <td>0.1</td>\n      <td>0.1</td>\n      <td>9.2</td>\n      <td>90.8</td>\n      <td>5.3</td>\n    </tr>\n    <tr>\n      <th>MPI-ESM-LR</th>\n      <td>2.0</td>\n      <td>1.9</td>\n      <td>0.1</td>\n      <td>0.2</td>\n      <td>3.6</td>\n      <td>96.4</td>\n      <td>9.9</td>\n    </tr>\n    <tr>\n      <th>BCC-CSM2-MR</th>\n      <td>1.7</td>\n      <td>1.7</td>\n      <td>0.1</td>\n      <td>0.5</td>\n      <td>4.2</td>\n      <td>95.8</td>\n      <td>31.4</td>\n    </tr>\n    <tr>\n      <th>CanESM5</th>\n      <td>2.7</td>\n      <td>2.6</td>\n      <td>0.1</td>\n      <td>0.0</td>\n      <td>3.8</td>\n      <td>96.2</td>\n      <td>1.5</td>\n    </tr>\n    <tr>\n      <th>CESM2</th>\n      <td>2.1</td>\n      <td>1.8</td>\n      <td>0.3</td>\n      <td>0.1</td>\n      <td>13.9</td>\n      <td>86.1</td>\n      <td>5.2</td>\n    </tr>\n    <tr>\n      <th>GFDL-ESM4</th>\n      <td>1.6</td>\n      <td>1.6</td>\n      <td>0.0</td>\n      <td>0.2</td>\n      <td>1.4</td>\n      <td>98.6</td>\n      <td>10.7</td>\n    </tr>\n    <tr>\n      <th>UKESM1-0-LL</th>\n      <td>2.8</td>\n      <td>2.5</td>\n      <td>0.3</td>\n      <td>0.2</td>\n      <td>10.0</td>\n      <td>90.0</td>\n      <td>6.0</td>\n    </tr>\n    <tr>\n      <th>IPSL-CM6A-LR</th>\n      <td>2.3</td>\n      <td>2.2</td>\n      <td>0.1</td>\n      <td>0.2</td>\n      <td>3.6</td>\n      <td>96.4</td>\n      <td>7.3</td>\n    </tr>\n    <tr>\n      <th>NorESM2-LM</th>\n      <td>1.5</td>\n      <td>1.3</td>\n      <td>0.1</td>\n      <td>NaN</td>\n      <td>9.0</td>\n      <td>91.0</td>\n      <td>NaN</td>\n    </tr>\n    <tr>\n      <th>MPI-ESM1-2-LR</th>\n      <td>1.8</td>\n      <td>1.7</td>\n      <td>0.2</td>\n      <td>0.1</td>\n      <td>8.9</td>\n      <td>91.1</td>\n      <td>7.2</td>\n    </tr>\n    <tr>\n      <th>ACCESS-ESM1-5</th>\n      <td>1.9</td>\n      <td>1.8</td>\n      <td>0.2</td>\n      <td>0.2</td>\n      <td>8.1</td>\n      <td>91.9</td>\n      <td>10.7</td>\n    </tr>\n    <tr>\n      <th>CNRM-ESM2-1</th>\n      <td>1.8</td>\n      <td>1.8</td>\n      <td>0.0</td>\n      <td>-0.1</td>\n      <td>2.5</td>\n      <td>97.5</td>\n      <td>-8.0</td>\n    </tr>\n    <tr>\n      <th>GISS-E2-1-G</th>\n      <td>1.8</td>\n      <td>1.7</td>\n      <td>0.1</td>\n      <td>0.1</td>\n      <td>5.1</td>\n      <td>94.9</td>\n      <td>4.3</td>\n    </tr>\n    <tr>\n      <th>MIROC-ES2L</th>\n      <td>1.6</td>\n      <td>1.5</td>\n      <td>0.0</td>\n      <td>0.1</td>\n      <td>2.4</td>\n      <td>97.6</td>\n      <td>4.8</td>\n    </tr>\n  </tbody>\n</table>\n</div>"
     },
     "metadata": {},
     "execution_count": 11
    }
   ],
   "source": [
    "model_order = [\"bcc-csm1-1\",\"CanESM2\",\"CESM1-BGC\",\"GFDL-ESM2M\",\"HadGEM2-ES\",\n",
    "              \"IPSL-CM5A-LR\",\"NorESM1-ME\",\"MPI-ESM-LR\",\n",
    "              \"BCC-CSM2-MR\",\"CanESM5\",\"CESM2\",\"GFDL-ESM4\",\"UKESM1-0-LL\",\n",
    "              \"IPSL-CM6A-LR\",\"NorESM2-LM\",\"MPI-ESM1-2-LR\",\n",
    "              \"ACCESS-ESM1-5\",\"CNRM-ESM2-1\",\"GISS-E2-1-G\",\"MIROC-ES2L\"]\n",
    "TCR_2xco2_global['RAD_pct'] = TCR_2xco2_global['RAD']*100/TCR_2xco2_global['TOT']\n",
    "TCR_2xco2_global['PHYS_pct'] = TCR_2xco2_global['PHYS']*100/TCR_2xco2_global['TOT']\n",
    "TCR_2xco2_global=TCR_2xco2_global.reindex(model_order)\n",
    "\n",
    "print('-------')\n",
    "cmip5_mean = TCR_2xco2_global[0:8].mean()\n",
    "cmip6_mean = TCR_2xco2_global[8:100].mean()\n",
    "cmip6_mean_samesubset = TCR_2xco2_global[8:16].mean()\n",
    "cmip5_std = TCR_2xco2_global[0:8].std()\n",
    "cmip6_std = TCR_2xco2_global[8:100].std()\n",
    "cmip6_std_samesubset = TCR_2xco2_global[8:16].std()\n",
    "print('-------')\n",
    "\n",
    "TCR_2xco2_global.round(1)"
   ]
  },
  {
   "cell_type": "code",
   "execution_count": 100,
   "metadata": {},
   "outputs": [
    {
     "name": "stdout",
     "output_type": "stream",
     "text": [
      "7.8\n"
     ]
    }
   ],
   "source": [
    "print(np.round(TCR_2xco2_land_cmip6['TOT-RAD_pct'].mean(),1))"
   ]
  },
  {
   "cell_type": "code",
   "execution_count": 108,
   "metadata": {},
   "outputs": [
    {
     "data": {
      "text/plain": [
       "TOT            0.432033\n",
       "RAD            0.396888\n",
       "TOT-RAD        0.086499\n",
       "PHYS           0.164677\n",
       "TOT-RAD_pct    3.817511\n",
       "dtype: float64"
      ]
     },
     "execution_count": 108,
     "metadata": {},
     "output_type": "execute_result"
    }
   ],
   "source": [
    "TCR_2xco2_global_cmip6.std()"
   ]
  },
  {
   "cell_type": "markdown",
   "metadata": {},
   "source": [
    "### ***Abstract and Results (3.1)***"
   ]
  },
  {
   "cell_type": "markdown",
   "metadata": {},
   "source": [
    "#### All Models, 2xCO2\n",
    "* In CMIP6, PHYS contributes A ± B° (range of C-D°) to the TCR\n",
    "* corresponding to to E ± F% of the full TCR (and a range of G-H%)\n",
    "* In CMIP5 models, PHY contributes I ± J°C (and a range of K-L°C) to the TCR\n",
    "* corresponding to M ± N% of the full TCR (and a range of O-P%)\n",
    "\n",
    "#### Same Model Subset, 2xCO2\n",
    "* mean TCRPHYS across models remained roughly constant (Table S4).\n",
    "* TCRPHYS increased for Q/R models\n",
    "\n",
    "#### All Models, 4xCO2\n",
    "* by 4xCO2, physiologically-forced warming reaches S-T° (U-V%) of warming (mean: W°, X%)"
   ]
  },
  {
   "cell_type": "code",
   "execution_count": 12,
   "metadata": {},
   "outputs": [
    {
     "output_type": "stream",
     "name": "stdout",
     "text": "CMIP6 Mean TCRphys = 0.12\nCMIP6 Stddev TCRphys = 0.09\nCMIP6 Range TCRphys = 0.02 - 0.29\nCMIP6 Mean % TCRphys = 6.1\nCMIP6 Stddev % TCRphys = 3.8\nCMIP6 Range % TCRphys = 1.4% - 13.9%\n"
    }
   ],
   "source": [
    "A = np.round(TCR_2xco2_global_cmip6['TOT-RAD'].mean(),2)\n",
    "print('CMIP6 Mean TCRphys = '+str(A))\n",
    "B = np.round(TCR_2xco2_global_cmip6['TOT-RAD'].std(),2)\n",
    "print('CMIP6 Stddev TCRphys = '+str(B))\n",
    "C = np.round(TCR_2xco2_global_cmip6['TOT-RAD'].min(),2)\n",
    "D = np.round(TCR_2xco2_global_cmip6['TOT-RAD'].max(),2)\n",
    "print('CMIP6 Range TCRphys = '+str(C)+' - '+str(D))\n",
    "\n",
    "G = np.round(TCR_2xco2_global_cmip6['TOT-RAD_pct'].mean(),1) #Mean of Percents\n",
    "#G = np.round(TCR_2xco2_global_cmip6['TOT-RAD'].mean()*100/TCR_2xco2_global_cmip6['TOT'].mean(),2) #Percents of Means\n",
    "print('CMIP6 Mean % TCRphys = '+str(G))\n",
    "F = np.round(TCR_2xco2_global_cmip6['TOT-RAD_pct'].std(),1)\n",
    "print('CMIP6 Stddev % TCRphys = '+str(F))\n",
    "G = np.round(TCR_2xco2_global_cmip6['TOT-RAD_pct'].min(),1)\n",
    "H = np.round(TCR_2xco2_global_cmip6['TOT-RAD_pct'].max(),1)\n",
    "print('CMIP6 Range % TCRphys = '+str(G)+'% - '+str(H)+'%')"
   ]
  },
  {
   "cell_type": "code",
   "execution_count": 13,
   "metadata": {},
   "outputs": [
    {
     "output_type": "stream",
     "name": "stdout",
     "text": "4xCO2 CMIP6 Mean TCRphys = 0.21\n4xCO2 CMIP6 Stddev TCRphys = 0.12\n4xCO2 CMIP6 Range TCRphys = 0.03 - 0.45\n4xCO2 CMIP6 Mean % TCRphys = 4.94\n4xCO2 CMIP6 Stddev % TCRphys = 2.45\n4xCO2 CMIP6 Range % TCRphys = 0.51% - 7.93%\n"
    }
   ],
   "source": [
    "A = np.round(TCR_4xco2_global_cmip6['TOT-RAD'].mean(),2)\n",
    "print('4xCO2 CMIP6 Mean TCRphys = '+str(A))\n",
    "B = np.round(TCR_4xco2_global_cmip6['TOT-RAD'].std(),2)\n",
    "print('4xCO2 CMIP6 Stddev TCRphys = '+str(B))\n",
    "C = np.round(TCR_4xco2_global_cmip6['TOT-RAD'].min(),2)\n",
    "D = np.round(TCR_4xco2_global_cmip6['TOT-RAD'].max(),2)\n",
    "print('4xCO2 CMIP6 Range TCRphys = '+str(C)+' - '+str(D))\n",
    "\n",
    "G = np.round(TCR_4xco2_global_cmip6['TOT-RAD_pct'].mean(),2) #Mean of Percents\n",
    "#G_ = np.round(TCR_4xco2_global_cmip6['TOT-RAD'].mean()*100/TCR_4xco2_global_cmip6['TOT'].mean(),2) #Percents of Means\n",
    "print('4xCO2 CMIP6 Mean % TCRphys = '+str(G))\n",
    "F = np.round(TCR_4xco2_global_cmip6['TOT-RAD_pct'].std(),2)\n",
    "print('4xCO2 CMIP6 Stddev % TCRphys = '+str(F))\n",
    "G = np.round(TCR_4xco2_global_cmip6['TOT-RAD_pct'].min(),2)\n",
    "H = np.round(TCR_4xco2_global_cmip6['TOT-RAD_pct'].max(),2)\n",
    "print('4xCO2 CMIP6 Range % TCRphys = '+str(G)+'% - '+str(H)+'%')"
   ]
  },
  {
   "cell_type": "markdown",
   "metadata": {},
   "source": [
    "### ***Results (3.2)***"
   ]
  },
  {
   "cell_type": "code",
   "execution_count": 23,
   "metadata": {},
   "outputs": [
    {
     "name": "stdout",
     "output_type": "stream",
     "text": [
      "Mean land warming at 2xCO2 = 0.22\n",
      "Mean land warming at 4xCO2 = 0.41\n",
      "Mean ocean warming at 2xCO2 = 0.09\n",
      "Mean ocean warming at 4xCO2 = 0.14\n"
     ]
    }
   ],
   "source": [
    "land_warming_2xCO2 = np.round(TCR_2xco2_land_cmip6['TOT-RAD'].mean(),2)\n",
    "print('Mean land warming at 2xCO2 = '+str(land_warming_2xCO2))\n",
    "land_warming_4xCO2 = np.round(TCR_4xco2_land_cmip6['TOT-RAD'].mean(),2)\n",
    "print('Mean land warming at 4xCO2 = '+str(land_warming_4xCO2))\n",
    "ocean_warming_2xCO2 = np.round(TCR_2xco2_ocean_cmip6['TOT-RAD'].mean(),2)\n",
    "print('Mean ocean warming at 2xCO2 = '+str(ocean_warming_2xCO2))\n",
    "ocean_warming_4xCO2 = np.round(TCR_4xco2_ocean_cmip6['TOT-RAD'].mean(),2)\n",
    "print('Mean ocean warming at 4xCO2 = '+str(ocean_warming_4xCO2))"
   ]
  },
  {
   "cell_type": "code",
   "execution_count": 28,
   "metadata": {},
   "outputs": [
    {
     "data": {
      "text/html": [
       "<div>\n",
       "<style scoped>\n",
       "    .dataframe tbody tr th:only-of-type {\n",
       "        vertical-align: middle;\n",
       "    }\n",
       "\n",
       "    .dataframe tbody tr th {\n",
       "        vertical-align: top;\n",
       "    }\n",
       "\n",
       "    .dataframe thead th {\n",
       "        text-align: right;\n",
       "    }\n",
       "</style>\n",
       "<table border=\"1\" class=\"dataframe\">\n",
       "  <thead>\n",
       "    <tr style=\"text-align: right;\">\n",
       "      <th></th>\n",
       "      <th>TOT</th>\n",
       "      <th>RAD</th>\n",
       "      <th>TOT-RAD</th>\n",
       "      <th>PHYS</th>\n",
       "    </tr>\n",
       "  </thead>\n",
       "  <tbody>\n",
       "    <tr>\n",
       "      <th>CNRM-ESM2-1</th>\n",
       "      <td>2.417871</td>\n",
       "      <td>2.383435</td>\n",
       "      <td>0.034434</td>\n",
       "      <td>-0.199386</td>\n",
       "    </tr>\n",
       "    <tr>\n",
       "      <th>BCC-CSM2-MR</th>\n",
       "      <td>2.509400</td>\n",
       "      <td>2.395498</td>\n",
       "      <td>0.113902</td>\n",
       "      <td>0.422824</td>\n",
       "    </tr>\n",
       "    <tr>\n",
       "      <th>CanESM5</th>\n",
       "      <td>3.740882</td>\n",
       "      <td>3.541230</td>\n",
       "      <td>0.199648</td>\n",
       "      <td>0.131675</td>\n",
       "    </tr>\n",
       "    <tr>\n",
       "      <th>CESM2</th>\n",
       "      <td>2.676840</td>\n",
       "      <td>2.209910</td>\n",
       "      <td>0.466927</td>\n",
       "      <td>0.163705</td>\n",
       "    </tr>\n",
       "    <tr>\n",
       "      <th>GISS-E2-1-G</th>\n",
       "      <td>2.506394</td>\n",
       "      <td>2.298412</td>\n",
       "      <td>0.207980</td>\n",
       "      <td>0.125303</td>\n",
       "    </tr>\n",
       "    <tr>\n",
       "      <th>UKESM1-0-LL</th>\n",
       "      <td>3.922472</td>\n",
       "      <td>3.375532</td>\n",
       "      <td>0.546940</td>\n",
       "      <td>0.521233</td>\n",
       "    </tr>\n",
       "    <tr>\n",
       "      <th>GFDL-ESM4</th>\n",
       "      <td>2.231402</td>\n",
       "      <td>2.165839</td>\n",
       "      <td>0.065552</td>\n",
       "      <td>0.304600</td>\n",
       "    </tr>\n",
       "    <tr>\n",
       "      <th>IPSL-CM6A-LR</th>\n",
       "      <td>3.179621</td>\n",
       "      <td>2.950991</td>\n",
       "      <td>0.228630</td>\n",
       "      <td>0.379856</td>\n",
       "    </tr>\n",
       "    <tr>\n",
       "      <th>MIROC-ES2L</th>\n",
       "      <td>2.195848</td>\n",
       "      <td>2.142798</td>\n",
       "      <td>0.053050</td>\n",
       "      <td>0.079192</td>\n",
       "    </tr>\n",
       "    <tr>\n",
       "      <th>NorESM2-LM</th>\n",
       "      <td>2.217801</td>\n",
       "      <td>2.017639</td>\n",
       "      <td>0.200162</td>\n",
       "      <td>NaN</td>\n",
       "    </tr>\n",
       "    <tr>\n",
       "      <th>MPI-ESM1-2-LR</th>\n",
       "      <td>2.585982</td>\n",
       "      <td>2.250069</td>\n",
       "      <td>0.335912</td>\n",
       "      <td>0.263997</td>\n",
       "    </tr>\n",
       "    <tr>\n",
       "      <th>ACCESS-ESM1-5</th>\n",
       "      <td>2.736220</td>\n",
       "      <td>2.511744</td>\n",
       "      <td>0.224486</td>\n",
       "      <td>0.342177</td>\n",
       "    </tr>\n",
       "  </tbody>\n",
       "</table>\n",
       "</div>"
      ],
      "text/plain": [
       "                    TOT       RAD   TOT-RAD      PHYS\n",
       "CNRM-ESM2-1    2.417871  2.383435  0.034434 -0.199386\n",
       "BCC-CSM2-MR    2.509400  2.395498  0.113902  0.422824\n",
       "CanESM5        3.740882  3.541230  0.199648  0.131675\n",
       "CESM2          2.676840  2.209910  0.466927  0.163705\n",
       "GISS-E2-1-G    2.506394  2.298412  0.207980  0.125303\n",
       "UKESM1-0-LL    3.922472  3.375532  0.546940  0.521233\n",
       "GFDL-ESM4      2.231402  2.165839  0.065552  0.304600\n",
       "IPSL-CM6A-LR   3.179621  2.950991  0.228630  0.379856\n",
       "MIROC-ES2L     2.195848  2.142798  0.053050  0.079192\n",
       "NorESM2-LM     2.217801  2.017639  0.200162       NaN\n",
       "MPI-ESM1-2-LR  2.585982  2.250069  0.335912  0.263997\n",
       "ACCESS-ESM1-5  2.736220  2.511744  0.224486  0.342177"
      ]
     },
     "execution_count": 28,
     "metadata": {},
     "output_type": "execute_result"
    }
   ],
   "source": [
    "TCR_2xco2_land_cmip6[]"
   ]
  },
  {
   "cell_type": "code",
   "execution_count": 40,
   "metadata": {},
   "outputs": [
    {
     "name": "stdout",
     "output_type": "stream",
     "text": [
      "Land % of total warming, 2xCO2: 7.8%\n",
      "Ocean % of total warming, 2xCO2: 5.2%\n",
      "Land % of total warming, 4xCO2: 6.8%\n",
      "Ocean % of total warming, 4xCO2: 4.0%\n"
     ]
    }
   ],
   "source": [
    "land_phys_pct_2xCO2 = np.round(TCR_2xco2_land_cmip6['TOT-RAD_pct'].mean(),1)\n",
    "print('Land % of total warming, 2xCO2: '+str(land_phys_pct_2xCO2)+'%')\n",
    "ocean_phys_pct_2xCO2 = np.round(TCR_2xco2_ocean_cmip6['TOT-RAD_pct'].mean(),1)\n",
    "print('Ocean % of total warming, 2xCO2: '+str(ocean_phys_pct_2xCO2)+'%')\n",
    "land_phys_pct_4xCO2 = np.round(TCR_4xco2_land_cmip6['TOT-RAD_pct'].mean(),1)\n",
    "print('Land % of total warming, 4xCO2: '+str(land_phys_pct_4xCO2)+'%')\n",
    "ocean_phys_pct_4xCO2 = np.round(TCR_4xco2_ocean_cmip6['TOT-RAD_pct'].mean(),1)\n",
    "print('Ocean % of total warming, 4xCO2: '+str(ocean_phys_pct_4xCO2)+'%')"
   ]
  },
  {
   "cell_type": "code",
   "execution_count": 44,
   "metadata": {},
   "outputs": [
    {
     "data": {
      "text/html": [
       "<div>\n",
       "<style scoped>\n",
       "    .dataframe tbody tr th:only-of-type {\n",
       "        vertical-align: middle;\n",
       "    }\n",
       "\n",
       "    .dataframe tbody tr th {\n",
       "        vertical-align: top;\n",
       "    }\n",
       "\n",
       "    .dataframe thead th {\n",
       "        text-align: right;\n",
       "    }\n",
       "</style>\n",
       "<table border=\"1\" class=\"dataframe\">\n",
       "  <thead>\n",
       "    <tr style=\"text-align: right;\">\n",
       "      <th></th>\n",
       "      <th>TOT</th>\n",
       "      <th>RAD</th>\n",
       "      <th>TOT-RAD</th>\n",
       "      <th>PHYS</th>\n",
       "      <th>TOT-RAD_pct</th>\n",
       "    </tr>\n",
       "  </thead>\n",
       "  <tbody>\n",
       "    <tr>\n",
       "      <th>CNRM-ESM2-1</th>\n",
       "      <td>1.61</td>\n",
       "      <td>1.55</td>\n",
       "      <td>0.05</td>\n",
       "      <td>-0.13</td>\n",
       "      <td>3.35</td>\n",
       "    </tr>\n",
       "    <tr>\n",
       "      <th>BCC-CSM2-MR</th>\n",
       "      <td>1.43</td>\n",
       "      <td>1.37</td>\n",
       "      <td>0.06</td>\n",
       "      <td>0.56</td>\n",
       "      <td>4.31</td>\n",
       "    </tr>\n",
       "    <tr>\n",
       "      <th>CanESM5</th>\n",
       "      <td>2.36</td>\n",
       "      <td>2.28</td>\n",
       "      <td>0.07</td>\n",
       "      <td>0.02</td>\n",
       "      <td>3.11</td>\n",
       "    </tr>\n",
       "    <tr>\n",
       "      <th>CESM2</th>\n",
       "      <td>1.81</td>\n",
       "      <td>1.59</td>\n",
       "      <td>0.22</td>\n",
       "      <td>0.09</td>\n",
       "      <td>12.22</td>\n",
       "    </tr>\n",
       "    <tr>\n",
       "      <th>GISS-E2-1-G</th>\n",
       "      <td>1.51</td>\n",
       "      <td>1.46</td>\n",
       "      <td>0.05</td>\n",
       "      <td>0.06</td>\n",
       "      <td>3.48</td>\n",
       "    </tr>\n",
       "    <tr>\n",
       "      <th>UKESM1-0-LL</th>\n",
       "      <td>2.37</td>\n",
       "      <td>2.19</td>\n",
       "      <td>0.18</td>\n",
       "      <td>0.05</td>\n",
       "      <td>7.73</td>\n",
       "    </tr>\n",
       "    <tr>\n",
       "      <th>GFDL-ESM4</th>\n",
       "      <td>1.37</td>\n",
       "      <td>1.36</td>\n",
       "      <td>0.01</td>\n",
       "      <td>0.13</td>\n",
       "      <td>0.62</td>\n",
       "    </tr>\n",
       "    <tr>\n",
       "      <th>IPSL-CM6A-LR</th>\n",
       "      <td>2.00</td>\n",
       "      <td>1.96</td>\n",
       "      <td>0.03</td>\n",
       "      <td>0.10</td>\n",
       "      <td>1.57</td>\n",
       "    </tr>\n",
       "    <tr>\n",
       "      <th>MIROC-ES2L</th>\n",
       "      <td>1.30</td>\n",
       "      <td>1.27</td>\n",
       "      <td>0.03</td>\n",
       "      <td>0.07</td>\n",
       "      <td>2.62</td>\n",
       "    </tr>\n",
       "    <tr>\n",
       "      <th>NorESM2-LM</th>\n",
       "      <td>1.22</td>\n",
       "      <td>1.11</td>\n",
       "      <td>0.11</td>\n",
       "      <td>NaN</td>\n",
       "      <td>8.79</td>\n",
       "    </tr>\n",
       "    <tr>\n",
       "      <th>MPI-ESM1-2-LR</th>\n",
       "      <td>1.55</td>\n",
       "      <td>1.44</td>\n",
       "      <td>0.10</td>\n",
       "      <td>0.09</td>\n",
       "      <td>6.73</td>\n",
       "    </tr>\n",
       "    <tr>\n",
       "      <th>ACCESS-ESM1-5</th>\n",
       "      <td>1.65</td>\n",
       "      <td>1.52</td>\n",
       "      <td>0.13</td>\n",
       "      <td>0.16</td>\n",
       "      <td>8.01</td>\n",
       "    </tr>\n",
       "  </tbody>\n",
       "</table>\n",
       "</div>"
      ],
      "text/plain": [
       "                TOT   RAD  TOT-RAD  PHYS  TOT-RAD_pct\n",
       "CNRM-ESM2-1    1.61  1.55     0.05 -0.13         3.35\n",
       "BCC-CSM2-MR    1.43  1.37     0.06  0.56         4.31\n",
       "CanESM5        2.36  2.28     0.07  0.02         3.11\n",
       "CESM2          1.81  1.59     0.22  0.09        12.22\n",
       "GISS-E2-1-G    1.51  1.46     0.05  0.06         3.48\n",
       "UKESM1-0-LL    2.37  2.19     0.18  0.05         7.73\n",
       "GFDL-ESM4      1.37  1.36     0.01  0.13         0.62\n",
       "IPSL-CM6A-LR   2.00  1.96     0.03  0.10         1.57\n",
       "MIROC-ES2L     1.30  1.27     0.03  0.07         2.62\n",
       "NorESM2-LM     1.22  1.11     0.11   NaN         8.79\n",
       "MPI-ESM1-2-LR  1.55  1.44     0.10  0.09         6.73\n",
       "ACCESS-ESM1-5  1.65  1.52     0.13  0.16         8.01"
      ]
     },
     "execution_count": 44,
     "metadata": {},
     "output_type": "execute_result"
    }
   ],
   "source": [
    "TCR_2xco2_ocean_cmip6.round(2)"
   ]
  },
  {
   "cell_type": "markdown",
   "metadata": {},
   "source": [
    "### ***Results (3.3)***"
   ]
  },
  {
   "cell_type": "code",
   "execution_count": null,
   "metadata": {},
   "outputs": [],
   "source": [
    "TCR_2xco2_land_cmip6['TOT'].std()"
   ]
  },
  {
   "cell_type": "code",
   "execution_count": 101,
   "metadata": {},
   "outputs": [
    {
     "name": "stdout",
     "output_type": "stream",
     "text": [
      "------Standard Deviation------\n",
      "Global: RAD accounts for 91.9% of TOT standard deviation\n",
      "Global: TOT-RAD accounts for remaining 8.1% of TOT standard deviation\n",
      "Land: RAD accounts for 86.4% of TOT standard deviation\n",
      "Land: TOT-RAD accounts for remaining 13.6% of TOT standard deviation\n"
     ]
    }
   ],
   "source": [
    "print('------Standard Deviation------')\n",
    "pct_rad_explains = np.round(TCR_2xco2_global_cmip6['RAD'].std()*100/TCR_2xco2_global_cmip6['TOT'].std(),1)\n",
    "print('Global: RAD accounts for '+str(pct_rad_explains)+'% of TOT standard deviation')\n",
    "print('Global: TOT-RAD accounts for remaining '+str(round(100-pct_rad_explains,1))+'% of TOT standard deviation')\n",
    "pct_rad_explains = np.round(TCR_2xco2_land_cmip6['RAD'].std()*100/TCR_2xco2_land_cmip6['TOT'].std(),1)\n",
    "print('Land: RAD accounts for '+str(pct_rad_explains)+'% of TOT standard deviation')\n",
    "print('Land: TOT-RAD accounts for remaining '+str(round(100-pct_rad_explains,1))+'% of TOT standard deviation')"
   ]
  },
  {
   "cell_type": "code",
   "execution_count": 103,
   "metadata": {},
   "outputs": [
    {
     "data": {
      "text/plain": [
       "TOT            2.743394\n",
       "RAD            2.520258\n",
       "TOT-RAD        0.223135\n",
       "PHYS           0.230471\n",
       "TOT-RAD_pct    7.812362\n",
       "dtype: float64"
      ]
     },
     "execution_count": 103,
     "metadata": {},
     "output_type": "execute_result"
    }
   ],
   "source": [
    "TCR_2xco2_land_cmip6.mean()"
   ]
  },
  {
   "cell_type": "code",
   "execution_count": 102,
   "metadata": {},
   "outputs": [
    {
     "name": "stdout",
     "output_type": "stream",
     "text": [
      "------Inter-Model Variation------\n",
      "------Global------\n",
      "TOT            100.000000\n",
      "RAD             98.572502\n",
      "TOT-RAD         20.141908\n",
      "PHYS            52.688652\n",
      "TOT-RAD_pct    953.860842\n",
      "dtype: float64\n",
      "------Land------\n",
      "TOT            100.000000\n",
      "RAD             88.241032\n",
      "TOT-RAD         29.682570\n",
      "PHYS            41.735747\n",
      "TOT-RAD_pct    927.770644\n",
      "dtype: float64\n"
     ]
    }
   ],
   "source": [
    "print('------Inter-Model Variation------')\n",
    "\n",
    "inter_model_range = ((TCR_2xco2_global_cmip6.max() - TCR_2xco2_global_cmip6.min())*100/(TCR_2xco2_global_cmip6['TOT'].max() - TCR_2xco2_global_cmip6['TOT'].min()))\n",
    "print('------Global------')\n",
    "print(inter_model_range)\n",
    "\n",
    "inter_model_range = ((TCR_2xco2_land_cmip6.max() - TCR_2xco2_land_cmip6.min())*100/(TCR_2xco2_land_cmip6['TOT'].max() - TCR_2xco2_land_cmip6['TOT'].min()))\n",
    "print('------Land------')\n",
    "print(inter_model_range)"
   ]
  },
  {
   "cell_type": "markdown",
   "metadata": {},
   "source": [
    "#### All Models, 2xCO2\n",
    "\n",
    "In CMIP6 models, the physiological effect contributes A°C (standard deviation: B°C; range: C-D°C) of warming to the TCR, corresponding to E% of the full TCR (standard deviation: F%; range: G-H%). \n",
    "\n",
    "* In CMIP5 models, PHY contributes I ± J°C (and a range of K-L°C) to the TCR\n",
    "* corresponding to M ± N% of the full TCR (and a range of O-P%)\n",
    "\n",
    "#### Same Model Subset, 2xCO2\n",
    "* mean TCRPHYS across models remained roughly constant (Table S4).\n",
    "* TCRPHYS increased for Q/R models\n",
    "\n",
    "#### All Models, 4xCO2\n",
    "* by 4xCO2, physiologically-forced warming reaches S-T° (U-V%) of warming (mean: W°, X%)"
   ]
  },
  {
   "cell_type": "code",
   "execution_count": null,
   "metadata": {},
   "outputs": [],
   "source": []
  }
 ],
 "metadata": {
  "kernelspec": {
   "display_name": "Python 3",
   "language": "python",
   "name": "python3"
  },
  "language_info": {
   "codemirror_mode": {
    "name": "ipython",
    "version": 3
   },
   "file_extension": ".py",
   "mimetype": "text/x-python",
   "name": "python",
   "nbconvert_exporter": "python",
   "pygments_lexer": "ipython3",
   "version": "3.7.2-final"
  }
 },
 "nbformat": 4,
 "nbformat_minor": 4
}