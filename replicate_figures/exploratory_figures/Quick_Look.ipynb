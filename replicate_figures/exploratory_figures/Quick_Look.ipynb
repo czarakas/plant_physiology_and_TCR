{
 "cells": [
  {
   "cell_type": "code",
   "execution_count": 3,
   "metadata": {},
   "outputs": [],
   "source": [
    "import sys\n",
    "sys.path.append('../../')\n",
    "\n",
    "import pickle\n",
    "import matplotlib.pyplot as plt"
   ]
  },
  {
   "cell_type": "code",
   "execution_count": 4,
   "metadata": {},
   "outputs": [],
   "source": [
    "from plants_and_TCR.analyze_data import grab_cmip_dataset\n",
    "from plants_and_TCR.analysis_parameters import directory_information\n",
    "from plants_and_TCR.process_data import area_weighting"
   ]
  },
  {
   "cell_type": "code",
   "execution_count": 5,
   "metadata": {},
   "outputs": [],
   "source": [
    "DIR_CMIP_DICTS = directory_information.DIR_DATA_DICTIONARIES\n",
    "CDICT = pickle.load(open(DIR_CMIP_DICTS+'cmip_dict.pickle', \"rb\"))"
   ]
  },
  {
   "cell_type": "code",
   "execution_count": 7,
   "metadata": {},
   "outputs": [
    {
     "data": {
      "text/html": [
       "<pre>&lt;xarray.DataArray &#x27;clt&#x27; (time: 1800, lat: 192, lon: 288)&gt;\n",
       "dask.array&lt;concatenate, shape=(1800, 192, 288), dtype=float32, chunksize=(600, 192, 288), chunktype=numpy.ndarray&gt;\n",
       "Coordinates:\n",
       "  * lon      (lon) float64 0.0 1.25 2.5 3.75 5.0 ... 355.0 356.2 357.5 358.8\n",
       "  * lat      (lat) float64 -90.0 -89.06 -88.12 -87.17 ... 87.17 88.12 89.06 90.0\n",
       "  * time     (time) object 0001-01-15 12:00:00 ... 0150-12-15 12:00:00\n",
       "Attributes:\n",
       "    cell_measures:  area: areacella\n",
       "    cell_methods:   area: time: mean\n",
       "    comment:        for the whole atmospheric column, as seen from the surfac...\n",
       "    description:    for the whole atmospheric column, as seen from the surfac...\n",
       "    frequency:      mon\n",
       "    id:             clt\n",
       "    long_name:      Total Cloud Cover Percentage\n",
       "    mipTable:       Amon\n",
       "    out_name:       clt\n",
       "    prov:           Amon ((isd.003))\n",
       "    realm:          atmos\n",
       "    standard_name:  cloud_area_fraction\n",
       "    time:           time\n",
       "    time_label:     time-mean\n",
       "    time_title:     Temporal mean\n",
       "    title:          Total Cloud Cover Percentage\n",
       "    type:           real\n",
       "    units:          %\n",
       "    variable_id:    clt</pre>"
      ],
      "text/plain": [
       "<xarray.DataArray 'clt' (time: 1800, lat: 192, lon: 288)>\n",
       "dask.array<concatenate, shape=(1800, 192, 288), dtype=float32, chunksize=(600, 192, 288), chunktype=numpy.ndarray>\n",
       "Coordinates:\n",
       "  * lon      (lon) float64 0.0 1.25 2.5 3.75 5.0 ... 355.0 356.2 357.5 358.8\n",
       "  * lat      (lat) float64 -90.0 -89.06 -88.12 -87.17 ... 87.17 88.12 89.06 90.0\n",
       "  * time     (time) object 0001-01-15 12:00:00 ... 0150-12-15 12:00:00\n",
       "Attributes:\n",
       "    cell_measures:  area: areacella\n",
       "    cell_methods:   area: time: mean\n",
       "    comment:        for the whole atmospheric column, as seen from the surfac...\n",
       "    description:    for the whole atmospheric column, as seen from the surfac...\n",
       "    frequency:      mon\n",
       "    id:             clt\n",
       "    long_name:      Total Cloud Cover Percentage\n",
       "    mipTable:       Amon\n",
       "    out_name:       clt\n",
       "    prov:           Amon ((isd.003))\n",
       "    realm:          atmos\n",
       "    standard_name:  cloud_area_fraction\n",
       "    time:           time\n",
       "    time_label:     time-mean\n",
       "    time_title:     Temporal mean\n",
       "    title:          Total Cloud Cover Percentage\n",
       "    type:           real\n",
       "    units:          %\n",
       "    variable_id:    clt"
      ]
     },
     "execution_count": 7,
     "metadata": {},
     "output_type": "execute_result"
    }
   ],
   "source": [
    "ds=grab_cmip_dataset.grab_cmip_dataset(CDICT, 'CESM2','1pctCO2','clt')\n",
    "ds['clt']"
   ]
  },
  {
   "cell_type": "code",
   "execution_count": 103,
   "metadata": {},
   "outputs": [],
   "source": [
    "modelname = 'NorESM2-LM'\n",
    "ds_FULL = grab_cmip_dataset.grab_cmip_dataset(CDICT, modelname,'1pctCO2','tas')\n",
    "ds_RAD = grab_cmip_dataset.grab_cmip_dataset(CDICT, modelname,'1pctCO2-rad','tas')\n",
    "ds_PI = grab_cmip_dataset.grab_cmip_dataset(CDICT, modelname,'piControl','tas')"
   ]
  },
  {
   "cell_type": "code",
   "execution_count": 104,
   "metadata": {},
   "outputs": [],
   "source": [
    "average_type='global'\n",
    "ds_FULL_global = area_weighting.get_global_mean_timeseries(ds_FULL, modelname, average_type)\n",
    "ds_PI_global = area_weighting.get_global_mean_timeseries(ds_PI, modelname, average_type)"
   ]
  },
  {
   "cell_type": "code",
   "execution_count": 106,
   "metadata": {},
   "outputs": [
    {
     "data": {
      "text/plain": [
       "[<matplotlib.lines.Line2D at 0x7faf412c5780>]"
      ]
     },
     "execution_count": 106,
     "metadata": {},
     "output_type": "execute_result"
    },
    {
     "data": {
      "image/png": "[encoded data removed]",
      "text/plain": [
       "<Figure size 432x288 with 1 Axes>"
      ]
     },
     "metadata": {
      "needs_background": "light"
     },
     "output_type": "display_data"
    }
   ],
   "source": [
    "import numpy as np\n",
    "plt.plot(np.arange(0,40),ds_PI_global[0:40])\n",
    "plt.plot(np.arange(0,40),ds_FULL_global[0:40])"
   ]
  },
  {
   "cell_type": "code",
   "execution_count": null,
   "metadata": {},
   "outputs": [],
   "source": []
  }
 ],
 "metadata": {
  "kernelspec": {
   "display_name": "Python 3",
   "language": "python",
   "name": "python3"
  },
  "language_info": {
   "codemirror_mode": {
    "name": "ipython",
    "version": 3
   },
   "file_extension": ".py",
   "mimetype": "text/x-python",
   "name": "python",
   "nbconvert_exporter": "python",
   "pygments_lexer": "ipython3",
   "version": "3.7.2"
  }
 },
 "nbformat": 4,
 "nbformat_minor": 4
}
