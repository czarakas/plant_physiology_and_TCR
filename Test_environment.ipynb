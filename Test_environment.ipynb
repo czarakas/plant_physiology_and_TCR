{
 "cells": [
  {
   "cell_type": "code",
   "execution_count": 1,
   "metadata": {},
   "outputs": [],
   "source": [
    "# Python standard library\n",
    "import sys\n",
    "import os\n",
    "import time\n",
    "import pickle\n",
    "import glob\n",
    "import unittest"
   ]
  },
  {
   "cell_type": "code",
   "execution_count": 2,
   "metadata": {},
   "outputs": [],
   "source": [
    "# Common python packages\n",
    "# conda install numpy pandas scipy matplotlib xarray cartopy cftime\n",
    "import numpy #conda install numpy\n",
    "import pandas #conda install pandas\n",
    "import scipy #conda install scipy\n",
    "import matplotlib #conda install matplotlib\n",
    "import xarray #conda install xarray\n",
    "import cartopy #conda install cartopy\n",
    "import cftime #conda install cftime"
   ]
  },
  {
   "cell_type": "code",
   "execution_count": 3,
   "metadata": {},
   "outputs": [],
   "source": [
    "# Less common python packages\n",
    "import xesmf #conda install -c conda-forge xesmf"
   ]
  },
  {
   "cell_type": "code",
   "execution_count": 1,
   "metadata": {},
   "outputs": [],
   "source": [
    "#Other things to have installed in environment\n",
    "# conda create -n plants_and_TCR_v3 python=3.7.2\n",
    "# conda install pytest pylint jupyter\n",
    "# conda install -c conda-forge jupyterlab\n",
    "# conda install -c conda-forge dask netCDF4"
   ]
  }
 ],
 "metadata": {
  "kernelspec": {
   "display_name": "Python 3",
   "language": "python",
   "name": "python3"
  },
  "language_info": {
   "codemirror_mode": {
    "name": "ipython",
    "version": 3
   },
   "file_extension": ".py",
   "mimetype": "text/x-python",
   "name": "python",
   "nbconvert_exporter": "python",
   "pygments_lexer": "ipython3",
   "version": "3.7.6"
  }
 },
 "nbformat": 4,
 "nbformat_minor": 4
}
